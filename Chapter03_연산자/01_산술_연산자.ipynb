{
 "cells": [
  {
   "cell_type": "markdown",
   "metadata": {},
   "source": [
    "# Chapter 03: 연산자\n",
    "## 01. 산술 연산자\n",
    "\n",
    "### 학습 목표\n",
    "- 파이썬의 산술 연산자를 이해하고 사용할 수 있다\n",
    "- 연산자의 종류와 역할을 파악할 수 있다\n",
    "- 다양한 산술 연산을 실습을 통해 익힐 수 있다"
   ]
  },
  {
   "cell_type": "markdown",
   "metadata": {},
   "source": [
    "---\n",
    "\n",
    "## 1. 산술 연산자란?\n",
    "\n",
    "산술 연산자는 수학적 계산을 수행하는 기호입니다.\n",
    "파이썬에서 제공하는 기본적인 산술 연산자들을 알아보겠습니다.\n",
    "\n",
    "### 기본 산술 연산자\n",
    "\n",
    "| 연산자 | 이름 | 설명 | 예시 |\n",
    "|-------|------|------|------|\n",
    "| + | 덧셈 | 두 값을 더함 | 5 + 3 = 8 |\n",
    "| - | 뺄셈 | 첫 번째 값에서 두 번째 값을 뺌 | 5 - 3 = 2 |\n",
    "| * | 곱셈 | 두 값을 곱함 | 5 * 3 = 15 |\n",
    "| / | 나눗셈 | 첫 번째 값을 두 번째 값으로 나눔 | 5 / 3 = 1.666... |\n",
    "| // | 정수 나눗셈 | 나눗셈의 몫만 반환 | 5 // 3 = 1 |\n",
    "| % | 나머지 | 나눗셈의 나머지 반환 | 5 % 3 = 2 |\n",
    "| ** | 거듭제곱 | 첫 번째 값을 두 번째 값으로 거듭제곱 | 5 ** 3 = 125 |"
   ]
  },
  {
   "cell_type": "markdown",
   "metadata": {},
   "source": [
    "---\n",
    "\n",
    "## 2. 기본 산술 연산자 실습"
   ]
  },
  {
   "cell_type": "code",
   "execution_count": null,
   "metadata": {},
   "outputs": [],
   "source": [
    "# 기본 산술 연산자 예제\n",
    "a = 10\n",
    "b = 3\n",
    "\n",
    "print(f\"a = {a}, b = {b}\")\n",
    "print()\n",
    "\n",
    "# 덧셈\n",
    "print(f\"덧셈: {a} + {b} = {a + b}\")\n",
    "\n",
    "# 뺄셈\n",
    "print(f\"뺄셈: {a} - {b} = {a - b}\")\n",
    "\n",
    "# 곱셈\n",
    "print(f\"곱셈: {a} * {b} = {a * b}\")\n",
    "\n",
    "# 나눗셈\n",
    "print(f\"나눗셈: {a} / {b} = {a / b}\")"
   ]
  },
  {
   "cell_type": "code",
   "execution_count": null,
   "metadata": {},
   "outputs": [],
   "source": [
    "# 정수 나눗셈, 나머지, 거듭제곱\n",
    "print(\"특수 산술 연산자\")\n",
    "print()\n",
    "\n",
    "# 정수 나눗셈 (몫만 반환)\n",
    "print(f\"정수 나눗셈: {a} // {b} = {a // b}\")\n",
    "\n",
    "# 나머지 연산\n",
    "print(f\"나머지: {a} % {b} = {a % b}\")\n",
    "\n",
    "# 거듭제곱\n",
    "print(f\"거듭제곱: {a} ** {b} = {a ** b}\")"
   ]
  },
  {
   "cell_type": "markdown",
   "metadata": {},
   "source": [
    "---\n",
    "\n",
    "## 3. 음수와 양수 처리"
   ]
  },
  {
   "cell_type": "code",
   "execution_count": null,
   "metadata": {},
   "outputs": [],
   "source": [
    "# 음수와 양수 처리\n",
    "positive_num = 5\n",
    "negative_num = -3\n",
    "\n",
    "print(f\"양수: {positive_num}\")\n",
    "print(f\"음수: {negative_num}\")\n",
    "print()\n",
    "\n",
    "# 부호 연산자\n",
    "print(f\"양수 부호: +{positive_num} = {+positive_num}\")\n",
    "print(f\"음수 부호: -{positive_num} = {-positive_num}\")\n",
    "print(f\"음수의 음수: -({negative_num}) = {-negative_num}\")"
   ]
  },
  {
   "cell_type": "markdown",
   "metadata": {},
   "source": [
    "---\n",
    "\n",
    "## 4. 실수와 정수 연산"
   ]
  },
  {
   "cell_type": "code",
   "execution_count": null,
   "metadata": {},
   "outputs": [],
   "source": [
    "# 정수와 실수 혼합 연산\n",
    "integer_num = 7\n",
    "float_num = 2.5\n",
    "\n",
    "print(f\"정수: {integer_num}, 실수: {float_num}\")\n",
    "print()\n",
    "\n",
    "# 혼합 연산의 결과는 실수\n",
    "print(f\"정수 + 실수: {integer_num} + {float_num} = {integer_num + float_num}\")\n",
    "print(f\"정수 * 실수: {integer_num} * {float_num} = {integer_num * float_num}\")\n",
    "print(f\"정수 / 실수: {integer_num} / {float_num} = {integer_num / float_num}\")\n",
    "print(f\"정수 // 실수: {integer_num} // {float_num} = {integer_num // float_num}\")"
   ]
  },
  {
   "cell_type": "markdown",
   "metadata": {},
   "source": [
    "---\n",
    "\n",
    "## 5. 나눗셈 연산의 차이점"
   ]
  },
  {
   "cell_type": "code",
   "execution_count": null,
   "metadata": {},
   "outputs": [],
   "source": [
    "# 나눗셈 연산의 차이점 비교\n",
    "dividend = 17  # 피제수\n",
    "divisor = 5    # 제수\n",
    "\n",
    "print(f\"피제수: {dividend}, 제수: {divisor}\")\n",
    "print()\n",
    "\n",
    "# 일반 나눗셈 (결과는 실수)\n",
    "result_division = dividend / divisor\n",
    "print(f\"일반 나눗셈: {dividend} / {divisor} = {result_division}\")\n",
    "print(f\"결과 타입: {type(result_division)}\")\n",
    "print()\n",
    "\n",
    "# 정수 나눗셈 (몫만 반환)\n",
    "result_floor_division = dividend // divisor\n",
    "print(f\"정수 나눗셈: {dividend} // {divisor} = {result_floor_division}\")\n",
    "print(f\"결과 타입: {type(result_floor_division)}\")\n",
    "print()\n",
    "\n",
    "# 나머지 연산\n",
    "result_modulo = dividend % divisor\n",
    "print(f\"나머지 연산: {dividend} % {divisor} = {result_modulo}\")\n",
    "print()\n",
    "\n",
    "# 검증: 몫 × 제수 + 나머지 = 피제수\n",
    "verification = result_floor_division * divisor + result_modulo\n",
    "print(f\"검증: {result_floor_division} × {divisor} + {result_modulo} = {verification}\")"
   ]
  },
  {
   "cell_type": "markdown",
   "metadata": {},
   "source": [
    "---\n",
    "\n",
    "## 6. 거듭제곱 연산 활용"
   ]
  },
  {
   "cell_type": "code",
   "execution_count": null,
   "metadata": {},
   "outputs": [],
   "source": [
    "# 거듭제곱 연산 예제\n",
    "base = 2\n",
    "\n",
    "print(f\"밑수: {base}\")\n",
    "print()\n",
    "\n",
    "# 다양한 지수로 거듭제곱\n",
    "for exponent in range(0, 6):\n",
    "    result = base ** exponent\n",
    "    print(f\"{base}^{exponent} = {result}\")\n",
    "\n",
    "print()\n",
    "\n",
    "# 음수 지수 (분수 결과)\n",
    "print(\"음수 지수 예제:\")\n",
    "print(f\"{base}^(-1) = {base ** -1}\")\n",
    "print(f\"{base}^(-2) = {base ** -2}\")\n",
    "\n",
    "print()\n",
    "\n",
    "# 실수 지수 (제곱근)\n",
    "print(\"실수 지수 예제:\")\n",
    "number = 9\n",
    "print(f\"{number}^(0.5) = {number ** 0.5}\")\n",
    "print(f\"{number}^(1/3) = {number ** (1/3)}\")"
   ]
  },
  {
   "cell_type": "markdown",
   "metadata": {},
   "source": [
    "---\n",
    "\n",
    "## 7. 복합 대입 연산자"
   ]
  },
  {
   "cell_type": "code",
   "execution_count": null,
   "metadata": {},
   "outputs": [],
   "source": [
    "# 복합 대입 연산자\n",
    "# 기본 값 설정\n",
    "num = 10\n",
    "print(f\"초기 값: {num}\")\n",
    "print()\n",
    "\n",
    "# += (덧셈 후 대입)\n",
    "num += 5  # num = num + 5와 같음\n",
    "print(f\"num += 5 결과: {num}\")\n",
    "\n",
    "# -= (뺄셈 후 대입)\n",
    "num -= 3  # num = num - 3과 같음\n",
    "print(f\"num -= 3 결과: {num}\")\n",
    "\n",
    "# *= (곱셈 후 대입)\n",
    "num *= 2  # num = num * 2와 같음\n",
    "print(f\"num *= 2 결과: {num}\")\n",
    "\n",
    "# /= (나눗셈 후 대입)\n",
    "num /= 4  # num = num / 4와 같음\n",
    "print(f\"num /= 4 결과: {num}\")\n",
    "\n",
    "# //= (정수 나눗셈 후 대입)\n",
    "num //= 2  # num = num // 2와 같음\n",
    "print(f\"num //= 2 결과: {num}\")\n",
    "\n",
    "# %= (나머지 연산 후 대입)\n",
    "num = 17\n",
    "num %= 5  # num = num % 5와 같음\n",
    "print(f\"num = 17, num %= 5 결과: {num}\")\n",
    "\n",
    "# **= (거듭제곱 후 대입)\n",
    "num **= 3  # num = num ** 3과 같음\n",
    "print(f\"num **= 3 결과: {num}\")"
   ]
  },
  {
   "cell_type": "markdown",
   "metadata": {},
   "source": [
    "---\n",
    "\n",
    "## 8. 실습 문제"
   ]
  },
  {
   "cell_type": "code",
   "execution_count": null,
   "metadata": {},
   "outputs": [],
   "source": [
    "# 실습 문제 1: 원의 넓이와 둘레 계산\n",
    "# 반지름이 주어졌을 때 원의 넓이와 둘레를 계산하세요\n",
    "\n",
    "import math\n",
    "\n",
    "radius = 5\n",
    "pi = math.pi\n",
    "\n",
    "print(f\"반지름: {radius}\")\n",
    "print(f\"π 값: {pi:.6f}\")\n",
    "print()\n",
    "\n",
    "# 원의 넓이 = π × r²\n",
    "area = pi * radius ** 2\n",
    "print(f\"원의 넓이: π × {radius}² = {area:.2f}\")\n",
    "\n",
    "# 원의 둘레 = 2 × π × r\n",
    "circumference = 2 * pi * radius\n",
    "print(f\"원의 둘레: 2 × π × {radius} = {circumference:.2f}\")"
   ]
  },
  {
   "cell_type": "code",
   "execution_count": null,
   "metadata": {},
   "outputs": [],
   "source": [
    "# 실습 문제 2: 시간 단위 변환\n",
    "# 초 단위 시간을 시, 분, 초로 변환하세요\n",
    "\n",
    "total_seconds = 7385  # 총 초\n",
    "\n",
    "print(f\"총 초: {total_seconds}초\")\n",
    "print()\n",
    "\n",
    "# 시간 계산\n",
    "hours = total_seconds // 3600  # 1시간 = 3600초\n",
    "remaining_seconds = total_seconds % 3600\n",
    "\n",
    "# 분 계산\n",
    "minutes = remaining_seconds // 60  # 1분 = 60초\n",
    "seconds = remaining_seconds % 60\n",
    "\n",
    "print(f\"변환 결과: {hours}시간 {minutes}분 {seconds}초\")\n",
    "print()\n",
    "\n",
    "# 검증\n",
    "check_total = hours * 3600 + minutes * 60 + seconds\n",
    "print(f\"검증: {hours} × 3600 + {minutes} × 60 + {seconds} = {check_total}초\")"
   ]
  },
  {
   "cell_type": "code",
   "execution_count": null,
   "metadata": {},
   "outputs": [],
   "source": [
    "# 실습 문제 3: 복리 계산\n",
    "# 원금, 이자율, 기간이 주어졌을 때 복리를 계산하세요\n",
    "# 공식: 원금 × (1 + 이자율)^기간\n",
    "\n",
    "principal = 1000000  # 원금 (백만원)\n",
    "interest_rate = 0.03  # 연 이자율 (3%)\n",
    "years = 5  # 기간 (5년)\n",
    "\n",
    "print(f\"원금: {principal:,}원\")\n",
    "print(f\"연 이자율: {interest_rate * 100}%\")\n",
    "print(f\"기간: {years}년\")\n",
    "print()\n",
    "\n",
    "# 복리 계산\n",
    "final_amount = principal * (1 + interest_rate) ** years\n",
    "earned_interest = final_amount - principal\n",
    "\n",
    "print(f\"최종 금액: {final_amount:,.0f}원\")\n",
    "print(f\"수익 금액: {earned_interest:,.0f}원\")\n",
    "print(f\"수익률: {(earned_interest / principal) * 100:.2f}%\")"
   ]
  },
  {
   "cell_type": "markdown",
   "metadata": {},
   "source": [
    "---\n",
    "\n",
    "## 9. 연습 문제"
   ]
  },
  {
   "cell_type": "code",
   "execution_count": null,
   "metadata": {},
   "outputs": [],
   "source": [
    "# 연습 문제: 다음 빈 칸을 채워서 코드를 완성하세요\n",
    "\n",
    "# 문제 1: 두 수의 평균 구하기\n",
    "num1 = 85\n",
    "num2 = 92\n",
    "\n",
    "# 평균 = (num1 + num2) / 2\n",
    "average = (num1 + num2) / 2  # 빈 칸을 채우세요\n",
    "print(f\"두 수 {num1}, {num2}의 평균: {average}\")\n",
    "\n",
    "# 문제 2: 거스름돈 계산\n",
    "price = 1250  # 상품 가격\n",
    "payment = 2000  # 지불한 금액\n",
    "\n",
    "change = payment - price  # 빈 칸을 채우세요\n",
    "print(f\"상품 가격: {price}원, 지불 금액: {payment}원\")\n",
    "print(f\"거스름돈: {change}원\")\n",
    "\n",
    "# 문제 3: 제곱근 구하기 (거듭제곱 이용)\n",
    "number = 16\n",
    "square_root = number ** 0.5  # 빈 칸을 채우세요\n",
    "print(f\"{number}의 제곱근: {square_root}\")"
   ]
  },
  {
   "cell_type": "markdown",
   "metadata": {},
   "source": [
    "---\n",
    "\n",
    "## 📝 정리\n",
    "\n",
    "### 오늘 배운 내용\n",
    "1. **기본 산술 연산자**: +, -, *, /, //, %, **\n",
    "2. **부호 연산자**: +num, -num\n",
    "3. **복합 대입 연산자**: +=, -=, *=, /=, //=, %=, **=\n",
    "4. **정수와 실수 연산의 차이점**\n",
    "5. **나눗셈과 나머지 연산의 활용**\n",
    "\n",
    "### 핵심 포인트\n",
    "- 정수끼리 나눗셈(/)해도 결과는 실수\n",
    "- 정수 나눗셈(//)은 몫만 반환\n",
    "- 나머지 연산(%)은 홀짝 판별, 순환 등에 활용\n",
    "- 복합 대입 연산자로 코드를 간결하게 작성 가능\n",
    "\n",
    "### 다음 시간 예고\n",
    "다음 시간에는 **비교 연산자와 논리 연산자**를 배워보겠습니다!"
   ]
  }
 ],
 "metadata": {
  "kernelspec": {
   "display_name": "Python 3",
   "language": "python",
   "name": "python3"
  },
  "language_info": {
   "codemirror_mode": {
    "name": "ipython",
    "version": 3
   },
   "file_extension": ".py",
   "mimetype": "text/x-python",
   "name": "python",
   "nbconvert_exporter": "python",
   "pygments_lexer": "ipython3",
   "version": "3.8.0"
  }
 },
 "nbformat": 4,
 "nbformat_minor": 4
}