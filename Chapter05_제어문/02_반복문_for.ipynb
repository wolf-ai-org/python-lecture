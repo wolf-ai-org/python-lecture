{
 "cells": [
  {
   "cell_type": "markdown",
   "metadata": {},
   "source": [
    "# 반복문 - for문\n",
    "\n",
    "## 학습 목표\n",
    "- for문의 개념과 필요성을 이해한다\n",
    "- 다양한 자료형과 함께 for문을 활용한다\n",
    "- range() 함수와 enumerate() 함수를 사용한다\n",
    "- 중첩 반복문을 구현한다\n",
    "\n",
    "## 1. for문이란?\n",
    "\n",
    "for문은 순회 가능한 객체의 각 요소에 대해 반복 작업을 수행하는 제어문입니다.\n",
    "- 정해진 횟수만큼 반복\n",
    "- 리스트, 튜플, 문자열 등을 순회\n",
    "- Python에서 가장 자주 사용되는 반복문"
   ]
  },
  {
   "cell_type": "code",
   "execution_count": null,
   "metadata": {},
   "outputs": [],
   "source": [
    "# 기본 for문 구조\n",
    "fruits = ['사과', '바나나', '오렌지']\n",
    "\n",
    "print(\"=== 과일 목록 ===\")\n",
    "for fruit in fruits:\n",
    "    print(f\"- {fruit}\")\n",
    "\n",
    "# 문자열 순회\n",
    "word = \"Python\"\n",
    "print(f\"\\n'{word}'의 각 글자:\")\n",
    "for char in word:\n",
    "    print(f\"'{char}'\")"
   ]
  },
  {
   "cell_type": "markdown",
   "metadata": {},
   "source": [
    "## 2. range() 함수와 함께 사용\n",
    "\n",
    "range() 함수로 숫자 시퀀스를 생성하여 반복할 수 있습니다."
   ]
  },
  {
   "cell_type": "code",
   "execution_count": null,
   "metadata": {},
   "outputs": [],
   "source": [
    "# 기본 range 사용\n",
    "print(\"0부터 4까지:\")\n",
    "for i in range(5):\n",
    "    print(i, end=' ')\n",
    "print()\n",
    "\n",
    "# 시작과 끝 지정\n",
    "print(\"\\n1부터 10까지:\")\n",
    "for i in range(1, 11):\n",
    "    print(i, end=' ')\n",
    "print()\n",
    "\n",
    "# 간격 지정\n",
    "print(\"\\n2의 배수:\")\n",
    "for i in range(2, 21, 2):\n",
    "    print(i, end=' ')\n",
    "print()\n",
    "\n",
    "# 역순\n",
    "print(\"\\n10부터 1까지:\")\n",
    "for i in range(10, 0, -1):\n",
    "    print(i, end=' ')\n",
    "print()"
   ]
  },
  {
   "cell_type": "markdown",
   "metadata": {},
   "source": [
    "## 3. enumerate() 함수\n",
    "\n",
    "인덱스와 값을 동시에 얻고 싶을 때 사용합니다."
   ]
  },
  {
   "cell_type": "code",
   "execution_count": null,
   "metadata": {},
   "outputs": [],
   "source": [
    "subjects = ['국어', '영어', '수학', '과학']\n",
    "\n",
    "print(\"=== 과목 목록 ===\")\n",
    "for index, subject in enumerate(subjects):\n",
    "    print(f\"{index + 1}. {subject}\")\n",
    "\n",
    "# 시작 번호 지정\n",
    "print(\"\\n=== 시작 번호 지정 ===\")\n",
    "for index, subject in enumerate(subjects, start=1):\n",
    "    print(f\"{index}번째 과목: {subject}\")"
   ]
  },
  {
   "cell_type": "markdown",
   "metadata": {},
   "source": [
    "## 4. 다양한 자료형과 for문"
   ]
  },
  {
   "cell_type": "code",
   "execution_count": null,
   "metadata": {},
   "outputs": [],
   "source": [
    "# 딕셔너리 순회\n",
    "student_scores = {'김철수': 85, '이영희': 92, '박민수': 78}\n",
    "\n",
    "print(\"=== 학생 성적 ===\")\n",
    "for name, score in student_scores.items():\n",
    "    grade = 'A' if score >= 90 else 'B' if score >= 80 else 'C'\n",
    "    print(f\"{name}: {score}점 ({grade}등급)\")\n",
    "\n",
    "# 집합 순회\n",
    "colors = {'빨강', '파랑', '노랑'}\n",
    "print(\"\\n색깔 목록:\")\n",
    "for color in colors:\n",
    "    print(f\"- {color}\")"
   ]
  },
  {
   "cell_type": "markdown",
   "metadata": {},
   "source": [
    "## 5. 중첩 반복문\n",
    "\n",
    "반복문 안에 또 다른 반복문을 넣을 수 있습니다."
   ]
  },
  {
   "cell_type": "code",
   "execution_count": null,
   "metadata": {},
   "outputs": [],
   "source": [
    "# 구구단 출력\n",
    "print(\"=== 구구단 ===\")\n",
    "for i in range(2, 6):  # 2단부터 5단까지\n",
    "    print(f\"\\n{i}단:\")\n",
    "    for j in range(1, 10):\n",
    "        result = i * j\n",
    "        print(f\"{i} × {j} = {result}\")\n",
    "\n",
    "# 별 패턴 출력\n",
    "print(\"\\n=== 별 패턴 ===\")\n",
    "for i in range(1, 6):\n",
    "    for j in range(i):\n",
    "        print(\"★\", end=\"\")\n",
    "    print()  # 줄바꿈"
   ]
  },
  {
   "cell_type": "markdown",
   "metadata": {},
   "source": [
    "## 6. 실습 문제"
   ]
  },
  {
   "cell_type": "code",
   "execution_count": null,
   "metadata": {},
   "outputs": [],
   "source": [
    "# 문제 1: 1부터 100까지의 합을 구하세요\n",
    "total = 0\n",
    "for i in range(1, 101):\n",
    "    total += i\n",
    "print(f\"1부터 100까지의 합: {total}\")\n",
    "\n",
    "# 문제 2: 리스트에서 짝수만 출력하세요\n",
    "numbers = [1, 2, 3, 4, 5, 6, 7, 8, 9, 10]\n",
    "print(\"\\n짝수:\")\n",
    "for num in numbers:\n",
    "    if num % 2 == 0:\n",
    "        print(num, end=' ')\n",
    "print()"
   ]
  },
  {
   "cell_type": "markdown",
   "metadata": {},
   "source": [
    "## 정리\n",
    "\n",
    "for문의 핵심:\n",
    "1. **순회**: 시퀀스의 각 요소를 하나씩 처리\n",
    "2. **range()**: 숫자 시퀀스 생성\n",
    "3. **enumerate()**: 인덱스와 값 동시 접근\n",
    "4. **중첩**: 복잡한 반복 패턴 구현\n",
    "\n",
    "다음 장에서는 while 반복문을 배워보겠습니다!"
   ]
  }
 ],
 "metadata": {
  "kernelspec": {
   "display_name": "Python 3",
   "language": "python",
   "name": "python3"
  },
  "language_info": {
   "codemirror_mode": {
    "name": "ipython",
    "version": 3
   },
   "file_extension": ".py",
   "mimetype": "text/x-python",
   "name": "python",
   "nbconvert_exporter": "python",
   "pygments_lexer": "ipython3",
   "version": "3.8.5"
  }
 },
 "nbformat": 4,
 "nbformat_minor": 4
}