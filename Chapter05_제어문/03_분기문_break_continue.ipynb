{
 "cells": [
  {
   "cell_type": "markdown",
   "metadata": {},
   "source": [
    "# 분기문 - break와 continue\n",
    "\n",
    "## 학습 목표\n",
    "- break문의 개념과 사용법을 익힌다\n",
    "- continue문의 개념과 사용법을 익힌다\n",
    "- break와 continue의 차이점을 이해한다\n",
    "- 중첩 반복문에서의 동작을 파악한다\n",
    "\n",
    "## 1. break문\n",
    "\n",
    "break문은 반복문을 즉시 종료하고 빠져나가는 명령어입니다.\n",
    "- 반복문 완전 종료\n",
    "- 반복문 다음 코드로 이동\n",
    "- for문과 while문 모두에서 사용 가능"
   ]
  },
  {
   "cell_type": "code",
   "execution_count": 1,
   "metadata": {},
   "outputs": [
    {
     "name": "stdout",
     "output_type": "stream",
     "text": [
      "=== break 예제 ===\n",
      "현재 숫자: 1\n",
      "현재 숫자: 2\n",
      "현재 숫자: 3\n",
      "현재 숫자: 4\n",
      "현재 숫자: 5\n",
      "6에서 반복 종료!\n",
      "반복문 종료 후 실행되는 코드\n"
     ]
    }
   ],
   "source": [
    "# break 기본 예제\n",
    "print(\"=== break 예제 ===\")\n",
    "for i in range(1, 11):\n",
    "    if i == 6:\n",
    "        print(f\"{i}에서 반복 종료!\")\n",
    "        break\n",
    "    print(f\"현재 숫자: {i}\")\n",
    "\n",
    "print(\"반복문 종료 후 실행되는 코드\")"
   ]
  },
  {
   "cell_type": "code",
   "execution_count": 3,
   "metadata": {},
   "outputs": [
    {
     "name": "stdout",
     "output_type": "stream",
     "text": [
      "리스트에서 30 찾기:\n",
      "인덱스 0: 10 확인\n",
      "인덱스 1: 25 확인\n",
      "인덱스 2: 30 확인\n",
      "30을 인덱스 2에서 발견!\n"
     ]
    }
   ],
   "source": [
    "# 리스트에서 특정 값 찾기\n",
    "numbers = [10, 25, 30, 45, 50, 65]\n",
    "target = 30\n",
    "found = False\n",
    "\n",
    "print(f\"리스트에서 {target} 찾기:\")\n",
    "for i, num in enumerate(numbers):\n",
    "    print(f\"인덱스 {i}: {num} 확인\")\n",
    "    if num == target:\n",
    "        print(f\"{target}을 인덱스 {i}에서 발견!\")\n",
    "        found = True\n",
    "        break\n",
    "\n",
    "if not found:\n",
    "    print(f\"{target}을 찾지 못했습니다.\")"
   ]
  },
  {
   "cell_type": "markdown",
   "metadata": {},
   "source": [
    "## 2. continue문\n",
    "\n",
    "continue문은 현재 반복을 건너뛰고 다음 반복으로 이동하는 명령어입니다.\n",
    "- 현재 반복만 건너뛰기\n",
    "- 반복문은 계속 진행\n",
    "- 조건문과 함께 자주 사용"
   ]
  },
  {
   "cell_type": "code",
   "execution_count": 4,
   "metadata": {},
   "outputs": [
    {
     "name": "stdout",
     "output_type": "stream",
     "text": [
      "=== continue 예제 ===\n",
      "홀수: 1\n",
      "홀수: 3\n",
      "홀수: 5\n",
      "홀수: 7\n",
      "홀수: 9\n",
      "모든 반복 완료\n"
     ]
    }
   ],
   "source": [
    "# continue 기본 예제\n",
    "print(\"=== continue 예제 ===\")\n",
    "for i in range(1, 11):\n",
    "    if i % 2 == 0:  # 짝수면 건너뛰기\n",
    "        continue\n",
    "    print(f\"홀수: {i}\")\n",
    "\n",
    "print(\"모든 반복 완료\")"
   ]
  },
  {
   "cell_type": "code",
   "execution_count": 11,
   "metadata": {},
   "outputs": [
    {
     "name": "stdout",
     "output_type": "stream",
     "text": [
      "성적 처리:\n",
      "유효한 점수: 85\n",
      "무효한 점수: -1 (건너뛰기)\n",
      "유효한 점수: 92\n",
      "무효한 점수: 105 (건너뛰기)\n",
      "유효한 점수: 78\n",
      "유효한 점수: 0\n",
      "유효한 점수: 88\n",
      "\n",
      "처리 결과:\n",
      "유효한 점수: [85, 92, 78, 0, 88]\n",
      "무효한 점수 개수: 2\n",
      "평균: 68.6\n"
     ]
    }
   ],
   "source": [
    "# 성적 처리에서 무효한 점수 건너뛰기\n",
    "scores = [85, -1, 92, 105, 78, 0, 88]\n",
    "valid_scores = []\n",
    "invalid_count = 0\n",
    "\n",
    "print(\"성적 처리:\")\n",
    "for score in scores:\n",
    "    # 무효한 점수 체크 (0~100 범위 벗어남)\n",
    "    if score < 0 or score > 100:\n",
    "        print(f\"무효한 점수: {score} (건너뛰기)\")\n",
    "        invalid_count += 1\n",
    "        continue\n",
    "    \n",
    "    print(f\"유효한 점수: {score}\")\n",
    "    valid_scores.append(score)\n",
    "\n",
    "print(f\"\\n처리 결과:\")\n",
    "print(f\"유효한 점수: {valid_scores}\")\n",
    "print(f\"무효한 점수 개수: {invalid_count}\")\n",
    "if valid_scores:\n",
    "    print(f\"평균: {sum(valid_scores) / len(valid_scores):.1f}\")"
   ]
  },
  {
   "cell_type": "markdown",
   "metadata": {},
   "source": [
    "## 3. break vs continue 비교"
   ]
  },
  {
   "cell_type": "code",
   "execution_count": 12,
   "metadata": {},
   "outputs": [
    {
     "name": "stdout",
     "output_type": "stream",
     "text": [
      "=== break와 continue 비교 ===\n",
      "\n",
      "1. break 사용:\n",
      "  숫자: 1\n",
      "  숫자: 2\n",
      "  3에서 break - 반복 완전 종료\n",
      "  break 후 반복문 밖 실행\n",
      "\n",
      "2. continue 사용:\n",
      "  숫자: 1\n",
      "  숫자: 2\n",
      "  3에서 continue - 현재 반복만 건너뛰기\n",
      "  숫자: 4\n",
      "  숫자: 5\n",
      "  continue 후 반복문 밖 실행\n"
     ]
    }
   ],
   "source": [
    "print(\"=== break와 continue 비교 ===\")\n",
    "\n",
    "print(\"\\n1. break 사용:\")\n",
    "for i in range(1, 6):\n",
    "    if i == 3:\n",
    "        print(f\"  {i}에서 break - 반복 완전 종료\")\n",
    "        break\n",
    "    print(f\"  숫자: {i}\")\n",
    "print(\"  break 후 반복문 밖 실행\")\n",
    "\n",
    "print(\"\\n2. continue 사용:\")\n",
    "for i in range(1, 6):\n",
    "    if i == 3:\n",
    "        print(f\"  {i}에서 continue - 현재 반복만 건너뛰기\")\n",
    "        continue\n",
    "    print(f\"  숫자: {i}\")\n",
    "print(\"  continue 후 반복문 밖 실행\")"
   ]
  },
  {
   "cell_type": "markdown",
   "metadata": {},
   "source": [
    "## 4. while문에서의 사용"
   ]
  },
  {
   "cell_type": "code",
   "execution_count": 13,
   "metadata": {},
   "outputs": [
    {
     "name": "stdout",
     "output_type": "stream",
     "text": [
      "=== while + break 예제 ===\n",
      "카운트: 1\n",
      "카운트: 2\n",
      "카운트: 3\n",
      "카운트: 4\n",
      "카운트: 5\n",
      "5에 도달했으므로 종료\n",
      "\n",
      "=== while + continue 예제 ===\n",
      "3의 배수가 아님: 1\n",
      "3의 배수가 아님: 2\n",
      "3의 배수가 아님: 4\n",
      "3의 배수가 아님: 5\n",
      "3의 배수가 아님: 7\n",
      "3의 배수가 아님: 8\n",
      "3의 배수가 아님: 10\n"
     ]
    }
   ],
   "source": [
    "# while문에서 break 사용\n",
    "print(\"=== while + break 예제 ===\")\n",
    "count = 0\n",
    "while True:  # 무한 루프\n",
    "    count += 1\n",
    "    print(f\"카운트: {count}\")\n",
    "    \n",
    "    if count >= 5:\n",
    "        print(\"5에 도달했으므로 종료\")\n",
    "        break\n",
    "\n",
    "# while문에서 continue 사용\n",
    "print(\"\\n=== while + continue 예제 ===\")\n",
    "num = 0\n",
    "while num < 10:\n",
    "    num += 1\n",
    "    \n",
    "    if num % 3 == 0:  # 3의 배수는 건너뛰기\n",
    "        continue\n",
    "    \n",
    "    print(f\"3의 배수가 아님: {num}\")"
   ]
  },
  {
   "cell_type": "markdown",
   "metadata": {},
   "source": [
    "## 5. 중첩 반복문에서의 break와 continue"
   ]
  },
  {
   "cell_type": "code",
   "execution_count": 14,
   "metadata": {},
   "outputs": [
    {
     "name": "stdout",
     "output_type": "stream",
     "text": [
      "=== 중첩 반복문에서 break ===\n",
      "외부 반복 1 시작\n",
      "  내부: 1\n",
      "  내부: 2\n",
      "  내부에서 break (j=3)\n",
      "외부 반복 1 종료\n",
      "\n",
      "외부 반복 2 시작\n",
      "  내부: 1\n",
      "  내부: 2\n",
      "  내부에서 break (j=3)\n",
      "외부 반복 2 종료\n",
      "\n",
      "외부 반복 3 시작\n",
      "  내부: 1\n",
      "  내부: 2\n",
      "  내부에서 break (j=3)\n",
      "외부 반복 3 종료\n",
      "\n",
      "=== 중첩 반복문에서 continue ===\n",
      "외부 반복 1:\n",
      "  내부: 1\n",
      "  내부: 2\n",
      "  내부: 4\n",
      "  내부: 5\n",
      "\n",
      "외부 반복 2:\n",
      "  내부: 1\n",
      "  내부: 2\n",
      "  내부: 4\n",
      "  내부: 5\n",
      "\n",
      "외부 반복 3:\n",
      "  내부: 1\n",
      "  내부: 2\n",
      "  내부: 4\n",
      "  내부: 5\n",
      "\n"
     ]
    }
   ],
   "source": [
    "# 중첩 반복문에서 break (안쪽 반복문만 종료)\n",
    "print(\"=== 중첩 반복문에서 break ===\")\n",
    "for i in range(1, 4):\n",
    "    print(f\"외부 반복 {i} 시작\")\n",
    "    for j in range(1, 6):\n",
    "        if j == 3:\n",
    "            print(f\"  내부에서 break (j={j})\")\n",
    "            break\n",
    "        print(f\"  내부: {j}\")\n",
    "    print(f\"외부 반복 {i} 종료\\n\")\n",
    "\n",
    "# 중첩 반복문에서 continue\n",
    "print(\"=== 중첩 반복문에서 continue ===\")\n",
    "for i in range(1, 4):\n",
    "    print(f\"외부 반복 {i}:\")\n",
    "    for j in range(1, 6):\n",
    "        if j == 3:\n",
    "            continue\n",
    "        print(f\"  내부: {j}\")\n",
    "    print()"
   ]
  },
  {
   "cell_type": "markdown",
   "metadata": {},
   "source": [
    "## 6. 실용적인 예제"
   ]
  },
  {
   "cell_type": "code",
   "execution_count": 17,
   "metadata": {},
   "outputs": [
    {
     "name": "stdout",
     "output_type": "stream",
     "text": [
      "=== 간단한 메뉴 시스템 ===\n",
      "\n",
      "--- 메뉴 ---\n",
      "1. 데이터 조회\n",
      "2. 데이터 추가\n",
      "3. 데이터 삭제\n",
      "0. 종료\n",
      "선택: 1\n",
      "데이터를 조회합니다.\n",
      "작업이 완료되었습니다.\n",
      "\n",
      "--- 메뉴 ---\n",
      "1. 데이터 조회\n",
      "2. 데이터 추가\n",
      "3. 데이터 삭제\n",
      "0. 종료\n",
      "선택: 2\n",
      "데이터를 추가합니다.\n",
      "작업이 완료되었습니다.\n",
      "\n",
      "--- 메뉴 ---\n",
      "1. 데이터 조회\n",
      "2. 데이터 추가\n",
      "3. 데이터 삭제\n",
      "0. 종료\n",
      "선택: 3\n",
      "데이터를 삭제합니다.\n",
      "작업이 완료되었습니다.\n",
      "\n",
      "--- 메뉴 ---\n",
      "1. 데이터 조회\n",
      "2. 데이터 추가\n",
      "3. 데이터 삭제\n",
      "0. 종료\n",
      "선택: 0\n",
      "프로그램을 종료합니다.\n"
     ]
    }
   ],
   "source": [
    "# 사용자 메뉴 시스템\n",
    "def menu_system():\n",
    "    menu_choices = ['1', '2', '3', '0']  # 시뮬레이션용\n",
    "    choice_index = 0\n",
    "    \n",
    "    print(\"=== 간단한 메뉴 시스템 ===\")\n",
    "    \n",
    "    while choice_index < len(menu_choices):\n",
    "        print(\"\\n--- 메뉴 ---\")\n",
    "        print(\"1. 데이터 조회\")\n",
    "        print(\"2. 데이터 추가\")\n",
    "        print(\"3. 데이터 삭제\")\n",
    "        print(\"0. 종료\")\n",
    "        \n",
    "        # choice = input(\"선택하세요: \")\n",
    "        choice = menu_choices[choice_index]  # 시뮬레이션\n",
    "        print(f\"선택: {choice}\")\n",
    "        choice_index += 1\n",
    "        \n",
    "        if choice == '0':\n",
    "            print(\"프로그램을 종료합니다.\")\n",
    "            break\n",
    "        elif choice == '1':\n",
    "            print(\"데이터를 조회합니다.\")\n",
    "        elif choice == '2':\n",
    "            print(\"데이터를 추가합니다.\")\n",
    "        elif choice == '3':\n",
    "            print(\"데이터를 삭제합니다.\")\n",
    "        else:\n",
    "            print(\"잘못된 선택입니다. 다시 선택해주세요.\")\n",
    "            continue\n",
    "        \n",
    "        print(\"작업이 완료되었습니다.\")\n",
    "\n",
    "menu_system()"
   ]
  },
  {
   "cell_type": "markdown",
   "metadata": {},
   "source": [
    "## 7. 실습 문제"
   ]
  },
  {
   "cell_type": "code",
   "execution_count": 16,
   "metadata": {},
   "outputs": [
    {
     "name": "stdout",
     "output_type": "stream",
     "text": [
      "2부터 20까지의 소수:\n",
      "2 3 5 7 11 13 17 19 \n",
      "\n",
      "100보다 큰 첫 번째 3의 배수:\n",
      "답: 102\n"
     ]
    }
   ],
   "source": [
    "# 문제 1: 소수 판별 (2부터 n-1까지 나누어 떨어지는지 확인)\n",
    "def is_prime(n):\n",
    "    if n < 2:\n",
    "        return False\n",
    "    \n",
    "    for i in range(2, int(n**0.5) + 1):\n",
    "        if n % i == 0:\n",
    "            return False\n",
    "    return True\n",
    "\n",
    "# 2부터 20까지 소수 찾기\n",
    "print(\"2부터 20까지의 소수:\")\n",
    "for num in range(2, 21):\n",
    "    if is_prime(num):\n",
    "        print(num, end=' ')\n",
    "print()\n",
    "\n",
    "# 문제 2: 첫 번째 100보다 큰 3의 배수 찾기\n",
    "print(\"\\n100보다 큰 첫 번째 3의 배수:\")\n",
    "num = 101\n",
    "while True:\n",
    "    if num % 3 == 0:\n",
    "        print(f\"답: {num}\")\n",
    "        break\n",
    "    num += 1"
   ]
  },
  {
   "cell_type": "markdown",
   "metadata": {},
   "source": [
    "## 정리\n",
    "\n",
    "이번 장에서 배운 내용:\n",
    "1. **break문**: 반복문을 완전히 종료\n",
    "2. **continue문**: 현재 반복만 건너뛰고 다음 반복 계속\n",
    "3. **활용 상황**: 조건부 제어, 예외 처리, 메뉴 시스템\n",
    "4. **중첩 반복문**: 안쪽 반복문에만 영향\n",
    "\n",
    "**사용 팁:**\n",
    "- break: 특정 조건에서 반복을 완전히 중단하고 싶을 때\n",
    "- continue: 특정 조건에서만 건너뛰고 나머지는 처리하고 싶을 때\n",
    "- 무한 루프와 break 조합으로 유연한 제어 가능\n",
    "\n",
    "다음은 미니프로젝트로 가위바위보 게임을 만들어보겠습니다!"
   ]
  },
  {
   "cell_type": "markdown",
   "metadata": {},
   "source": []
  }
 ],
 "metadata": {
  "kernelspec": {
   "display_name": "pystudy_env",
   "language": "python",
   "name": "python3"
  },
  "language_info": {
   "codemirror_mode": {
    "name": "ipython",
    "version": 3
   },
   "file_extension": ".py",
   "mimetype": "text/x-python",
   "name": "python",
   "nbconvert_exporter": "python",
   "pygments_lexer": "ipython3",
   "version": "3.12.7"
  }
 },
 "nbformat": 4,
 "nbformat_minor": 4
}
