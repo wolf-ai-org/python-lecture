{
 "cells": [
  {
   "cell_type": "markdown",
   "metadata": {},
   "source": [
    "# 반복문 - while문\n",
    "\n",
    "## 학습 목표\n",
    "- while문의 개념과 특징을 이해한다\n",
    "- for문과 while문의 차이점을 파악한다\n",
    "- 무한 루프와 조건 제어를 학습한다\n",
    "- 실용적인 while문 예제를 구현한다\n",
    "\n",
    "## 1. while문이란?\n",
    "\n",
    "while문은 조건이 참인 동안 계속 반복하는 제어문입니다.\n",
    "- 조건이 거짓이 될 때까지 반복\n",
    "- 반복 횟수가 미리 정해지지 않은 경우에 유용\n",
    "- 조건을 잘못 설정하면 무한 루프 발생 가능"
   ]
  },
  {
   "cell_type": "code",
   "execution_count": null,
   "metadata": {},
   "outputs": [],
   "source": [
    "# 기본 while문\n",
    "count = 1\n",
    "print(\"1부터 5까지 출력:\")\n",
    "while count <= 5:\n",
    "    print(f\"현재 숫자: {count}\")\n",
    "    count += 1  # 조건 변수를 변경해야 함!\n",
    "\n",
    "print(\"반복 종료\")"
   ]
  },
  {
   "cell_type": "markdown",
   "metadata": {},
   "source": [
    "## 2. for문 vs while문"
   ]
  },
  {
   "cell_type": "code",
   "execution_count": null,
   "metadata": {},
   "outputs": [],
   "source": [
    "# 같은 작업을 for문과 while문으로\n",
    "print(\"=== for문으로 1부터 5까지 ===\")\n",
    "for i in range(1, 6):\n",
    "    print(i, end=' ')\n",
    "print()\n",
    "\n",
    "print(\"\\n=== while문으로 1부터 5까지 ===\")\n",
    "i = 1\n",
    "while i <= 5:\n",
    "    print(i, end=' ')\n",
    "    i += 1\n",
    "print()"
   ]
  },
  {
   "cell_type": "markdown",
   "metadata": {},
   "source": [
    "## 3. 조건에 따른 반복"
   ]
  },
  {
   "cell_type": "code",
   "execution_count": null,
   "metadata": {},
   "outputs": [],
   "source": [
    "# 사용자 입력 받기 (시뮬레이션)\n",
    "# 실제로는 input() 함수 사용\n",
    "passwords = ['1111', '2222', '1234']  # 시뮬레이션용\n",
    "password_index = 0\n",
    "\n",
    "correct_password = \"1234\"\n",
    "attempts = 0\n",
    "max_attempts = 3\n",
    "\n",
    "print(\"=== 비밀번호 확인 시스템 ===\")\n",
    "while attempts < max_attempts:\n",
    "    # password = input(f\"비밀번호를 입력하세요 ({attempts + 1}/{max_attempts}): \")\n",
    "    password = passwords[password_index]  # 시뮬레이션\n",
    "    print(f\"입력된 비밀번호: {password}\")\n",
    "    \n",
    "    if password == correct_password:\n",
    "        print(\"✅ 로그인 성공!\")\n",
    "        break\n",
    "    else:\n",
    "        attempts += 1\n",
    "        password_index += 1\n",
    "        remaining = max_attempts - attempts\n",
    "        if remaining > 0:\n",
    "            print(f\"❌ 비밀번호가 틀렸습니다. {remaining}번 더 시도할 수 있습니다.\")\n",
    "        \n",
    "if attempts >= max_attempts:\n",
    "    print(\"🚫 최대 시도 횟수를 초과했습니다. 계정이 잠깁니다.\")"
   ]
  },
  {
   "cell_type": "markdown",
   "metadata": {},
   "source": [
    "## 4. 숫자 맞추기 게임"
   ]
  },
  {
   "cell_type": "code",
   "execution_count": null,
   "metadata": {},
   "outputs": [],
   "source": [
    "import random\n",
    "\n",
    "# 숫자 맞추기 게임\n",
    "secret_number = random.randint(1, 100)\n",
    "guesses = [50, 75, 80, 85, 83]  # 시뮬레이션용 추측값들\n",
    "guess_index = 0\n",
    "attempts = 0\n",
    "\n",
    "print(\"=== 숫자 맞추기 게임 ===\")\n",
    "print(\"1부터 100 사이의 숫자를 맞춰보세요!\")\n",
    "print(f\"(정답: {secret_number})\")\n",
    "\n",
    "while guess_index < len(guesses):\n",
    "    # guess = int(input(\"숫자를 입력하세요: \"))\n",
    "    guess = guesses[guess_index]  # 시뮬레이션\n",
    "    attempts += 1\n",
    "    \n",
    "    print(f\"시도 {attempts}: {guess}\")\n",
    "    \n",
    "    if guess == secret_number:\n",
    "        print(f\"🎉 정답입니다! {attempts}번 만에 맞췄습니다!\")\n",
    "        break\n",
    "    elif guess < secret_number:\n",
    "        print(\"📈 더 큰 숫자입니다.\")\n",
    "    else:\n",
    "        print(\"📉 더 작은 숫자입니다.\")\n",
    "    \n",
    "    guess_index += 1\n",
    "\n",
    "if guess_index >= len(guesses) and guess != secret_number:\n",
    "    print(f\"게임 종료! 정답은 {secret_number}이었습니다.\")"
   ]
  },
  {
   "cell_type": "markdown",
   "metadata": {},
   "source": [
    "## 5. 실습 문제"
   ]
  },
  {
   "cell_type": "code",
   "execution_count": null,
   "metadata": {},
   "outputs": [],
   "source": [
    "# 문제 1: 팩토리얼 계산\n",
    "def factorial_while(n):\n",
    "    result = 1\n",
    "    i = 1\n",
    "    while i <= n:\n",
    "        result *= i\n",
    "        i += 1\n",
    "    return result\n",
    "\n",
    "print(\"5! =\", factorial_while(5))\n",
    "\n",
    "# 문제 2: 피보나치 수열 (10개)\n",
    "a, b = 0, 1\n",
    "count = 0\n",
    "print(\"\\n피보나치 수열 (10개):\")\n",
    "while count < 10:\n",
    "    print(a, end=' ')\n",
    "    a, b = b, a + b\n",
    "    count += 1\n",
    "print()"
   ]
  },
  {
   "cell_type": "markdown",
   "metadata": {},
   "source": [
    "## 정리\n",
    "\n",
    "while문의 특징:\n",
    "1. **조건 기반**: 조건이 참인 동안 반복\n",
    "2. **유연성**: 복잡한 조건과 상황에 적합\n",
    "3. **주의점**: 무한 루프 방지를 위한 조건 변경 필수\n",
    "\n",
    "**언제 while문을 사용할까?**\n",
    "- 반복 횟수를 미리 알 수 없을 때\n",
    "- 특정 조건이 만족될 때까지 반복할 때\n",
    "- 사용자 입력에 따라 반복을 제어할 때\n",
    "\n",
    "다음 장에서는 break와 continue문을 배워보겠습니다!"
   ]
  }
 ],
 "metadata": {
  "kernelspec": {
   "display_name": "Python 3",
   "language": "python",
   "name": "python3"
  },
  "language_info": {
   "codemirror_mode": {
    "name": "ipython",
    "version": 3
   },
   "file_extension": ".py",
   "mimetype": "text/x-python",
   "name": "python",
   "nbconvert_exporter": "python",
   "pygments_lexer": "ipython3",
   "version": "3.8.5"
  }
 },
 "nbformat": 4,
 "nbformat_minor": 4
}