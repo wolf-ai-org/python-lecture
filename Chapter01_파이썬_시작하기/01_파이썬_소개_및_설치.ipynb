{
 "cells": [
  {
   "cell_type": "markdown",
   "metadata": {},
   "source": [
    "# 01. 파이썬 소개 및 설치\n",
    "\n",
    "## 학습 목표\n",
    "- Python이 무엇인지 이해하기\n",
    "- Python의 특징과 장점 알아보기\n",
    "- Python 설치하기\n",
    "- Python 실행 환경 확인하기\n",
    "- 가장 기본적인 출력 명령어 사용해보기\n",
    "\n",
    "---"
   ]
  },
  {
   "cell_type": "markdown",
   "metadata": {},
   "source": [
    "## Python이 무엇인가요?\n",
    "\n",
    "### Python의 탄생 이야기\n",
    "\n",
    "Python은 1991년 네덜란드의 **귀도 반 로썸(Guido van Rossum)**이 만든 프로그래밍 언어입니다.\n",
    "\n",
    "**재미있는 사실**: Python이라는 이름은 뱀에서 온 것이 아니라, 영국의 코미디 그룹 **\"Monty Python's Flying Circus\"**에서 따온 것입니다. 귀도가 이 프로그램의 팬이었기 때문입니다.\n",
    "\n",
    "### Python의 철학\n",
    "\n",
    "Python에는 \"아름다운 것이 추한 것보다 낫다\", \"명확한 것이 모호한 것보다 낫다\", \"단순한 것이 복잡한 것보다 낫다\"와 같은 특별한 철학이 있습니다. 핵심은 **\"간단하고 읽기 쉬운 코드\"**를 만드는 것입니다.\n",
    "\n",
    "### Python의 역사\n",
    "\n",
    "| 연도 | 주요 사건 |\n",
    "|------|----------|\n",
    "| **1989년** | 귀도 반 로썸이 Python 개발 시작 |\n",
    "| **1991년** | Python 0.9.0 첫 번째 공개 |\n",
    "| **1994년** | Python 1.0 출시 |\n",
    "| **2000년** | Python 2.0 출시 |\n",
    "| **2008년** | Python 3.0 출시 (현재 사용하는 버전) |\n",
    "| **2020년** | Python 2 지원 완전 종료 |"
   ]
  },
  {
   "cell_type": "markdown",
   "metadata": {},
   "source": [
    "## 왜 Python을 배워야 할까요?\n",
    "\n",
    "### 1. 배우기 쉬워요\n",
    "Python은 영어와 비슷한 문법을 가지고 있어서 초보자도 쉽게 배울 수 있습니다.\n",
    "\n",
    "**다른 언어 vs Python 비교:**\n",
    "\n",
    "**Java로 \"Hello, World!\" 출력하기:**\n",
    "```java\n",
    "public class HelloWorld {\n",
    "    public static void main(String[] args) {\n",
    "        System.out.println(\"Hello, World!\");\n",
    "    }\n",
    "}\n",
    "```\n",
    "\n",
    "**C언어로 \"Hello, World!\" 출력하기:**\n",
    "```c\n",
    "#include <stdio.h>\n",
    "int main() {\n",
    "    printf(\"Hello, World!\\n\");\n",
    "    return 0;\n",
    "}\n",
    "```\n",
    "\n",
    "**Python으로 \"Hello, World!\" 출력하기:**\n",
    "```python\n",
    "print(\"Hello, World!\")\n",
    "```\n",
    "\n",
    "훨씬 간단하지요?"
   ]
  },
  {
   "cell_type": "markdown",
   "metadata": {},
   "source": [
    "### 2. 다양한 분야에서 활용됩니다\n",
    "\n",
    "| 분야 | 설명 | 유명한 예시 |\n",
    "|------|------|-------------|\n",
    "| **인공지능/머신러닝** | AI 모델 개발 | ChatGPT, 알파고 |\n",
    "| **웹 개발** | 웹사이트 백엔드 | Instagram, YouTube, Spotify |\n",
    "| **데이터 분석** | 빅데이터 처리 | Netflix 추천 시스템 |\n",
    "| **게임 개발** | 게임 제작 | EVE Online, Civilization IV |\n",
    "| **과학 계산** | 연구용 프로그램 | NASA 우주 프로젝트 |\n",
    "| **자동화** | 반복 작업 자동화 | 파일 정리, 이메일 발송 |\n",
    "| **블록체인** | 암호화폐 개발 | 비트코인 일부 구성요소 |"
   ]
  },
  {
   "cell_type": "markdown",
   "metadata": {},
   "source": [
    "### 3. 취업에도 유리해요\n",
    "\n",
    "**2024년 개발자 연봉 순위에서 Python은 항상 상위권입니다.**\n",
    "\n",
    "### 4. 전 세계 커뮤니티가 활발해요\n",
    "\n",
    "- **Stack Overflow**에서 가장 많이 질문되는 언어\n",
    "- **GitHub**에서 가장 인기 있는 언어 중 하나\n",
    "- 수많은 오픈소스 라이브러리가 무료로 제공됨\n",
    "- **Python Software Foundation**이 지원하는 안정적인 언어\n",
    "\n",
    "### 5. 대기업들도 Python을 사용해요\n",
    "\n",
    "- **구글(Google)**: 검색 엔진 일부\n",
    "- **넷플릭스(Netflix)**: 추천 알고리즘\n",
    "- **인스타그램(Instagram)**: 웹 서버\n",
    "- **스포티파이(Spotify)**: 음악 분석\n",
    "- **드롭박스(Dropbox)**: 파일 동기화"
   ]
  },
  {
   "cell_type": "markdown",
   "metadata": {},
   "source": [
    "## Python 설치하기\n",
    "\n",
    "### Windows 사용자\n",
    "\n",
    "1. **공식 웹사이트 방문**: [python.org](https://python.org)\n",
    "2. **Download** 버튼 클릭\n",
    "3. **Python 3.12.x** (최신 버전) 다운로드\n",
    "4. **⚠️ 중요! \"Add Python to PATH\"** 체크박스 꼭 선택하세요!\n",
    "5. Install Now 클릭\n",
    "6. 설치 완료 후 \"Disable path length limit\" 클릭 (권장)\n",
    "\n",
    "### macOS 사용자\n",
    "\n",
    "**방법 1: 공식 설치 프로그램**\n",
    "1. [python.org](https://python.org)에서 macOS용 설치 프로그램 다운로드\n",
    "2. .pkg 파일 실행하여 설치\n",
    "\n",
    "**방법 2: Homebrew 사용**\n",
    "1. **Homebrew 설치** (없다면): 터미널에서 실행\n",
    "```bash\n",
    "/bin/bash -c \"$(curl -fsSL https://raw.githubusercontent.com/Homebrew/install/HEAD/install.sh)\"\n",
    "```\n",
    "2. **터미널에서 실행**: \n",
    "```bash\n",
    "brew install python\n",
    "```\n",
    "\n",
    "### Linux 사용자\n",
    "\n",
    "**Ubuntu/Debian:**\n",
    "```bash\n",
    "sudo apt update\n",
    "sudo apt install python3 python3-pip\n",
    "```\n",
    "\n",
    "**CentOS/RHEL:**\n",
    "```bash\n",
    "sudo yum install python3 python3-pip\n",
    "```\n",
    "\n",
    "**Fedora:**\n",
    "```bash\n",
    "sudo dnf install python3 python3-pip\n",
    "```"
   ]
  },
  {
   "cell_type": "markdown",
   "metadata": {},
   "source": [
    "## 설치 확인하기\n",
    "\n",
    "### 1. 명령 프롬프트/터미널 열기\n",
    "- **Windows**: `Win + R` → `cmd` 입력 → Enter\n",
    "- **macOS**: `Cmd + Space` → `Terminal` 검색\n",
    "- **Linux**: `Ctrl + Alt + T`\n",
    "\n",
    "### 2. Python 버전 확인\n",
    "```bash\n",
    "python --version\n",
    "# 또는\n",
    "python3 --version\n",
    "```\n",
    "\n",
    "**성공적인 결과 예시:**\n",
    "```\n",
    "Python 3.12.0\n",
    "```\n",
    "\n",
    "### 3. pip 확인 (Python 패키지 관리자)\n",
    "```bash\n",
    "pip --version\n",
    "# 또는\n",
    "pip3 --version\n",
    "```\n",
    "\n",
    "**성공적인 결과 예시:**\n",
    "```\n",
    "pip 23.3.1\n",
    "```\n",
    "\n",
    "### 4. Python 대화형 모드 테스트\n",
    "명령 프롬프트에서 `python` 또는 `python3` 입력하면:\n",
    "```\n",
    "Python 3.12.0 (main, Oct  2 2023, 13:45:54) [MSC v.1916 64 bit (AMD64)] on win32\n",
    "Type \"help\", \"copyright\", \"credits\" or \"license\" for more information.\n",
    ">>>\n",
    "```\n",
    "\n",
    "이렇게 나오면 성공! `exit()` 입력하면 종료됩니다."
   ]
  },
  {
   "cell_type": "markdown",
   "metadata": {},
   "source": [
    "## 첫 번째 Python 출력 명령어 체험하기\n",
    "\n",
    "이제 Python에서 가장 기본적인 **출력 도구**를 사용해보겠습니다!\n",
    "\n",
    "`print()`는 화면에 글자를 보여주는 도구입니다. 마치 프린터가 종이에 글자를 출력하는 것처럼, `print()`는 화면에 글자를 출력합니다."
   ]
  },
  {
   "cell_type": "code",
   "execution_count": null,
   "metadata": {},
   "outputs": [],
   "source": [
    "# 여러분의 첫 번째 Python 출력!\n",
    "print(\"안녕하세요, Python 세계에 오신 것을 환영합니다!\")"
   ]
  },
  {
   "cell_type": "code",
   "execution_count": null,
   "metadata": {},
   "outputs": [],
   "source": [
    "# 여러 줄로 출력해보기\n",
    "print(\"Python 학습 시작!\")\n",
    "print(\"오늘부터 프로그래머가 되어봅시다!\")\n",
    "print(\"정말 신나는 여행이 될 거예요!\")"
   ]
  },
  {
   "cell_type": "code",
   "execution_count": null,
   "metadata": {},
   "outputs": [],
   "source": [
    "# 숫자도 출력할 수 있어요\n",
    "print(2024)\n",
    "print(3.14159)\n",
    "print(100)"
   ]
  },
  {
   "cell_type": "code",
   "execution_count": null,
   "metadata": {},
   "outputs": [],
   "source": [
    "# 예쁘게 꾸며보기\n",
    "print(\"★\" * 30)\n",
    "print(\"Python 학습 일기\")\n",
    "print(\"★\" * 30)\n",
    "print(\"오늘은 Python을 시작하는 날!\")\n",
    "print(\"정말 신나는 여행이 될 것 같아요!\")\n",
    "print(\"★\" * 30)"
   ]
  },
  {
   "cell_type": "code",
   "execution_count": null,
   "metadata": {},
   "outputs": [],
   "source": [
    "# 여러 가지를 한 번에 출력하기\n",
    "print(\"오늘은\", 2024, \"년입니다!\")\n",
    "print(\"원주율은 약\", 3.14, \"입니다.\")\n",
    "print(\"Python\", \"정말\", \"재미있어요!\")"
   ]
  },
  {
   "cell_type": "markdown",
   "metadata": {},
   "source": [
    "## 간단한 패턴 만들기\n",
    "\n",
    "출력 도구를 사용해서 재미있는 패턴을 만들어보겠습니다!"
   ]
  },
  {
   "cell_type": "code",
   "execution_count": null,
   "metadata": {},
   "outputs": [],
   "source": [
    "# 하트 패턴 만들기\n",
    "print(\"  ♥♥   ♥♥  \")\n",
    "print(\" ♥♥♥♥ ♥♥♥♥ \")\n",
    "print(\"  ♥♥♥♥♥♥♥  \")\n",
    "print(\"   ♥♥♥♥♥   \")\n",
    "print(\"    ♥♥♥    \")\n",
    "print(\"     ♥     \")\n",
    "print()\n",
    "print(\"Python 사랑해요!\")"
   ]
  },
  {
   "cell_type": "code",
   "execution_count": null,
   "metadata": {},
   "outputs": [],
   "source": [
    "# 별 패턴 만들기\n",
    "print(\"     ★     \")\n",
    "print(\"    ★★★    \")\n",
    "print(\"   ★★★★★   \")\n",
    "print(\"  ★★★★★★★  \")\n",
    "print(\" ★★★★★★★★★ \")\n",
    "print(\"★★★★★★★★★★★\")\n",
    "print()\n",
    "print(\"Python 트리 완성!\")"
   ]
  },
  {
   "cell_type": "code",
   "execution_count": null,
   "metadata": {},
   "outputs": [],
   "source": [
    "# 귀여운 동물 그리기\n",
    "print(\"   ∩───∩\")\n",
    "print(\"  ( ◕     ◕ )\")\n",
    "print(\"   │  ○   │\")\n",
    "print(\"   ╰─┬─┬─╯\")\n",
    "print(\"     ┴ ┴\")\n",
    "print()\n",
    "print(\"안녕! 나는 Python 곰이야!\")"
   ]
  },
  {
   "cell_type": "markdown",
   "metadata": {},
   "source": [
    "## 실습: 나만의 환영 메시지 만들기\n",
    "\n",
    "아래 코드를 여러분만의 스타일로 수정해보세요!"
   ]
  },
  {
   "cell_type": "code",
   "execution_count": null,
   "metadata": {},
   "outputs": [],
   "source": [
    "# 나만의 환영 메시지 만들기\n",
    "print(\"=\" * 50)\n",
    "print(\"Python 세계에 오신 것을 환영합니다!\")\n",
    "print(\"=\" * 50)\n",
    "print(\"여러분은 이제 프로그래머의 첫 걸음을 내딛었습니다.\")\n",
    "print(\"함께 멋진 프로그램을 만들어봅시다!\")\n",
    "print(\"\")\n",
    "print(\"Python으로 할 수 있는 것들:\")\n",
    "print(\"• 웹사이트 만들기\")\n",
    "print(\"• 게임 개발하기\")\n",
    "print(\"• 인공지능 프로그램 만들기\")\n",
    "print(\"• 데이터 분석하기\")\n",
    "print(\"• 그리고 더 많은 것들!\")\n",
    "print(\"=\" * 50)\n",
    "print(\"즐거운 Python 학습 되세요! 🐍\")"
   ]
  },
  {
   "cell_type": "markdown",
   "metadata": {},
   "source": [
    "## 도전 과제\n",
    "\n",
    "아래 과제들을 스스로 해결해보세요!"
   ]
  },
  {
   "cell_type": "code",
   "execution_count": null,
   "metadata": {},
   "outputs": [],
   "source": [
    "# 도전 과제 1: 자기소개 메시지 만들기\n",
    "# \"안녕하세요! 저는 [이름]입니다. Python 학습을 시작했어요!\"와 같은 형태로 출력해보세요\n",
    "# 여기에 코드를 작성해보세요!\n"
   ]
  },
  {
   "cell_type": "code",
   "execution_count": null,
   "metadata": {},
   "outputs": [],
   "source": [
    "# 도전 과제 2: 예쁜 테두리가 있는 메시지 박스 만들기\n",
    "# ┌─────────────────┐\n",
    "# │  Python 학습중!  │\n",
    "# └─────────────────┘\n",
    "# 이런 형태로 만들어보세요!\n",
    "# 여기에 코드를 작성해보세요!\n"
   ]
  },
  {
   "cell_type": "code",
   "execution_count": null,
   "metadata": {},
   "outputs": [],
   "source": [
    "# 도전 과제 3: 달력 모양 만들기\n",
    "# 간단한 달력 모양을 만들어보세요\n",
    "# 예: 12월 달력 일부분\n",
    "# 여기에 코드를 작성해보세요!\n"
   ]
  },
  {
   "cell_type": "markdown",
   "metadata": {},
   "source": [
    "## Python 사용 시 주의사항\n",
    "\n",
    "### 1. 대소문자 구분\n",
    "Python은 대소문자를 구분합니다!\n",
    "- `print` ✅ (올바름)\n",
    "- `Print` ❌ (틀림)\n",
    "- `PRINT` ❌ (틀림)\n",
    "\n",
    "### 2. 괄호와 따옴표\n",
    "- 괄호는 반드시 열고 닫기: `print(\"안녕\")` ✅\n",
    "- 따옴표도 반드시 열고 닫기: `print(\"안녕\")` ✅\n",
    "- 작은따옴표도 가능: `print('안녕')` ✅\n",
    "\n",
    "### 3. 들여쓰기 중요\n",
    "Python은 들여쓰기로 코드 블록을 구분합니다. 지금은 신경쓰지 말고, 나중에 자세히 배울 예정입니다!\n",
    "\n",
    "### 4. 한글 사용 가능\n",
    "Python 3는 한글을 완벽하게 지원합니다!"
   ]
  },
  {
   "cell_type": "markdown",
   "metadata": {},
   "source": [
    "## 정리\n",
    "\n",
    "### 오늘 배운 내용\n",
    "1. **Python의 역사와 특징** - 읽기 쉽고 배우기 쉬운 언어\n",
    "2. **Python의 활용 분야** - AI, 웹개발, 데이터분석 등 다양한 영역\n",
    "3. **Python 설치 방법** - 운영체제별 설치 가이드\n",
    "4. **설치 확인 방법** - 터미널에서 버전 확인\n",
    "5. **기본 출력 도구** - `print()` 함수로 화면에 글자 출력하기\n",
    "\n",
    "### 핵심 포인트\n",
    "- Python은 **간단하고 읽기 쉬운** 프로그래밍 언어\n",
    "- **다양한 분야**에서 활용되는 인기 언어\n",
    "- `print()`는 **화면에 출력**하는 기본 도구\n",
    "- **대소문자 구분**과 **괄호/따옴표** 주의하기\n",
    "\n",
    "### 다음 시간 예고\n",
    "다음 시간에는 **개발 환경 설정**을 배워보겠습니다!\n",
    "- Jupyter Notebook 설치 및 사용법\n",
    "- VS Code 확장 프로그램\n",
    "- 편리한 개발 도구들\n",
    "- 가상환경 설정\n",
    "\n",
    "### 학습 팁\n",
    "**\"연습이 실력을 만든다!\"** - 오늘 배운 `print()` 함수를 이용해서 다양한 메시지와 패턴을 출력해보세요!"
   ]
  },
  {
   "cell_type": "markdown",
   "metadata": {},
   "source": [
    "---\n",
    "\n",
    "## 축하합니다!\n",
    "\n",
    "여러분은 이제 **Python 여행의 첫 번째 단계**를 완료했습니다!\n",
    "\n",
    "Python이 설치되었고, 첫 번째 출력 명령어도 사용해봤어요.\n",
    "\n",
    "앞으로 함께 배워나갈 Python의 세계가 기대되지 않나요?\n",
    "\n",
    "**다음 노트북에서 더 멋진 개발 환경을 구축해봅시다!**\n",
    "\n",
    "---\n",
    "\n",
    "*\"Every expert was once a beginner.\" - 모든 전문가도 처음엔 초보자였습니다.*\n",
    "\n",
    "*\"The journey of a thousand miles begins with one step.\" - 천 리 길도 한 걸음부터.*"
   ]
  }
 ],
 "metadata": {
  "kernelspec": {
   "display_name": "pystudy_env",
   "language": "python",
   "name": "python3"
  },
  "language_info": {
   "codemirror_mode": {
    "name": "ipython",
    "version": 3
   },
   "file_extension": ".py",
   "mimetype": "text/x-python",
   "name": "python",
   "nbconvert_exporter": "python",
   "pygments_lexer": "ipython3",
   "version": "3.12.7"
  }
 },
 "nbformat": 4,
 "nbformat_minor": 4
}