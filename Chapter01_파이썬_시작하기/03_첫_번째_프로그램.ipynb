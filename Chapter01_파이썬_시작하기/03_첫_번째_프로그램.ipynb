{
 "cells": [
  {
   "cell_type": "markdown",
   "metadata": {},
   "source": [
    "# 03. 첫 번째 프로그램\n",
    "\n",
    "## 학습 목표\n",
    "- 내 첫 번째 Python 프로그램 만들기\n",
    "- print() 함수 사용해보기\n",
    "- input() 함수로 간단한 텍스트 입력받기\n",
    "- 주석(Comment) 사용법 익히기\n",
    "- 간단한 인사말 프로그램 만들기\n",
    "\n",
    "---"
   ]
  },
  {
   "cell_type": "markdown",
   "metadata": {},
   "source": [
    "## 드디어! 내 첫 번째 Python 코드\n",
    "\n",
    "모든 프로그래밍 언어의 전통적인 첫 번째 프로그램은 **\"Hello, World!\"**를 출력하는 것입니다.\n",
    "\n",
    "Python에서는 단 한 줄로 가능합니다!"
   ]
  },
  {
   "cell_type": "code",
   "execution_count": null,
   "metadata": {},
   "outputs": [],
   "source": [
    "# 내 첫 번째 Python 프로그램!\n",
    "print(\"Hello, World!\")"
   ]
  },
  {
   "cell_type": "markdown",
   "metadata": {},
   "source": [
    "### 축하합니다!\n",
    "\n",
    "방금 **첫 번째 Python 프로그램**을 실행했습니다!\n",
    "\n",
    "**간단하지 않나요?** 다른 언어들과 비교해보세요:\n",
    "\n",
    "**Java의 경우:**\n",
    "```java\n",
    "public class HelloWorld {\n",
    "    public static void main(String[] args) {\n",
    "        System.out.println(\"Hello, World!\");\n",
    "    }\n",
    "}\n",
    "```\n",
    "\n",
    "**C언어의 경우:**\n",
    "```c\n",
    "#include <stdio.h>\n",
    "int main() {\n",
    "    printf(\"Hello, World!\\n\");\n",
    "    return 0;\n",
    "}\n",
    "```\n",
    "\n",
    "**Python의 경우:**\n",
    "```python\n",
    "print(\"Hello, World!\")\n",
    "```\n",
    "\n",
    "정말 간단하죠? 이것이 Python의 매력입니다!"
   ]
  },
  {
   "cell_type": "markdown",
   "metadata": {},
   "source": [
    "## print() 함수 완전정복\n",
    "\n",
    "`print()` 함수는 Python에서 가장 많이 사용하는 **텍스트 출력 도구** 중 하나입니다. 화면에 글자나 숫자를 보여줄 때 사용합니다!"
   ]
  },
  {
   "cell_type": "code",
   "execution_count": null,
   "metadata": {},
   "outputs": [],
   "source": [
    "# 다양한 것들을 출력해보자!\n",
    "print(\"안녕하세요!\")\n",
    "print(\"Python 공부 시작!\")\n",
    "print(\"오늘은 좋은 날입니다!\")"
   ]
  },
  {
   "cell_type": "code",
   "execution_count": null,
   "metadata": {},
   "outputs": [],
   "source": [
    "# 숫자도 출력할 수 있어요\n",
    "print(2024)\n",
    "print(12)\n",
    "print(25)"
   ]
  },
  {
   "cell_type": "code",
   "execution_count": null,
   "metadata": {},
   "outputs": [],
   "source": [
    "# 여러 개를 한 번에 출력하기\n",
    "print(\"내 이름은\", \"홍길동\", \"입니다!\")\n",
    "print(\"오늘은\", 12, \"월\", 19, \"일입니다.\")\n",
    "print(\"Python\", \"정말\", \"재미있어요!\")"
   ]
  },
  {
   "cell_type": "code",
   "execution_count": null,
   "metadata": {},
   "outputs": [],
   "source": [
    "# 예쁘게 꾸며보기\n",
    "print(\"=\" * 30)\n",
    "print(\"Python 학습 일기\")\n",
    "print(\"=\" * 30)\n",
    "print(\"오늘은 Python을 시작하는 날!\")\n",
    "print(\"정말 신나는 여행이 될 것 같아요!\")\n",
    "print(\"=\" * 30)"
   ]
  },
  {
   "cell_type": "markdown",
   "metadata": {},
   "source": [
    "## input() 함수로 사용자와 대화하기\n",
    "\n",
    "`input()` 함수를 사용하면 사용자로부터 **텍스트 정보**를 입력받을 수 있습니다!\n",
    "\n",
    "지금은 간단한 텍스트 입출력만 연습해보겠습니다."
   ]
  },
  {
   "cell_type": "code",
   "execution_count": null,
   "metadata": {},
   "outputs": [],
   "source": [
    "# 사용자에게 인사말 받기\n",
    "print(\"안녕하세요! 인사말을 입력해주세요!\")\n",
    "greeting = input(\"인사말: \")\n",
    "print(\"입력하신 인사말:\")\n",
    "print(greeting)"
   ]
  },
  {
   "cell_type": "code",
   "execution_count": null,
   "metadata": {},
   "outputs": [],
   "source": [
    "# 좋아하는 색깔 물어보기\n",
    "print(\"좋아하는 색깔을 알려주세요!\")\n",
    "favorite_color = input(\"좋아하는 색깔: \")\n",
    "print(\"와! 멋진 색깔이네요!\")\n",
    "print(\"저도\", favorite_color, \"색을 좋아해요!\")"
   ]
  },
  {
   "cell_type": "code",
   "execution_count": null,
   "metadata": {},
   "outputs": [],
   "source": [
    "# 간단한 메시지 전달 프로그램\n",
    "print(\"메시지를 입력하면 예쁘게 꾸며서 보여드릴게요!\")\n",
    "message = input(\"메시지를 입력하세요: \")\n",
    "print()\n",
    "print(\"★\" * 20)\n",
    "print(message)\n",
    "print(\"★\" * 20)"
   ]
  },
  {
   "cell_type": "markdown",
   "metadata": {},
   "source": [
    "## 주석(Comment) - 코드에 메모하기\n",
    "\n",
    "**주석**은 프로그램 실행에는 영향을 주지 않지만, 코드를 설명하는 데 사용됩니다.\n",
    "\n",
    "Python에서는 `#` 기호를 사용합니다."
   ]
  },
  {
   "cell_type": "code",
   "execution_count": null,
   "metadata": {},
   "outputs": [],
   "source": [
    "# 이것은 주석입니다. 실행되지 않아요!\n",
    "print(\"이것은 실행됩니다!\")\n",
    "\n",
    "# 여러 줄 주석도 가능합니다\n",
    "# 한 줄씩 # 기호를 붙여야 해요\n",
    "print(\"주석을 활용해서 코드를 설명하세요!\")"
   ]
  },
  {
   "cell_type": "code",
   "execution_count": null,
   "metadata": {},
   "outputs": [],
   "source": [
    "# 코드 옆에도 주석을 달 수 있어요\n",
    "print(\"안녕하세요!\")  # 인사말 출력\n",
    "print(\"Python 재미있어요!\")  # 학습 의지 표현"
   ]
  },
  {
   "cell_type": "markdown",
   "metadata": {},
   "source": [
    "### 좋은 주석 작성 팁\n",
    "\n",
    "1. **코드가 무엇을 하는지** 설명\n",
    "2. **왜 이렇게 작성했는지** 이유 설명\n",
    "3. **복잡한 부분**에는 반드시 주석 작성\n",
    "4. **너무 당연한 것**은 주석으로 쓰지 않기"
   ]
  },
  {
   "cell_type": "code",
   "execution_count": null,
   "metadata": {},
   "outputs": [],
   "source": [
    "# 좋은 주석 예시\n",
    "# 사용자로부터 좋아하는 음식을 입력받아서 응답 메시지 출력\n",
    "favorite_food = input(\"좋아하는 음식을 입력하세요: \")\n",
    "print(\"와!\", favorite_food, \"정말 맛있죠!\")\n",
    "\n",
    "# 나쁜 주석 예시 (너무 당연함)\n",
    "# print(\"안녕\")  # 안녕을 출력한다"
   ]
  },
  {
   "cell_type": "markdown",
   "metadata": {},
   "source": [
    "## 종합 실습: 나만의 인사말 프로그램\n",
    "\n",
    "지금까지 배운 내용을 모두 활용해서 **나만의 인사말 프로그램**을 만들어보겠습니다!"
   ]
  },
  {
   "cell_type": "code",
   "execution_count": null,
   "metadata": {},
   "outputs": [],
   "source": [
    "# 나만의 인사말 프로그램 v1.0\n",
    "\n",
    "# 프로그램 시작 안내\n",
    "print(\"=\" * 50)\n",
    "print(\"나만의 인사말 프로그램에 오신 것을 환영합니다!\")\n",
    "print(\"=\" * 50)\n",
    "print()\n",
    "\n",
    "# 사용자 정보 입력받기\n",
    "name = input(\"이름을 입력해주세요: \")\n",
    "hobby = input(\"취미를 입력해주세요: \")\n",
    "dream = input(\"꿈이나 목표를 입력해주세요: \")\n",
    "\n",
    "print()  # 빈 줄 추가\n",
    "\n",
    "# 입력받은 정보로 인사말 출력\n",
    "print(\"=\" * 50)\n",
    "print(\"멋진 인사말 카드\")\n",
    "print(\"=\" * 50)\n",
    "print(\"안녕하세요!\", name, \"님!\")\n",
    "print(\"취미가\", hobby, \"이시군요! 정말 멋져요!\")\n",
    "print(dream, \"라는 꿈을 가지셨네요!\")\n",
    "print(\"Python과 함께 꿈을 이뤄나가세요!\")\n",
    "print(\"=\" * 50)\n",
    "print(name, \"님! 오늘도 행복한 하루 되세요!\")\n",
    "print(\"=\" * 50)"
   ]
  },
  {
   "cell_type": "markdown",
   "metadata": {},
   "source": [
    "## 재미있는 실습: 메시지 꾸미기 프로그램\n",
    "\n",
    "사용자가 입력한 메시지를 예쁘게 꾸며주는 프로그램을 만들어보겠습니다!"
   ]
  },
  {
   "cell_type": "code",
   "execution_count": null,
   "metadata": {},
   "outputs": [],
   "source": [
    "# 메시지 꾸미기 프로그램\n",
    "\n",
    "print(\"=\" * 30)\n",
    "print(\"메시지 꾸미기 프로그램\")\n",
    "print(\"=\" * 30)\n",
    "\n",
    "# 사용자로부터 메시지 입력받기\n",
    "message = input(\"꾸미고 싶은 메시지를 입력하세요: \")\n",
    "\n",
    "# 다양한 스타일로 메시지 꾸미기\n",
    "print()\n",
    "print(\"=== 스타일 1: 별 꾸미기 ===\")\n",
    "print(\"★\" * 20)\n",
    "print(\"★\", message, \"★\")\n",
    "print(\"★\" * 20)\n",
    "\n",
    "print()\n",
    "print(\"=== 스타일 2: 하트 꾸미기 ===\")\n",
    "print(\"♥\" * 20)\n",
    "print(\"♥\", message, \"♥\")\n",
    "print(\"♥\" * 20)\n",
    "\n",
    "print()\n",
    "print(\"=== 스타일 3: 박스 꾸미기 ===\")\n",
    "print(\"┌\" + \"─\" * 18 + \"┐\")\n",
    "print(\"│\", message, \"│\")\n",
    "print(\"└\" + \"─\" * 18 + \"┘\")"
   ]
  },
  {
   "cell_type": "markdown",
   "metadata": {},
   "source": [
    "## 도전 과제\n",
    "\n",
    "다음 프로그램들을 만들어보세요!"
   ]
  },
  {
   "cell_type": "code",
   "execution_count": null,
   "metadata": {},
   "outputs": [],
   "source": [
    "# 도전 과제 1: 인사말 프로그램\n",
    "# 사용자의 이름을 입력받아서 \"안녕하세요, OOO님! 좋은 하루 되세요!\" 출력하기\n",
    "\n",
    "# 여기에 코드를 작성해보세요!\n"
   ]
  },
  {
   "cell_type": "code",
   "execution_count": null,
   "metadata": {},
   "outputs": [],
   "source": [
    "# 도전 과제 2: 좋아하는 것들 프로그램\n",
    "# 사용자의 좋아하는 음식, 색깔, 취미를 각각 입력받아서 예쁘게 출력하기\n",
    "\n",
    "# 여기에 코드를 작성해보세요!\n"
   ]
  },
  {
   "cell_type": "code",
   "execution_count": null,
   "metadata": {},
   "outputs": [],
   "source": [
    "# 도전 과제 3: 일기 제목 만들기 프로그램\n",
    "# 오늘의 기분과 날씨를 입력받아서 일기 제목으로 만들어 출력하기\n",
    "# 예: \"기분: 좋음, 날씨: 맑음\" → \"좋은 기분의 맑은 하루 일기\"\n",
    "\n",
    "# 여기에 코드를 작성해보세요!\n"
   ]
  },
  {
   "cell_type": "markdown",
   "metadata": {},
   "source": [
    "## 실행할 때 주의사항\n",
    "\n",
    "### 자주 발생하는 실수들\n",
    "\n",
    "1. **문법 오류 (SyntaxError)**\n",
    "   - 괄호 빠뜨리기: `print(\"안녕\"`\n",
    "   - 따옴표 빠뜨리기: `print(안녕)`\n",
    "\n",
    "2. **들여쓰기 주의**\n",
    "   - Python은 들여쓰기가 중요해요! (나중에 자세히 배울 예정)\n",
    "\n",
    "3. **대소문자 구분**\n",
    "   - `print` ✅ (올바름)\n",
    "   - `Print` ❌ (틀림)"
   ]
  },
  {
   "cell_type": "code",
   "execution_count": null,
   "metadata": {},
   "outputs": [],
   "source": [
    "# 올바른 코드 예시\n",
    "print(\"안녕하세요!\")\n",
    "name = input(\"이름을 입력하세요: \")\n",
    "print(\"반갑습니다,\", name, \"님!\")"
   ]
  },
  {
   "cell_type": "markdown",
   "metadata": {},
   "source": [
    "## 텍스트 출력의 다양한 방법\n",
    "\n",
    "print() 함수로 할 수 있는 재미있는 것들을 더 알아보겠습니다!"
   ]
  },
  {
   "cell_type": "code",
   "execution_count": null,
   "metadata": {},
   "outputs": [],
   "source": [
    "# 빈 줄 출력하기\n",
    "print(\"첫 번째 줄\")\n",
    "print()  # 빈 줄\n",
    "print(\"두 번째 줄\")\n",
    "print()\n",
    "print(\"세 번째 줄\")"
   ]
  },
  {
   "cell_type": "code",
   "execution_count": null,
   "metadata": {},
   "outputs": [],
   "source": [
    "# 반복 패턴 만들기\n",
    "print(\"=\"* 10, \"제목\", \"=\" * 10)\n",
    "print(\"-\" * 30)\n",
    "print(\"*\" * 5, \"중요!\", \"*\" * 5)\n",
    "print(\"◆\" * 15)"
   ]
  },
  {
   "cell_type": "code",
   "execution_count": null,
   "metadata": {},
   "outputs": [],
   "source": [
    "# 다양한 기호 활용하기\n",
    "print(\"♠ ♣ ♥ ♦\")\n",
    "print(\"☀ ☁ ☂ ☃\")\n",
    "print(\"♪ ♫ ♬ ♭\")\n",
    "print(\"✓ ✗ ✉ ✈\")"
   ]
  },
  {
   "cell_type": "markdown",
   "metadata": {},
   "source": [
    "## 정리\n",
    "\n",
    "### 오늘 배운 내용\n",
    "1. **print() 함수** - 화면에 텍스트 출력하기\n",
    "2. **input() 함수** - 사용자로부터 텍스트 입력받기\n",
    "3. **주석(Comment)** - 코드에 설명 추가하기\n",
    "4. **첫 번째 프로그램** - Hello World부터 인사말 프로그램까지\n",
    "\n",
    "### 핵심 포인트\n",
    "- `print()`는 텍스트를 화면에 보여줄 때 사용\n",
    "- `input()`은 사용자로부터 텍스트를 입력받을 때 사용\n",
    "- `#`은 주석을 달 때 사용 (실행되지 않음)\n",
    "- 문자열은 따옴표 안에 작성\n",
    "- 대소문자를 정확히 구분해서 사용\n",
    "\n",
    "### 다음 시간 예고\n",
    "다음 Chapter에서는 **변수와 자료형**을 배워보겠습니다!\n",
    "- 변수란 무엇인가?\n",
    "- 숫자, 문자열 데이터 다루기\n",
    "- 변수 이름 규칙\n",
    "- 더 복잡한 계산과 데이터 처리\n",
    "\n",
    "### 학습 팁\n",
    "**\"연습이 실력을 만든다!\"** - 오늘 배운 `print()`와 `input()` 함수를 조합해서 다양한 대화형 프로그램을 만들어보세요!"
   ]
  },
  {
   "cell_type": "markdown",
   "metadata": {},
   "source": [
    "---\n",
    "\n",
    "## 정말 멋져요!\n",
    "\n",
    "여러분은 이제 **진짜 프로그래머**의 첫 걸음을 내딛었습니다!\n",
    "\n",
    "사용자와 간단한 대화를 나누는 프로그램을 만들 수 있게 되었어요.\n",
    "\n",
    "**다음 Chapter에서 더 재미있는 것들을 배워봅시다!**\n",
    "\n",
    "---\n",
    "\n",
    "*\"Every expert was once a beginner.\" - 모든 전문가도 처음엔 초보자였습니다.*\n",
    "\n",
    "*\"프로그래밍은 창조의 시작이다.\" - Programming is the beginning of creation.*"
   ]
  }
 ],
 "metadata": {
  "kernelspec": {
   "display_name": "pystudy_env",
   "language": "python",
   "name": "python3"
  },
  "language_info": {
   "codemirror_mode": {
    "name": "ipython",
    "version": 3
   },
   "file_extension": ".py",
   "mimetype": "text/x-python",
   "name": "python",
   "nbconvert_exporter": "python",
   "pygments_lexer": "ipython3",
   "version": "3.12.7"
  }
 },
 "nbformat": 4,
 "nbformat_minor": 4
}