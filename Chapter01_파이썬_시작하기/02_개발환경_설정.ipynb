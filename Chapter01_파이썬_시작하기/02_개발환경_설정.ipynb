{
 "cells": [
  {
   "cell_type": "markdown",
   "metadata": {},
   "source": [
    "# 02. 개발환경 설정\n",
    "\n",
    "## 학습 목표\n",
    "- 다양한 Python 개발 도구들 알아보기\n",
    "- Jupyter Notebook 설치 및 사용법 익히기\n",
    "- VS Code 설정하기\n",
    "- 가상환경(Virtual Environment) 이해하고 만들기\n",
    "- 패키지 관리자 pip 사용법 배우기\n",
    "\n",
    "---"
   ]
  },
  {
   "cell_type": "markdown",
   "metadata": {},
   "source": [
    "## 개발 환경이 무엇인가요?\n",
    "\n",
    "**개발 환경**이란 코딩을 편리하게 할 수 있도록 도와주는 도구들의 모음입니다!\n",
    "\n",
    "마치 요리할 때 **좋은 칼, 도마, 팬**이 있으면 요리가 쉬워지는 것처럼, 프로그래밍도 **좋은 도구**들이 있으면 훨씬 쉽고 재미있어집니다.\n",
    "\n",
    "### 개발 환경의 구성 요소\n",
    "\n",
    "| 구성 요소 | 설명 | 예시 |\n",
    "|-----------|------|------|\n",
    "| **인터프리터** | Python 코드를 실행해주는 프로그램 | Python 3.12 |\n",
    "| **에디터/IDE** | 코드를 작성하는 프로그램 | VS Code, PyCharm |\n",
    "| **패키지 관리자** | 라이브러리를 설치/관리하는 도구 | pip, conda |\n",
    "| **가상환경** | 프로젝트별로 독립적인 환경 | venv, virtualenv |\n",
    "| **디버거** | 버그를 찾아주는 도구 | 내장 디버거 |"
   ]
  },
  {
   "cell_type": "markdown",
   "metadata": {},
   "source": [
    "## Jupyter Notebook - 대화형 개발 환경\n",
    "\n",
    "### Jupyter Notebook이 무엇인가요?\n",
    "\n",
    "**Jupyter Notebook**은 웹 브라우저에서 Python 코드를 작성하고 실행할 수 있는 도구입니다!\n",
    "\n",
    "**특징:**\n",
    "- **셀 단위 실행**: 코드를 작은 블록으로 나누어 실행\n",
    "- **시각화 지원**: 그래프, 차트를 바로 확인\n",
    "- **문서화**: 마크다운과 코드를 함께 작성\n",
    "- **대화형**: 결과를 바로 확인하며 개발\n",
    "\n",
    "### Jupyter Notebook 설치하기\n",
    "\n",
    "**명령 프롬프트/터미널에서 실행:**\n",
    "```bash\n",
    "pip install jupyter\n",
    "```\n",
    "\n",
    "**설치 확인:**\n",
    "```bash\n",
    "jupyter --version\n",
    "```\n",
    "\n",
    "**실행하기:**\n",
    "```bash\n",
    "jupyter notebook\n",
    "```\n",
    "\n",
    "실행하면 웹 브라우저가 자동으로 열리고 Jupyter 인터페이스가 나타납니다!"
   ]
  },
  {
   "cell_type": "markdown",
   "metadata": {},
   "source": [
    "### Jupyter Notebook 사용법\n",
    "\n",
    "#### 셀(Cell) 타입\n",
    "1. **Code 셀**: Python 코드 작성\n",
    "2. **Markdown 셀**: 설명, 문서 작성\n",
    "3. **Raw 셀**: 원시 텍스트 (거의 사용 안함)\n",
    "\n",
    "#### 주요 단축키\n",
    "| 단축키 | 기능 |\n",
    "|--------|------|\n",
    "| `shift + enter` | 셀 실행하고 다음 셀로 이동 |\n",
    "| `ctrl + enter` | 셀 실행 (이동 안함) |\n",
    "| `a` | 위에 새 셀 추가 |\n",
    "| `b` | 아래에 새 셀 추가 |\n",
    "| `dd` | 셀 삭제 |\n",
    "| `m` | Markdown 셀로 변경 |\n",
    "| `y` | Code 셀로 변경 |"
   ]
  },
  {
   "cell_type": "markdown",
   "metadata": {},
   "source": [
    "### 실습: Jupyter Notebook에서 코딩해보기\n",
    "\n",
    "아래 코드들을 Jupyter Notebook에서 실행해보세요!"
   ]
  },
  {
   "cell_type": "code",
   "execution_count": null,
   "metadata": {},
   "outputs": [],
   "source": [
    "# 첫 번째 셀: 간단한 인사\n",
    "print(\"안녕하세요! Jupyter Notebook에서 실행 중입니다!\")"
   ]
  },
  {
   "cell_type": "code",
   "execution_count": null,
   "metadata": {},
   "outputs": [],
   "source": [
    "# 두 번째 셀: 변수 저장 (다른 셀에서도 사용 가능!)\n",
    "my_name = \"Python 학습자\"\n",
    "favorite_number = 42\n",
    "\n",
    "print(\"이름:\", my_name)\n",
    "print(\"좋아하는 숫자:\", favorite_number)"
   ]
  },
  {
   "cell_type": "code",
   "execution_count": null,
   "metadata": {},
   "outputs": [],
   "source": [
    "# 세 번째 셀: 이전 셀의 변수 사용하기\n",
    "print(my_name + \"님의 행운의 숫자는\", favorite_number * 2, \"입니다!\")"
   ]
  },
  {
   "cell_type": "markdown",
   "metadata": {},
   "source": [
    "## VS Code - 프로페셔널 에디터\n",
    "\n",
    "### VS Code가 무엇인가요?\n",
    "\n",
    "**Visual Studio Code**는 Microsoft에서 만든 무료 코드 에디터입니다!\n",
    "\n",
    "**장점:**\n",
    "- **무료**: 완전 무료로 사용 가능\n",
    "- **확장성**: 수많은 확장 프로그램\n",
    "- **테마**: 예쁜 테마들\n",
    "- **지능형**: 자동완성, 오류 검사\n",
    "- **다양한 언어**: Python 외에도 많은 언어 지원\n",
    "\n",
    "### VS Code 설치하기\n",
    "\n",
    "1. **공식 사이트 방문**: code.visualstudio.com\n",
    "2. **Download** 클릭\n",
    "3. 운영체제에 맞는 버전 다운로드\n",
    "4. 설치 실행\n",
    "\n",
    "### 필수 Python 확장 프로그램\n",
    "\n",
    "VS Code 설치 후 다음 확장 프로그램들을 설치하세요:\n",
    "\n",
    "1. **Python** (Microsoft) - 필수!\n",
    "2. **Jupyter** (Microsoft) - 노트북 지원\n",
    "3. **Python Docstring Generator** - 문서화 도움\n",
    "4. **autoDocstring** - 자동 문서 생성\n",
    "5. **Python Indent** - 들여쓰기 도움\n",
    "\n",
    "**설치 방법:**\n",
    "1. VS Code 열기\n",
    "2. 왼쪽 사이드바에서 확장 프로그램 아이콘 클릭 (네모 4개)\n",
    "3. 검색창에서 확장 프로그램 이름 입력\n",
    "4. Install 클릭"
   ]
  },
  {
   "cell_type": "markdown",
   "metadata": {},
   "source": [
    "## 가상환경 (Virtual Environment)\n",
    "\n",
    "### 가상환경이 무엇인가요?\n",
    "\n",
    "**가상환경**은 프로젝트마다 독립적인 Python 환경을 만드는 것입니다!\n",
    "\n",
    "**왜 필요할까요?**\n",
    "\n",
    "상상해보세요:\n",
    "- **프로젝트 A**: Django 3.0 사용\n",
    "- **프로젝트 B**: Django 4.0 사용\n",
    "- **프로젝트 C**: 특별한 라이브러리 필요\n",
    "\n",
    "한 컴퓨터에 모든 버전을 섞어서 설치하면 **충돌**이 일어날 수 있어요!\n",
    "\n",
    "### 가상환경의 장점\n",
    "\n",
    "- **격리**: 프로젝트별 독립적인 환경\n",
    "- **버전 관리**: 다양한 패키지 버전 사용 가능\n",
    "- **깔끔함**: 필요한 패키지만 설치\n",
    "- **배포**: 환경을 쉽게 복제 가능"
   ]
  },
  {
   "cell_type": "markdown",
   "metadata": {},
   "source": [
    "### 가상환경 만들기 (venv 사용)\n",
    "\n",
    "**1. 가상환경 생성:**\n",
    "```bash\n",
    "# Windows\n",
    "python -m venv my_project_env\n",
    "\n",
    "# macOS/Linux\n",
    "python3 -m venv my_project_env\n",
    "```\n",
    "\n",
    "**2. 가상환경 활성화:**\n",
    "```bash\n",
    "# Windows\n",
    "my_project_env\\Scripts\\activate\n",
    "\n",
    "# macOS/Linux\n",
    "source my_project_env/bin/activate\n",
    "```\n",
    "\n",
    "**활성화되면 터미널 앞에 `(my_project_env)` 표시가 나타납니다!**\n",
    "\n",
    "**3. 가상환경 비활성화:**\n",
    "```bash\n",
    "deactivate\n",
    "```"
   ]
  },
  {
   "cell_type": "markdown",
   "metadata": {},
   "source": [
    "## 패키지 관리자 pip\n",
    "\n",
    "### pip가 무엇인가요?\n",
    "\n",
    "**pip**는 Python 패키지를 설치하고 관리하는 도구입니다.\n",
    "\n",
    "### 기본 pip 명령어\n",
    "\n",
    "**패키지 설치:**\n",
    "```bash\n",
    "pip install 패키지이름\n",
    "```\n",
    "\n",
    "**설치된 패키지 확인:**\n",
    "```bash\n",
    "pip list\n",
    "```\n",
    "\n",
    "**패키지 정보 확인:**\n",
    "```bash\n",
    "pip show 패키지이름\n",
    "```\n",
    "\n",
    "**패키지 업그레이드:**\n",
    "```bash\n",
    "pip install --upgrade 패키지이름\n",
    "```\n",
    "\n",
    "**패키지 삭제:**\n",
    "```bash\n",
    "pip uninstall 패키지이름\n",
    "```"
   ]
  },
  {
   "cell_type": "markdown",
   "metadata": {},
   "source": [
    "## 실습: 개발 환경 설정해보기\n",
    "\n",
    "### 1단계: 가상환경 만들기"
   ]
  },
  {
   "cell_type": "code",
   "execution_count": null,
   "metadata": {},
   "outputs": [],
   "source": [
    "# 현재 Python 버전 확인\n",
    "import sys\n",
    "print(\"Python 버전:\", sys.version)\n",
    "print(\"실행 경로:\", sys.executable)"
   ]
  },
  {
   "cell_type": "markdown",
   "metadata": {},
   "source": [
    "### 2단계: 패키지 설치 연습"
   ]
  },
  {
   "cell_type": "code",
   "execution_count": null,
   "metadata": {},
   "outputs": [],
   "source": [
    "# 현재 설치된 패키지 중 일부 확인\n",
    "# 주의: 이 코드는 Jupyter Notebook에서만 작동합니다\n",
    "import pkg_resources\n",
    "\n",
    "installed_packages = [d.project_name for d in pkg_resources.working_set]\n",
    "print(\"설치된 패키지 개수:\", len(installed_packages))\n",
    "print(\"주요 패키지들:\")\n",
    "for package in sorted(installed_packages)[:10]:  # 처음 10개만 표시\n",
    "    print(\"-\", package)"
   ]
  },
  {
   "cell_type": "markdown",
   "metadata": {},
   "source": [
    "## 개발 환경 구성 실습\n",
    "\n",
    "### 프로젝트 폴더 구조 만들기"
   ]
  },
  {
   "cell_type": "code",
   "execution_count": null,
   "metadata": {},
   "outputs": [],
   "source": [
    "# 프로젝트 폴더 구조 예시\n",
    "print(\"추천하는 프로젝트 폴더 구조:\")\n",
    "print(\"\")\n",
    "print(\"my_python_project/\")\n",
    "print(\"├── venv/                 # 가상환경 폴더\")\n",
    "print(\"├── src/                  # 소스 코드 폴더\")\n",
    "print(\"│   └── main.py\")\n",
    "print(\"├── tests/                # 테스트 파일 폴더\")\n",
    "print(\"├── docs/                 # 문서 폴더\")\n",
    "print(\"├── requirements.txt      # 패키지 의존성 파일\")\n",
    "print(\"└── README.md             # 프로젝트 설명 파일\")"
   ]
  },
  {
   "cell_type": "markdown",
   "metadata": {},
   "source": [
    "### requirements.txt 파일\n",
    "\n",
    "**requirements.txt**는 프로젝트에 필요한 패키지들을 기록하는 파일입니다.\n",
    "\n",
    "**예시:**\n",
    "```\n",
    "numpy==1.24.3\n",
    "pandas==2.0.3\n",
    "matplotlib==3.7.2\n",
    "```\n",
    "\n",
    "**생성하기:**\n",
    "```bash\n",
    "pip freeze > requirements.txt\n",
    "```\n",
    "\n",
    "**설치하기:**\n",
    "```bash\n",
    "pip install -r requirements.txt\n",
    "```"
   ]
  },
  {
   "cell_type": "markdown",
   "metadata": {},
   "source": [
    "## 일반적인 문제와 해결책\n",
    "\n",
    "### 문제 1: pip 명령어가 작동하지 않음\n",
    "**해결책:**\n",
    "- Python 설치 시 \"Add to PATH\" 체크했는지 확인\n",
    "- `python -m pip` 사용해보기\n",
    "\n",
    "### 문제 2: 가상환경이 활성화되지 않음\n",
    "**해결책:**\n",
    "- Windows: PowerShell 실행 정책 확인\n",
    "- 경로가 올바른지 확인\n",
    "\n",
    "### 문제 3: Jupyter Notebook이 시작되지 않음\n",
    "**해결책:**\n",
    "- 포트 충돌 확인: `jupyter notebook --port=8889`\n",
    "- 브라우저에서 수동으로 주소 입력: `http://localhost:8888`"
   ]
  },
  {
   "cell_type": "markdown",
   "metadata": {},
   "source": [
    "## 정리\n",
    "\n",
    "### 오늘 배운 내용\n",
    "1. **개발 환경의 구성 요소** - 인터프리터, 에디터, 패키지 관리자\n",
    "2. **Jupyter Notebook** - 대화형 개발 환경\n",
    "3. **VS Code** - 프로페셔널 에디터 설정\n",
    "4. **가상환경** - 프로젝트별 독립적인 환경 구성\n",
    "5. **pip** - 패키지 설치 및 관리\n",
    "\n",
    "### 다음 시간 예고\n",
    "다음 시간에는 **첫 번째 프로그램**을 만들어보겠습니다!\n",
    "- Python 파일 생성하기\n",
    "- 코드 작성하고 실행하기\n",
    "- 기본 입출력 다루기\n",
    "\n",
    "### 학습 팁\n",
    "**\"좋은 도구가 좋은 결과를 만든다!\"** - 오늘 설정한 개발 환경을 잘 활용해보세요!"
   ]
  },
  {
   "cell_type": "markdown",
   "metadata": {},
   "source": [
    "---\n",
    "\n",
    "## 수고하셨습니다!\n",
    "\n",
    "개발 환경 설정은 처음에는 복잡해 보이지만, 한 번 설정해두면 앞으로 Python 개발이 훨씬 수월해집니다.\n",
    "\n",
    "**다음 노트북에서 실제 프로그래밍을 시작해봅시다!**\n",
    "\n",
    "---\n",
    "\n",
    "*\"준비를 제대로 하면 성공은 따라온다.\" - Proper preparation leads to success.*"
   ]
  }
 ],
 "metadata": {
  "kernelspec": {
   "display_name": "Python 3",
   "language": "python",
   "name": "python3"
  },
  "language_info": {
   "codemirror_mode": {
    "name": "ipython",
    "version": 3
   },
   "file_extension": ".py",
   "mimetype": "text/x-python",
   "name": "python",
   "nbconvert_exporter": "python",
   "pygments_lexer": "ipython3",
   "version": "3.12.7"
  }
 },
 "nbformat": 4,
 "nbformat_minor": 4
}
