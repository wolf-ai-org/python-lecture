{
 "cells": [
  {
   "cell_type": "markdown",
   "metadata": {},
   "source": [
    "# 02. 숫자형 자료형\n",
    "\n",
    "## 학습 목표\n",
    "- 정수(int)와 실수(float) 이해하기\n",
    "- 숫자형 변수 만들기와 활용하기\n",
    "- 기본적인 수학 연산 해보기\n",
    "- 형 변환(Type Conversion) 배우기\n",
    "- 재미있는 숫자 게임 만들기\n",
    "\n",
    "---"
   ]
  },
  {
   "cell_type": "markdown",
   "metadata": {},
   "source": [
    "## 숫자형 자료형이 무엇인가요?\n",
    "\n",
    "Python에서 숫자를 다루는 방법은 크게 **두 가지**가 있습니다:\n",
    "\n",
    "### 1. 정수 (Integer) - int\n",
    "- **소수점이 없는** 온전한 숫자들\n",
    "- 예: `1, 2, 3, -5, 0, 100`\n",
    "\n",
    "### 2. 실수 (Float) - float  \n",
    "- **소수점이 있는** 숫자들\n",
    "- 예: `3.14, 2.5, -1.7, 0.0`\n",
    "\n",
    "### 실생활 비유\n",
    "- **정수**: 피자 **조각 개수** (1조각, 2조각, 3조각...)\n",
    "- **실수**: 피자의 **정확한 크기** (1.5조각, 2.75조각...)\n",
    "\n",
    "### 왜 두 종류로 나누어져 있을까요?\n",
    "- **정수**: 개수, 순서 등을 나타낼 때 사용 (학생 수, 층수 등)\n",
    "- **실수**: 측정값, 계산 결과 등을 나타낼 때 사용 (키, 몸무게, 온도 등)"
   ]
  },
  {
   "cell_type": "code",
   "execution_count": 1,
   "metadata": {},
   "outputs": [
    {
     "name": "stdout",
     "output_type": "stream",
     "text": [
      "피자 조각: 8\n",
      "내 나이: 25\n",
      "온도: -5\n",
      "학생 수: 30\n",
      "\n",
      "자료형 확인:\n",
      "pizza_slices의 타입: <class 'int'>\n",
      "my_age의 타입: <class 'int'>\n"
     ]
    }
   ],
   "source": [
    "# 정수형 변수 만들기\n",
    "pizza_slices = 8        # 피자 조각 수\n",
    "my_age = 25            # 내 나이\n",
    "temperature = -5        # 영하 5도\n",
    "students_count = 30     # 학생 수\n",
    "\n",
    "print(\"피자 조각:\", pizza_slices)\n",
    "print(\"내 나이:\", my_age)\n",
    "print(\"온도:\", temperature)\n",
    "print(\"학생 수:\", students_count)\n",
    "\n",
    "# type() 함수로 자료형 확인하기\n",
    "print(\"\\n자료형 확인:\")\n",
    "print(\"pizza_slices의 타입:\", type(pizza_slices))\n",
    "print(\"my_age의 타입:\", type(my_age))"
   ]
  },
  {
   "cell_type": "code",
   "execution_count": 2,
   "metadata": {},
   "outputs": [
    {
     "name": "stdout",
     "output_type": "stream",
     "text": [
      "키: 175.5 cm\n",
      "몸무게: 68.7 kg\n",
      "원주율: 3.14159\n",
      "가격: 1500.0 원\n",
      "평균 점수: 85.67 점\n",
      "\n",
      "자료형 확인:\n",
      "height의 타입: <class 'float'>\n",
      "pi의 타입: <class 'float'>\n"
     ]
    }
   ],
   "source": [
    "# 실수형 변수 만들기\n",
    "height = 175.5         # 키 (cm)\n",
    "weight = 68.7          # 몸무게 (kg)\n",
    "pi = 3.14159           # 원주율\n",
    "price = 1500.0         # 가격\n",
    "average_score = 85.67  # 평균 점수\n",
    "\n",
    "print(\"키:\", height, \"cm\")\n",
    "print(\"몸무게:\", weight, \"kg\")\n",
    "print(\"원주율:\", pi)\n",
    "print(\"가격:\", price, \"원\")\n",
    "print(\"평균 점수:\", average_score, \"점\")\n",
    "\n",
    "print(\"\\n자료형 확인:\")\n",
    "print(\"height의 타입:\", type(height))\n",
    "print(\"pi의 타입:\", type(pi))"
   ]
  },
  {
   "cell_type": "markdown",
   "metadata": {},
   "source": [
    "## 기본 수학 연산자들\n",
    "\n",
    "Python에서 숫자로 할 수 있는 기본 연산들을 알아보겠습니다!\n",
    "\n",
    "| 연산자 | 의미 | 예시 | 결과 |\n",
    "|--------|------|------|------|\n",
    "| `+` | 더하기 | `5 + 3` | `8` |\n",
    "| `-` | 빼기 | `5 - 3` | `2` |\n",
    "| `*` | 곱하기 | `5 * 3` | `15` |\n",
    "| `/` | 나누기 | `5 / 2` | `2.5` |\n",
    "| `//` | 몫 구하기 | `5 // 2` | `2` |\n",
    "| `%` | 나머지 구하기 | `5 % 2` | `1` |\n",
    "| `**` | 거듭제곱 | `5 ** 2` | `25` |"
   ]
  },
  {
   "cell_type": "code",
   "execution_count": 3,
   "metadata": {},
   "outputs": [
    {
     "name": "stdout",
     "output_type": "stream",
     "text": [
      "a = 10 , b = 3\n",
      "==============================\n",
      "10 + 3 = 13\n",
      "10 - 3 = 7\n",
      "10 * 3 = 30\n",
      "10 / 3 = 3.3333333333333335\n",
      "10 // 3 = 3\n",
      "10 % 3 = 1\n",
      "10 ** 3 = 1000\n"
     ]
    }
   ],
   "source": [
    "# 기본 수학 연산 실습\n",
    "a = 10\n",
    "b = 3\n",
    "\n",
    "print(\"a =\", a, \", b =\", b)\n",
    "print(\"=\" * 30)\n",
    "\n",
    "print(a, \"+\", b, \"=\", a + b)      # 더하기\n",
    "print(a, \"-\", b, \"=\", a - b)      # 빼기\n",
    "print(a, \"*\", b, \"=\", a * b)      # 곱하기\n",
    "print(a, \"/\", b, \"=\", a / b)      # 나누기\n",
    "print(a, \"//\", b, \"=\", a // b)    # 몫 구하기\n",
    "print(a, \"%\", b, \"=\", a % b)      # 나머지 구하기\n",
    "print(a, \"**\", b, \"=\", a ** b)    # 거듭제곱"
   ]
  },
  {
   "cell_type": "code",
   "execution_count": 4,
   "metadata": {},
   "outputs": [
    {
     "name": "stdout",
     "output_type": "stream",
     "text": [
      "전체 케이크 조각 수: 15\n",
      "친구 수: 4\n",
      "==============================\n",
      "한 명당 가져갈 수 있는 조각: 3 조각\n",
      "남는 조각: 3 조각\n",
      "\n",
      "결론:\n",
      "각자 3 조각씩 가져가고, 3 조각이 남습니다.\n"
     ]
    }
   ],
   "source": [
    "# 실생활 예제: 케이크 나누어주기\n",
    "total_cake_pieces = 15  # 전체 케이크 조각 수\n",
    "friends = 4             # 친구 수\n",
    "\n",
    "print(\"전체 케이크 조각 수:\", total_cake_pieces)\n",
    "print(\"친구 수:\", friends)\n",
    "print(\"=\" * 30)\n",
    "\n",
    "# 한 명당 몇 조각씩 가져갈 수 있을까요?\n",
    "pieces_per_person = total_cake_pieces // friends\n",
    "print(\"한 명당 가져갈 수 있는 조각:\", pieces_per_person, \"조각\")\n",
    "\n",
    "# 남는 조각은 몇 개일까요?\n",
    "remaining_pieces = total_cake_pieces % friends\n",
    "print(\"남는 조각:\", remaining_pieces, \"조각\")\n",
    "\n",
    "print(\"\\n결론:\")\n",
    "print(\"각자\", pieces_per_person, \"조각씩 가져가고,\", remaining_pieces, \"조각이 남습니다.\")"
   ]
  },
  {
   "cell_type": "markdown",
   "metadata": {},
   "source": [
    "## 연산자 우선순위\n",
    "\n",
    "수학에서와 마찬가지로 Python에서도 연산자 우선순위가 있습니다.\n",
    "\n",
    "### 우선순위 (높은 순서대로)\n",
    "1. `**` (거듭제곱)\n",
    "2. `*`, `/`, `//`, `%` (곱셈, 나눗셈 계열)\n",
    "3. `+`, `-` (덧셈, 뺄셈)\n",
    "4. `()` (괄호)로 우선순위 변경 가능"
   ]
  },
  {
   "cell_type": "code",
   "execution_count": 5,
   "metadata": {},
   "outputs": [
    {
     "name": "stdout",
     "output_type": "stream",
     "text": [
      "연산자 우선순위 확인:\n",
      "=========================\n",
      "2 + 3 * 4 = 14\n",
      "(2 + 3) * 4 = 20\n",
      "2 ** 3 + 1 = 9\n",
      "10 / 2 * 3 = 15.0\n",
      "\n",
      "[팁] 헷갈릴 때는 괄호를 사용하세요!\n"
     ]
    }
   ],
   "source": [
    "# 연산자 우선순위 예제\n",
    "print(\"연산자 우선순위 확인:\")\n",
    "print(\"=\" * 25)\n",
    "\n",
    "result1 = 2 + 3 * 4        # 곱셈이 먼저\n",
    "result2 = (2 + 3) * 4      # 괄호가 먼저\n",
    "result3 = 2 ** 3 + 1       # 거듭제곱이 먼저\n",
    "result4 = 10 / 2 * 3       # 왼쪽부터 차례대로\n",
    "\n",
    "print(\"2 + 3 * 4 =\", result1)      # 2 + 12 = 14\n",
    "print(\"(2 + 3) * 4 =\", result2)    # 5 * 4 = 20\n",
    "print(\"2 ** 3 + 1 =\", result3)     # 8 + 1 = 9\n",
    "print(\"10 / 2 * 3 =\", result4)     # 5.0 * 3 = 15.0\n",
    "\n",
    "print(\"\\n[팁] 헷갈릴 때는 괄호를 사용하세요!\")"
   ]
  },
  {
   "cell_type": "markdown",
   "metadata": {},
   "source": [
    "## 형 변환 (Type Conversion)\n",
    "\n",
    "때로는 **정수를 실수로**, 또는 **실수를 정수로** 바꿔야 할 때가 있습니다!\n",
    "\n",
    "### 형 변환 함수들\n",
    "- `int()`: 정수로 변환\n",
    "- `float()`: 실수로 변환\n",
    "- `str()`: 문자열로 변환"
   ]
  },
  {
   "cell_type": "code",
   "execution_count": 6,
   "metadata": {},
   "outputs": [
    {
     "name": "stdout",
     "output_type": "stream",
     "text": [
      "원래 가격: 1500.99\n",
      "정수 가격: 1500\n",
      "타입 변화: <class 'float'> → <class 'int'>\n",
      "\n",
      "========================================\n",
      "\n",
      "원래 나이: 25\n",
      "실수 나이: 25.0\n",
      "타입 변화: <class 'int'> → <class 'float'>\n"
     ]
    }
   ],
   "source": [
    "# 형 변환 실습\n",
    "\n",
    "# 실수를 정수로 변환\n",
    "price_float = 1500.99\n",
    "price_int = int(price_float)    # 소수점 버림!\n",
    "\n",
    "print(\"원래 가격:\", price_float)\n",
    "print(\"정수 가격:\", price_int)\n",
    "print(\"타입 변화:\", type(price_float), \"→\", type(price_int))\n",
    "\n",
    "print(\"\\n\" + \"=\" * 40 + \"\\n\")\n",
    "\n",
    "# 정수를 실수로 변환\n",
    "age_int = 25\n",
    "age_float = float(age_int)\n",
    "\n",
    "print(\"원래 나이:\", age_int)\n",
    "print(\"실수 나이:\", age_float)\n",
    "print(\"타입 변화:\", type(age_int), \"→\", type(age_float))"
   ]
  },
  {
   "cell_type": "code",
   "execution_count": 7,
   "metadata": {},
   "outputs": [
    {
     "name": "stdout",
     "output_type": "stream",
     "text": [
      "문자열 →  정수:\n",
      "123 ( <class 'str'> ) →  123 ( <class 'int'> )\n",
      "\n",
      "문자열 →  실수:\n",
      "45.67 ( <class 'str'> ) →  45.67 ( <class 'float'> )\n",
      "\n",
      "계산 결과: 123 + 45.67 = 168.67000000000002\n"
     ]
    }
   ],
   "source": [
    "# 문자열에서 숫자로 변환\n",
    "number_string = \"123\"           # 문자열 형태의 숫자\n",
    "float_string = \"45.67\"          # 문자열 형태의 실수\n",
    "\n",
    "# 문자열을 숫자로 변환\n",
    "number_int = int(number_string)\n",
    "number_float = float(float_string)\n",
    "\n",
    "print(\"문자열 →  정수:\")\n",
    "print(number_string, \"(\", type(number_string), \") → \", number_int, \"(\", type(number_int), \")\")\n",
    "\n",
    "print(\"\\n문자열 →  실수:\")\n",
    "print(float_string, \"(\", type(float_string), \") → \", number_float, \"(\", type(number_float), \")\")\n",
    "\n",
    "# 변환된 숫자로 계산하기\n",
    "result = number_int + number_float\n",
    "print(\"\\n계산 결과:\", number_int, \"+\", number_float, \"=\", result)"
   ]
  },
  {
   "cell_type": "markdown",
   "metadata": {},
   "source": [
    "## 실습: 간단한 계산기 만들기\n",
    "\n",
    "지금까지 배운 내용으로 간단한 계산기를 만들어보겠습니다!"
   ]
  },
  {
   "cell_type": "code",
   "execution_count": 8,
   "metadata": {},
   "outputs": [
    {
     "name": "stdout",
     "output_type": "stream",
     "text": [
      "나만의 간단 계산기 v1.0\n",
      "==============================\n",
      "\n",
      "입력된 숫자: 10.0 , 20.0\n",
      "==============================\n",
      "덧셈: 10.0 + 20.0 = 30.0\n",
      "뺄셈: 10.0 - 20.0 = -10.0\n",
      "곱셈: 10.0 * 20.0 = 200.0\n",
      "나눗셈: 10.0 / 20.0 = 0.5\n",
      "몫: 10.0 // 20.0 = 0.0\n",
      "나머지: 10.0 % 20.0 = 10.0\n",
      "거듭제곱: 10.0 ** 20.0 = 1e+20\n"
     ]
    }
   ],
   "source": [
    "# 나만의 계산기\n",
    "print(\"나만의 간단 계산기 v1.0\")\n",
    "print(\"=\" * 30)\n",
    "\n",
    "# 사용자로부터 두 숫자 입력받기\n",
    "num1 = float(input(\"첫 번째 숫자를 입력하세요: \"))\n",
    "num2 = float(input(\"두 번째 숫자를 입력하세요: \"))\n",
    "\n",
    "print(\"\\n입력된 숫자:\", num1, \",\", num2)\n",
    "print(\"=\" * 30)\n",
    "\n",
    "# 모든 연산 결과 출력\n",
    "print(\"덧셈:\", num1, \"+\", num2, \"=\", num1 + num2)\n",
    "print(\"뺄셈:\", num1, \"-\", num2, \"=\", num1 - num2)\n",
    "print(\"곱셈:\", num1, \"*\", num2, \"=\", num1 * num2)\n",
    "\n",
    "# 나누기는 0으로 나누는 경우를 조심!\n",
    "if num2 != 0:\n",
    "    print(\"나눗셈:\", num1, \"/\", num2, \"=\", num1 / num2)\n",
    "    print(\"몫:\", num1, \"//\", num2, \"=\", num1 // num2)\n",
    "    print(\"나머지:\", num1, \"%\", num2, \"=\", num1 % num2)\n",
    "else:\n",
    "    print(\"나눗셈: 0으로 나눌 수 없습니다!\")\n",
    "\n",
    "print(\"거듭제곱:\", num1, \"**\", num2, \"=\", num1 ** num2)"
   ]
  },
  {
   "cell_type": "markdown",
   "metadata": {},
   "source": [
    "## 실용적인 예제들\n",
    "\n",
    "숫자형 자료형을 활용한 실생활 예제들을 만들어보겠습니다."
   ]
  },
  {
   "cell_type": "code",
   "execution_count": 9,
   "metadata": {},
   "outputs": [
    {
     "name": "stdout",
     "output_type": "stream",
     "text": [
      "BMI 계산기\n",
      "====================\n",
      "키: 175 cm\n",
      "몸무게: 70 kg\n",
      "BMI: 22.86\n",
      "정상 체중입니다.\n"
     ]
    }
   ],
   "source": [
    "# 예제 1: BMI 계산기\n",
    "print(\"BMI 계산기\")\n",
    "print(\"=\" * 20)\n",
    "\n",
    "height_cm = 175     # 키 (cm)\n",
    "weight_kg = 70      # 몸무게 (kg)\n",
    "\n",
    "# 키를 미터로 변환\n",
    "height_m = height_cm / 100\n",
    "\n",
    "# BMI 계산 (몸무게 / 키의 제곱)\n",
    "bmi = weight_kg / (height_m ** 2)\n",
    "\n",
    "print(\"키:\", height_cm, \"cm\")\n",
    "print(\"몸무게:\", weight_kg, \"kg\")\n",
    "print(\"BMI:\", round(bmi, 2))  # 소수점 둘째 자리까지\n",
    "\n",
    "# BMI 해석\n",
    "if bmi < 18.5:\n",
    "    print(\"저체중입니다.\")\n",
    "elif bmi < 25:\n",
    "    print(\"정상 체중입니다.\")\n",
    "elif bmi < 30:\n",
    "    print(\"과체중입니다.\")\n",
    "else:\n",
    "    print(\"비만입니다.\")"
   ]
  },
  {
   "cell_type": "code",
   "execution_count": 10,
   "metadata": {},
   "outputs": [
    {
     "name": "stdout",
     "output_type": "stream",
     "text": [
      "쇼핑몰 할인 계산기\n",
      "=========================\n",
      "원래 가격: 50000 원\n",
      "할인율: 20 %\n",
      "할인 금액: 10000 원\n",
      "최종 가격: 40000 원\n",
      "절약 금액: 10000 원\n"
     ]
    }
   ],
   "source": [
    "# 예제 2: 할인 계산기\n",
    "print(\"쇼핑몰 할인 계산기\")\n",
    "print(\"=\" * 25)\n",
    "\n",
    "original_price = 50000    # 원래 가격\n",
    "discount_rate = 20        # 할인율 (퍼센트)\n",
    "\n",
    "# 할인 금액 계산\n",
    "discount_amount = original_price * discount_rate / 100\n",
    "\n",
    "# 최종 가격 계산\n",
    "final_price = original_price - discount_amount\n",
    "\n",
    "print(\"원래 가격:\", original_price, \"원\")\n",
    "print(\"할인율:\", discount_rate, \"%\")\n",
    "print(\"할인 금액:\", int(discount_amount), \"원\")\n",
    "print(\"최종 가격:\", int(final_price), \"원\")\n",
    "print(\"절약 금액:\", int(discount_amount), \"원\")"
   ]
  },
  {
   "cell_type": "code",
   "execution_count": 11,
   "metadata": {},
   "outputs": [
    {
     "name": "stdout",
     "output_type": "stream",
     "text": [
      "시간 변환 계산기\n",
      "====================\n",
      "전체 초: 7265 초\n",
      "변환 결과: 2 시간 1 분 5 초\n",
      "검증: 7265 초 (원래 값과 같은지 확인)\n"
     ]
    }
   ],
   "source": [
    "# 예제 3: 시간 계산기\n",
    "print(\"시간 변환 계산기\")\n",
    "print(\"=\" * 20)\n",
    "\n",
    "total_seconds = 7265  # 전체 초\n",
    "\n",
    "# 시, 분, 초로 변환\n",
    "hours = total_seconds // 3600        # 1시간 = 3600초\n",
    "remaining = total_seconds % 3600     # 시간을 뺀 나머지\n",
    "minutes = remaining // 60            # 1분 = 60초\n",
    "seconds = remaining % 60             # 분을 뺀 나머지\n",
    "\n",
    "print(\"전체 초:\", total_seconds, \"초\")\n",
    "print(\"변환 결과:\", int(hours), \"시간\", int(minutes), \"분\", int(seconds), \"초\")\n",
    "\n",
    "# 검증\n",
    "check = hours * 3600 + minutes * 60 + seconds\n",
    "print(\"검증:\", int(check), \"초 (원래 값과 같은지 확인)\")"
   ]
  },
  {
   "cell_type": "markdown",
   "metadata": {},
   "source": [
    "## 도전 과제\n",
    "\n",
    "다음 문제들을 해결해보세요!"
   ]
  },
  {
   "cell_type": "code",
   "execution_count": 12,
   "metadata": {},
   "outputs": [
    {
     "name": "stdout",
     "output_type": "stream",
     "text": [
      "반지름: 5\n",
      "넓이: 78.53975\n",
      "둘레: 31.4159\n"
     ]
    }
   ],
   "source": [
    "# 도전 과제 1: 원의 넓이와 둘레 계산\n",
    "# 반지름이 주어졌을 때 원의 넓이와 둘레를 계산해보세요\n",
    "# 넓이 = π × r²\n",
    "# 둘레 = 2 × π × r\n",
    "\n",
    "# 여기에 코드를 작성해보세요!\n",
    "radius = 5\n",
    "pi = 3.14159\n",
    "\n",
    "area = pi * radius ** 2\n",
    "circumference = 2 * pi * radius\n",
    "\n",
    "print(\"반지름:\", radius)\n",
    "print(\"넓이:\", area)\n",
    "print(\"둘레:\", circumference)"
   ]
  },
  {
   "cell_type": "code",
   "execution_count": 16,
   "metadata": {},
   "outputs": [
    {
     "name": "stdout",
     "output_type": "stream",
     "text": [
      "원금: 1000000 원\n",
      "이자율: 5.0 %\n",
      "투자기간: 3 년\n",
      "최종 금액: 1157625 원\n",
      "이자 수익: 157625 원\n"
     ]
    }
   ],
   "source": [
    "# 도전 과제 2: 복리 계산기\n",
    "# 원금 100만원을 연 5% 복리로 3년간 투자했을 때 최종 금액은?\n",
    "# 공식: 최종금액 = 원금 × (1 + 이자율)^년수\n",
    "\n",
    "# 여기에 코드를 작성해보세요!\n",
    "principal = 1000000    # 원금 100만원\n",
    "rate = 0.05           # 연 5% (0.05로 표현)\n",
    "years = 3             # 3년\n",
    "\n",
    "final_amount = principal * (1 + rate) ** years\n",
    "earned_interest = final_amount - principal\n",
    "\n",
    "print(\"원금:\", principal, \"원\")\n",
    "print(\"이자율:\", rate * 100, \"%\")\n",
    "print(\"투자기간:\", years, \"년\")\n",
    "print(\"최종 금액:\", int(final_amount), \"원\")\n",
    "print(\"이자 수익:\", int(earned_interest), \"원\")"
   ]
  },
  {
   "cell_type": "code",
   "execution_count": 15,
   "metadata": {},
   "outputs": [
    {
     "name": "stdout",
     "output_type": "stream",
     "text": [
      "주행거리: 400 km\n",
      "사용 연료: 35 L\n",
      "연비: 11.43 km/L\n",
      "연료비: 52500 원\n",
      "1km당 연료비: 131.25 원\n"
     ]
    }
   ],
   "source": [
    "# 도전 과제 3: 연비 계산기\n",
    "# 주행거리와 사용한 연료량으로 연비를 계산해보세요\n",
    "# 연비 = 주행거리 / 연료량\n",
    "\n",
    "# 여기에 코드를 작성해보세요!\n",
    "distance = 400        # 주행거리 (km)\n",
    "fuel_used = 35        # 사용한 연료 (L)\n",
    "\n",
    "fuel_efficiency = distance / fuel_used  # km/L\n",
    "cost_per_liter = 1500  # 기름값 (원/L)\n",
    "total_fuel_cost = fuel_used * cost_per_liter\n",
    "\n",
    "print(\"주행거리:\", distance, \"km\")\n",
    "print(\"사용 연료:\", fuel_used, \"L\")\n",
    "print(\"연비:\", round(fuel_efficiency, 2), \"km/L\")\n",
    "print(\"연료비:\", total_fuel_cost, \"원\")\n",
    "print(\"1km당 연료비:\", round(total_fuel_cost / distance, 2), \"원\")"
   ]
  },
  {
   "cell_type": "markdown",
   "metadata": {},
   "source": [
    "## 정리\n",
    "\n",
    "### 오늘 배운 내용\n",
    "1. **숫자형 자료형** - 정수(int)와 실수(float)의 차이점\n",
    "2. **수학 연산자** - +, -, *, /, //, %, **\n",
    "3. **연산자 우선순위** - 수학과 동일한 규칙\n",
    "4. **형 변환** - int(), float(), str() 함수\n",
    "5. **실용적 활용** - 계산기, BMI, 할인계산 등\n",
    "\n",
    "### 핵심 포인트\n",
    "- 정수는 개수를, 실수는 측정값을 나타낼 때 주로 사용\n",
    "- `/`는 항상 실수 결과, `//`는 몫만 구함\n",
    "- `%`는 나머지를 구하는 연산자 (홀짝 판별, 배수 확인 등에 유용)\n",
    "- 형 변환을 통해 자료형을 필요에 따라 바꿀 수 있음\n",
    "\n",
    "### 다음 시간 예고\n",
    "다음 시간에는 **문자열 자료형**에 대해 배워보겠습니다!\n",
    "- 문자열 만들기와 조작하기\n",
    "- 문자열 연산과 메서드\n",
    "- 문자열 포맷팅\n",
    "\n",
    "### 학습 팁\n",
    "**\"계산기 없이도 프로그래밍으로!\"** - 일상생활의 계산들을 Python으로 해결해보세요!"
   ]
  }
 ],
 "metadata": {
  "kernelspec": {
   "display_name": "pystudy_env",
   "language": "python",
   "name": "python3"
  },
  "language_info": {
   "codemirror_mode": {
    "name": "ipython",
    "version": 3
   },
   "file_extension": ".py",
   "mimetype": "text/x-python",
   "name": "python",
   "nbconvert_exporter": "python",
   "pygments_lexer": "ipython3",
   "version": "3.12.7"
  }
 },
 "nbformat": 4,
 "nbformat_minor": 4
}
