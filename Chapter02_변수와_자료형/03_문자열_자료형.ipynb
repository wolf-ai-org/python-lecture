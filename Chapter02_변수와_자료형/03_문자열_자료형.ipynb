{
 "cells": [
  {
   "cell_type": "markdown",
   "metadata": {},
   "source": [
    "# 03. 문자열 자료형\n",
    "\n",
    "## 학습 목표\n",
    "- 문자열(String)이 무엇인지 이해하기\n",
    "- 문자열 만들기와 출력하기\n",
    "- 문자열 조작 방법들 배우기\n",
    "- 문자열 연결과 반복하기\n",
    "- 실용적인 문자열 활용 예제\n",
    "\n",
    "---"
   ]
  },
  {
   "cell_type": "markdown",
   "metadata": {},
   "source": [
    "## 문자열이 무엇인가요?\n",
    "\n",
    "**문자열(String)**은 **글자들의 모음**입니다!\n",
    "\n",
    "### 실생활 비유\n",
    "- **목걸이의 구슬들**: 구슬 하나하나가 글자, 전체 목걸이가 문자열\n",
    "- **기차**: 각 칸이 글자, 전체 기차가 문자열\n",
    "- **책의 문장**: 글자들이 모여서 의미 있는 문장을 만듦\n",
    "\n",
    "### 문자열의 특징\n",
    "- **따옴표**로 감싸서 만듭니다: `\"` 또는 `'`\n",
    "- **순서**가 있어요 (첫 번째 글자, 두 번째 글자...)\n",
    "- **길이**가 있어요 (몇 글자인지 셀 수 있음)\n",
    "- **불변**입니다 (한 번 만들어지면 내용을 바꿀 수 없음)"
   ]
  },
  {
   "cell_type": "markdown",
   "metadata": {},
   "source": [
    "## 문자열 만들기\n",
    "\n",
    "문자열을 만드는 방법은 여러 가지가 있습니다!"
   ]
  },
  {
   "cell_type": "code",
   "execution_count": 1,
   "metadata": {},
   "outputs": [
    {
     "name": "stdout",
     "output_type": "stream",
     "text": [
      "내 이름: 김파이썬\n",
      "좋아하는 음식: 치킨\n",
      "빈 문자열: \n",
      "나이(문자열): 25\n",
      "타입 확인: <class 'str'>\n"
     ]
    }
   ],
   "source": [
    "# 문자열 만들기 - 기본편\n",
    "\n",
    "# 1. 큰따옴표 사용\n",
    "my_name = \"김파이썬\"\n",
    "print(\"내 이름:\", my_name)\n",
    "\n",
    "# 2. 작은따옴표 사용  \n",
    "favorite_food = '치킨'\n",
    "print(\"좋아하는 음식:\", favorite_food)\n",
    "\n",
    "# 3. 빈 문자열\n",
    "empty_string = \"\"\n",
    "print(\"빈 문자열:\", empty_string)\n",
    "\n",
    "# 4. 숫자도 문자열로 만들기\n",
    "age_string = \"25\"\n",
    "print(\"나이(문자열):\", age_string)\n",
    "print(\"타입 확인:\", type(age_string))"
   ]
  },
  {
   "cell_type": "code",
   "execution_count": 2,
   "metadata": {},
   "outputs": [
    {
     "name": "stdout",
     "output_type": "stream",
     "text": [
      "\n",
      "내가 좋아하는 시\n",
      "파이썬은 재미있어\n",
      "코딩도 신나고\n",
      "프로그래밍 최고야!\n",
      "\n",
      "그가 말했다: '안녕하세요!'\n",
      "그녀가 말했다: \"반갑습니다!\"\n"
     ]
    }
   ],
   "source": [
    "# 문자열 만들기 - 고급편\n",
    "\n",
    "# 1. 여러 줄 문자열 (삼중 따옴표)\n",
    "poem = \"\"\"\n",
    "내가 좋아하는 시\n",
    "파이썬은 재미있어\n",
    "코딩도 신나고\n",
    "프로그래밍 최고야!\n",
    "\"\"\"\n",
    "print(poem)\n",
    "\n",
    "# 2. 따옴표 안에 따옴표 넣기\n",
    "message1 = \"그가 말했다: '안녕하세요!'\"\n",
    "message2 = '그녀가 말했다: \"반갑습니다!\"'\n",
    "print(message1)\n",
    "print(message2)"
   ]
  },
  {
   "cell_type": "markdown",
   "metadata": {},
   "source": [
    "## 문자열 길이와 인덱싱\n",
    "\n",
    "문자열의 길이를 측정하고 특정 위치의 글자를 가져올 수 있습니다!"
   ]
  },
  {
   "cell_type": "code",
   "execution_count": 3,
   "metadata": {},
   "outputs": [
    {
     "name": "stdout",
     "output_type": "stream",
     "text": [
      "원본 문자열: Hello Python\n",
      "길이: 12 글자\n",
      "첫 번째 글자 (인덱스 0): H\n",
      "두 번째 글자 (인덱스 1): e\n",
      "여섯 번째 글자 (인덱스 5):  \n",
      "마지막 글자: n\n",
      "뒤에서 두 번째 글자: o\n",
      "\n",
      "[참고] 인덱스는 0부터 시작합니다!\n",
      "H e l l o   P y t h o n\n",
      "0 1 2 3 4 5 6 7 8 9 10 11\n"
     ]
    }
   ],
   "source": [
    "# 문자열 기본 정보 알아보기\n",
    "\n",
    "sentence = \"Hello Python\"\n",
    "print(\"원본 문자열:\", sentence)\n",
    "print(\"길이:\", len(sentence), \"글자\")\n",
    "\n",
    "# 인덱싱 (특정 위치의 글자 가져오기)\n",
    "print(\"첫 번째 글자 (인덱스 0):\", sentence[0])\n",
    "print(\"두 번째 글자 (인덱스 1):\", sentence[1])\n",
    "print(\"여섯 번째 글자 (인덱스 5):\", sentence[5])\n",
    "\n",
    "# 마이너스 인덱싱 (뒤에서부터)\n",
    "print(\"마지막 글자:\", sentence[-1])\n",
    "print(\"뒤에서 두 번째 글자:\", sentence[-2])\n",
    "\n",
    "# 설명\n",
    "print(\"\\n[참고] 인덱스는 0부터 시작합니다!\")\n",
    "print(\"H e l l o   P y t h o n\")\n",
    "print(\"0 1 2 3 4 5 6 7 8 9 10 11\")"
   ]
  },
  {
   "cell_type": "markdown",
   "metadata": {},
   "source": [
    "## 문자열 슬라이싱\n",
    "\n",
    "문자열의 일부분을 잘라내는 방법을 배워보겠습니다!"
   ]
  },
  {
   "cell_type": "code",
   "execution_count": 8,
   "metadata": {},
   "outputs": [
    {
     "name": "stdout",
     "output_type": "stream",
     "text": [
      "원본: Python Programming\n",
      "길이: 18\n",
      "\n",
      "기본 슬라이싱:\n",
      "처음 6글자: Python\n",
      "7번 인덱스부터 끝까지: Programming\n",
      "처음부터 6글자: Python\n",
      "전체: Python Programming\n",
      "\n",
      "이메일 분석:\n",
      "전체 이메일: user@example.com\n",
      "@ 위치: 4\n",
      "사용자명: user\n",
      "도메인: example.com\n"
     ]
    }
   ],
   "source": [
    "# 문자열 슬라이싱\n",
    "\n",
    "text = \"Python Programming\"\n",
    "print(\"원본:\", text)\n",
    "print(\"길이:\", len(text))\n",
    "\n",
    "# 기본 슬라이싱 [시작:끝]\n",
    "print(\"\\n기본 슬라이싱:\")                # [시작 인덱스:끝 인덱스 - 1]\n",
    "print(\"처음 6글자:\", text[0:6])          # Python\n",
    "print(\"7번 인덱스부터 끝까지:\", text[7:])  # Programming\n",
    "print(\"처음부터 6글자:\", text[:6])        # Python\n",
    "print(\"전체:\", text[:])                 # Python Programming\n",
    "\n",
    "# 실용적인 예제\n",
    "email = \"user@example.com\"\n",
    "print(\"\\n이메일 분석:\")\n",
    "print(\"전체 이메일:\", email)\n",
    "\n",
    "# @ 기호의 위치(인덱스) 찾기\n",
    "at_position = email.find(\"@\")          # 인수(argument)의 위치 인덱스\n",
    "print(\"@ 위치:\", at_position)\n",
    "\n",
    "# 사용자 이름과 도메인 분리\n",
    "username = email[:at_position]\n",
    "domain = email[at_position+1:]\n",
    "print(\"사용자명:\", username)\n",
    "print(\"도메인:\", domain)"
   ]
  },
  {
   "cell_type": "markdown",
   "metadata": {},
   "source": [
    "## 문자열 연산\n",
    "\n",
    "문자열도 +와 * 연산자를 사용할 수 있습니다!"
   ]
  },
  {
   "cell_type": "code",
   "execution_count": 9,
   "metadata": {},
   "outputs": [
    {
     "name": "stdout",
     "output_type": "stream",
     "text": [
      "성: 김\n",
      "이름: 파이썬\n",
      "전체 이름: 김파이썬\n",
      "인사말: 안녕하세요, 김파이썬님!\n",
      "주소: 서울시 강남구 역삼동\n"
     ]
    }
   ],
   "source": [
    "# 문자열 연결 (+)\n",
    "first_name = \"김\"\n",
    "last_name = \"파이썬\"\n",
    "full_name = first_name + last_name\n",
    "\n",
    "print(\"성:\", first_name)\n",
    "print(\"이름:\", last_name)\n",
    "print(\"전체 이름:\", full_name)\n",
    "\n",
    "# 문자열과 공백 연결\n",
    "greeting = \"안녕하세요, \" + full_name + \"님!\"\n",
    "print(\"인사말:\", greeting)\n",
    "\n",
    "# 여러 문자열 연결\n",
    "address = \"서울시\" + \" \" + \"강남구\" + \" \" + \"역삼동\"\n",
    "print(\"주소:\", address)"
   ]
  },
  {
   "cell_type": "code",
   "execution_count": 10,
   "metadata": {},
   "outputs": [
    {
     "name": "stdout",
     "output_type": "stream",
     "text": [
      "별표 10개: **********\n",
      "하이픈 선: --------------------\n",
      "안녕 3번: 안녕!안녕!안녕!\n",
      "==============================\n",
      "       메뉴판       \n",
      "==============================\n",
      "1. 김치찌개 - 8,000원\n",
      "2. 불고기 - 12,000원\n",
      "3. 비빔밥 - 9,000원\n",
      "==============================\n",
      "\n",
      "상품목록:\n",
      "사과          3,000원\n",
      "바나나        2,500원\n",
      "오렌지        4,000원\n"
     ]
    }
   ],
   "source": [
    "# 문자열 반복 (*)\n",
    "print(\"별표 10개:\", \"*\" * 10)\n",
    "print(\"하이픈 선:\", \"-\" * 20)\n",
    "print(\"안녕 3번:\", \"안녕!\" * 3)\n",
    "\n",
    "# 실용적인 사용\n",
    "print(\"=\" * 30)\n",
    "print(\"       메뉴판       \")\n",
    "print(\"=\" * 30)\n",
    "print(\"1. 김치찌개 - 8,000원\")\n",
    "print(\"2. 불고기 - 12,000원\")\n",
    "print(\"3. 비빔밥 - 9,000원\")\n",
    "print(\"=\" * 30)\n",
    "\n",
    "# 공백을 이용한 정렬\n",
    "print(\"\\n상품목록:\")\n",
    "print(\"사과\" + \" \" * 10 + \"3,000원\")\n",
    "print(\"바나나\" + \" \" * 8 + \"2,500원\")\n",
    "print(\"오렌지\" + \" \" * 8 + \"4,000원\")"
   ]
  },
  {
   "cell_type": "markdown",
   "metadata": {},
   "source": [
    "## 문자열 메서드\n",
    "\n",
    "문자열을 변형하고 분석하는 유용한 메서드들을 배워보겠습니다!"
   ]
  },
  {
   "cell_type": "code",
   "execution_count": 13,
   "metadata": {},
   "outputs": [
    {
     "name": "stdout",
     "output_type": "stream",
     "text": [
      "원본: '   Python Programming   '\n",
      "원본2: 'python Programming'\n",
      "\n",
      "대소문자 변환:\n",
      "대문자로:    PYTHON PROGRAMMING   \n",
      "소문자로:    python programming   \n",
      "첫 글자만 대문자: Python programming\n",
      "단어별 첫 글자 대문자:    Python Programming   \n",
      "\n",
      "공백 제거:\n",
      "양쪽 공백 제거: 'Python Programming'\n",
      "왼쪽 공백 제거: 'Python Programming   '\n",
      "오른쪽 공백 제거: '   Python Programming'\n",
      "\n",
      "문자 교체:\n",
      "Python을 Java로:    Java Programming   \n",
      "공백을 밑줄로: ___Python_Programming___\n"
     ]
    }
   ],
   "source": [
    "# 문자열 변형 메서드\n",
    "\n",
    "text = \"   Python Programming   \"\n",
    "text2 = \"python Programming\"\n",
    "print(\"원본:\", \"'\" + text + \"'\")\n",
    "print(\"원본2:\", \"'\" + text2 + \"'\")\n",
    "\n",
    "print(\"\\n대소문자 변환:\")\n",
    "print(\"대문자로:\", text.upper())\n",
    "print(\"소문자로:\", text.lower())\n",
    "print(\"첫 글자만 대문자:\", text2.capitalize())\n",
    "print(\"단어별 첫 글자 대문자:\", text.title())\n",
    "\n",
    "print(\"\\n공백 제거:\")\n",
    "print(\"양쪽 공백 제거:\", \"'\" + text.strip() + \"'\")\n",
    "print(\"왼쪽 공백 제거:\", \"'\" + text.lstrip() + \"'\")\n",
    "print(\"오른쪽 공백 제거:\", \"'\" + text.rstrip() + \"'\")\n",
    "\n",
    "print(\"\\n문자 교체:\")\n",
    "print(\"Python을 Java로:\", text.replace(\"Python\", \"Java\"))\n",
    "print(\"공백을 밑줄로:\", text.replace(\" \", \"_\"))"
   ]
  },
  {
   "cell_type": "code",
   "execution_count": 19,
   "metadata": {},
   "outputs": [
    {
     "name": "stdout",
     "output_type": "stream",
     "text": [
      "이메일 분석: python123@example.com\n",
      "@가 포함되어 있나요? True\n",
      "python으로 시작하나요? True\n",
      ".com으로 끝나나요? True\n",
      "@의 위치: 9\n",
      "@의 개수: 1\n",
      "\n",
      "비밀번호 분석: mypassword123한글\n",
      "모두 숫자인가요? False\n",
      "모두 문자인가요? False\n",
      "문자와 숫자 조합인가요? True\n",
      "길이: 15 자\n",
      "\n",
      "전화번호 분석: 010-1234-5678\n",
      "-의 개수: 2\n",
      "010으로 시작하나요? True\n"
     ]
    }
   ],
   "source": [
    "# 문자열 분석 메서드\n",
    "\n",
    "email = \"python123@example.com\"\n",
    "password = \"mypassword123한글\"\n",
    "phone = \"010-1234-5678\"\n",
    "\n",
    "print(\"이메일 분석:\", email)\n",
    "print(\"@가 포함되어 있나요?\", \"@\" in email)\n",
    "print(\"python으로 시작하나요?\", email.startswith(\"python\"))\n",
    "print(\".com으로 끝나나요?\", email.endswith(\".com\"))\n",
    "print(\"@의 위치:\", email.find(\"@\"))\n",
    "print(\"@의 개수:\", email.count(\"@\"))\n",
    "\n",
    "print(\"\\n비밀번호 분석:\", password)\n",
    "print(\"모두 숫자인가요?\", password.isdigit())\n",
    "print(\"모두 문자인가요?\", password.isalpha())\n",
    "print(\"문자와 숫자 조합인가요?\", password.isalnum())\n",
    "print(\"길이:\", len(password), \"자\")\n",
    "\n",
    "print(\"\\n전화번호 분석:\", phone)\n",
    "print(\"-의 개수:\", phone.count(\"-\"))\n",
    "print(\"010으로 시작하나요?\", phone.startswith(\"010\"))"
   ]
  },
  {
   "cell_type": "markdown",
   "metadata": {},
   "source": [
    "## 실습: 사용자 정보 관리 프로그램\n",
    "\n",
    "지금까지 배운 문자열 기능을 활용해서 사용자 정보 관리 프로그램을 만들어보겠습니다!"
   ]
  },
  {
   "cell_type": "code",
   "execution_count": 20,
   "metadata": {},
   "outputs": [
    {
     "name": "stdout",
     "output_type": "stream",
     "text": [
      "========================================\n",
      "         사용자 정보 관리 시스템\n",
      "========================================\n",
      "\n",
      "[기본 정보]\n",
      "이름: 김파이썬\n",
      "이름 길이: 4 글자\n",
      "성: 김\n",
      "이름: 파이썬\n",
      "\n",
      "[연락처 정보]\n",
      "이메일: python@example.com\n",
      "사용자ID: python\n",
      "도메인: example.com\n",
      "\n",
      "전화번호: 010-1234-5678\n",
      "숫자만: 01012345678\n",
      "통신사 코드: 010\n",
      "\n",
      "[주소 정보]\n",
      "주소: 서울시 강남구 역삼동\n",
      "시/도: 서울시\n",
      "구/군: 강남구\n",
      "동/면: 역삼동\n",
      "\n",
      "========================================\n",
      "정보 분석 완료!\n",
      "========================================\n"
     ]
    }
   ],
   "source": [
    "# 사용자 정보 관리 프로그램\n",
    "print(\"=\" * 40)\n",
    "print(\"         사용자 정보 관리 시스템\")\n",
    "print(\"=\" * 40)\n",
    "\n",
    "# 사용자 정보 입력\n",
    "full_name = \"김파이썬\"\n",
    "email = \"python@example.com\"\n",
    "phone = \"010-1234-5678\"\n",
    "address = \"서울시 서초구 반포동\"\n",
    "\n",
    "# 정보 분석 및 출력\n",
    "print(\"\\n[기본 정보]\")\n",
    "print(\"이름:\", full_name)\n",
    "print(\"이름 길이:\", len(full_name), \"글자\")\n",
    "print(\"성:\", full_name[0])\n",
    "print(\"이름:\", full_name[1:])\n",
    "\n",
    "print(\"\\n[연락처 정보]\")\n",
    "print(\"이메일:\", email)\n",
    "at_pos = email.find(\"@\")\n",
    "print(\"사용자ID:\", email[:at_pos])\n",
    "print(\"도메인:\", email[at_pos+1:])\n",
    "\n",
    "print(\"\\n전화번호:\", phone)\n",
    "phone_clean = phone.replace(\"-\", \"\")\n",
    "print(\"숫자만:\", phone_clean)\n",
    "print(\"통신사 코드:\", phone[:3])\n",
    "\n",
    "print(\"\\n[주소 정보]\")\n",
    "print(\"주소:\", address)\n",
    "address_parts = address.split(\" \")\n",
    "print(\"시/도:\", address_parts[0])\n",
    "print(\"구/군:\", address_parts[1])\n",
    "print(\"동/면:\", address_parts[2])\n",
    "\n",
    "print(\"\\n\" + \"=\" * 40)\n",
    "print(\"정보 분석 완료!\")\n",
    "print(\"=\" * 40)"
   ]
  },
  {
   "cell_type": "markdown",
   "metadata": {},
   "source": [
    "## 실용적인 문자열 활용 예제들"
   ]
  },
  {
   "cell_type": "code",
   "execution_count": 22,
   "metadata": {},
   "outputs": [
    {
     "name": "stdout",
     "output_type": "stream",
     "text": [
      "비밀번호 강도 검사기\n",
      "=========================\n",
      "검사할 비밀번호: MyPassword123!\n",
      "길이: 14 자\n",
      "[좋음] 8자 이상\n",
      "[좋음] 대문자 포함\n",
      "[좋음] 소문자 포함\n",
      "[좋음] 숫자 포함\n",
      "\n",
      "강도 점수: 4 /4\n",
      "비밀번호 강도: 매우 강함\n"
     ]
    }
   ],
   "source": [
    "# 예제 1: 비밀번호 강도 검사기\n",
    "print(\"비밀번호 강도 검사기\")\n",
    "print(\"=\" * 25)\n",
    "\n",
    "password = \"MyPassword123!\"\n",
    "print(\"검사할 비밀번호:\", password)\n",
    "print(\"길이:\", len(password), \"자\")\n",
    "\n",
    "# 강도 검사\n",
    "score = 0\n",
    "feedback = []\n",
    "\n",
    "if len(password) >= 8:\n",
    "    score += 1\n",
    "    feedback.append(\"[좋음] 8자 이상\")\n",
    "else:\n",
    "    feedback.append(\"[나쁨] 8자 미만\")\n",
    "\n",
    "if any(c.isupper() for c in password):\n",
    "    score += 1\n",
    "    feedback.append(\"[좋음] 대문자 포함\")\n",
    "else:\n",
    "    feedback.append(\"[나쁨] 대문자 없음\")\n",
    "\n",
    "if any(c.islower() for c in password):\n",
    "    score += 1\n",
    "    feedback.append(\"[좋음] 소문자 포함\")\n",
    "else:\n",
    "    feedback.append(\"[나쁨] 소문자 없음\")\n",
    "\n",
    "if any(c.isdigit() for c in password):\n",
    "    score += 1\n",
    "    feedback.append(\"[좋음] 숫자 포함\")\n",
    "else:\n",
    "    feedback.append(\"[나쁨] 숫자 없음\")\n",
    "\n",
    "for comment in feedback:\n",
    "    print(comment)\n",
    "\n",
    "print(\"\\n강도 점수:\", score, \"/4\")\n",
    "if score >= 4:\n",
    "    print(\"비밀번호 강도: 매우 강함\")\n",
    "elif score >= 3:\n",
    "    print(\"비밀번호 강도: 강함\")\n",
    "elif score >= 2:\n",
    "    print(\"비밀번호 강도: 보통\")\n",
    "else:\n",
    "    print(\"비밀번호 강도: 약함\")"
   ]
  },
  {
   "cell_type": "code",
   "execution_count": 23,
   "metadata": {},
   "outputs": [
    {
     "name": "stdout",
     "output_type": "stream",
     "text": [
      "텍스트 통계 분석기\n",
      "====================\n",
      "분석할 텍스트:\n",
      "Python은 간단하고 배우기 쉬운 프로그래밍 언어입니다.\n",
      "Python으로 웹개발, 데이터분석, 인공지능 등 다양한 분야에서 활용할 수 있습니다.\n",
      "Python 커뮤니티는 매우 활발하고 도움이 되는 자료들이 많습니다.\n",
      "\n",
      "==================================================\n",
      "\n",
      "[기본 통계]\n",
      "전체 글자 수: 120 자\n",
      "공백 제외 글자 수: 99\n",
      "줄 수: 3 줄\n",
      "문장 수: 3 개\n",
      "\n",
      "[단어 통계]\n",
      "총 단어 수: 24 개\n",
      "Python 등장 횟수: 3 번\n",
      "가장 긴 단어: Python으로 ( 8 글자)\n"
     ]
    }
   ],
   "source": [
    "# 예제 2: 텍스트 통계 분석기\n",
    "print(\"텍스트 통계 분석기\")\n",
    "print(\"=\" * 20)\n",
    "\n",
    "text = \"\"\"Python은 간단하고 배우기 쉬운 프로그래밍 언어입니다.\n",
    "Python으로 웹개발, 데이터분석, 인공지능 등 다양한 분야에서 활용할 수 있습니다.\n",
    "Python 커뮤니티는 매우 활발하고 도움이 되는 자료들이 많습니다.\"\"\"\n",
    "\n",
    "print(\"분석할 텍스트:\")\n",
    "print(text)\n",
    "print(\"\\n\" + \"=\" * 50)\n",
    "\n",
    "# 기본 통계\n",
    "print(\"\\n[기본 통계]\")\n",
    "print(\"전체 글자 수:\", len(text), \"자\")\n",
    "print(\"공백 제외 글자 수:\", len(text.replace(\" \", \"\")))\n",
    "print(\"줄 수:\", text.count(\"\\n\") + 1, \"줄\")\n",
    "print(\"문장 수:\", text.count(\".\"), \"개\")\n",
    "\n",
    "# 단어 통계\n",
    "words = text.replace(\"\\n\", \" \").replace(\".\", \"\").replace(\",\", \"\").split()\n",
    "print(\"\\n[단어 통계]\")\n",
    "print(\"총 단어 수:\", len(words), \"개\")\n",
    "print(\"Python 등장 횟수:\", text.upper().count(\"PYTHON\"), \"번\")\n",
    "\n",
    "# 가장 긴 단어 찾기\n",
    "longest_word = max(words, key=len)\n",
    "print(\"가장 긴 단어:\", longest_word, \"(\", len(longest_word), \"글자)\")"
   ]
  },
  {
   "cell_type": "markdown",
   "metadata": {},
   "source": [
    "## 도전 과제\n",
    "\n",
    "다음 문제들을 해결해보세요!"
   ]
  },
  {
   "cell_type": "code",
   "execution_count": 24,
   "metadata": {},
   "outputs": [
    {
     "name": "stdout",
     "output_type": "stream",
     "text": [
      "전체 이름: 김파이썬\n",
      "성: 김\n",
      "이름: 파이썬\n",
      "이름 길이: 4 글자\n",
      "성씨별 분류: 김씨 성을 가진 사람\n"
     ]
    }
   ],
   "source": [
    "# 도전 과제 1: 이름 분석기\n",
    "# 전체 이름에서 성과 이름을 분리하고 정보를 출력하세요\n",
    "\n",
    "# 여기에 코드를 작성해보세요!\n",
    "full_name = \"김파이썬\"\n",
    "\n",
    "family_name = full_name[0]\n",
    "given_name = full_name[1:]\n",
    "\n",
    "print(\"전체 이름:\", full_name)\n",
    "print(\"성:\", family_name)\n",
    "print(\"이름:\", given_name)\n",
    "print(\"이름 길이:\", len(full_name), \"글자\")\n",
    "print(\"성씨별 분류:\", family_name + \"씨 성을 가진 사람\")"
   ]
  },
  {
   "cell_type": "code",
   "execution_count": 25,
   "metadata": {},
   "outputs": [
    {
     "name": "stdout",
     "output_type": "stream",
     "text": [
      "카테고리: LAPTOP\n",
      "일련번호: 1\n",
      "제품 코드: LAPTOP-001\n",
      "제품 1 : LAPTOP-001\n",
      "제품 2 : MOUSE-002\n",
      "제품 3 : KEYBOARD-003\n"
     ]
    }
   ],
   "source": [
    "# 도전 과제 2: 제품 코드 생성기\n",
    "# 카테고리와 일련번호로 제품 코드를 만들어보세요\n",
    "# 예: LAPTOP-001, MOUSE-002\n",
    "\n",
    "# 여기에 코드를 작성해보세요!\n",
    "category = \"LAPTOP\"\n",
    "number = 1\n",
    "\n",
    "# 일련번호를 3자리로 만들기 (001, 002, 003...)\n",
    "number_str = str(number).zfill(3)  # 앞을 0으로 채워서 3자리로\n",
    "product_code = category + \"-\" + number_str\n",
    "\n",
    "print(\"카테고리:\", category)\n",
    "print(\"일련번호:\", number)\n",
    "print(\"제품 코드:\", product_code)\n",
    "\n",
    "# 여러 개 만들어보기\n",
    "categories = [\"LAPTOP\", \"MOUSE\", \"KEYBOARD\"]\n",
    "for i, cat in enumerate(categories, 1):\n",
    "    code = cat + \"-\" + str(i).zfill(3)\n",
    "    print(\"제품\", i, \":\", code)"
   ]
  },
  {
   "cell_type": "code",
   "execution_count": 26,
   "metadata": {},
   "outputs": [
    {
     "name": "stdout",
     "output_type": "stream",
     "text": [
      "원본 메시지: HELLO\n",
      "암호화 중...\n",
      "H → K\n",
      "E → H\n",
      "L → O\n",
      "L → O\n",
      "O → R\n",
      "\n",
      "암호화된 메시지: KHOOR\n"
     ]
    }
   ],
   "source": [
    "# 도전 과제 3: 메시지 암호화기 (알파벳 대문자만 활용하는 간단한 시저 암호)\n",
    "# 각 글자를 알파벳 순서로 3칸씩 뒤로 밀어서 암호화해보세요\n",
    "# 예: A → D, B → E, C → F\n",
    "\n",
    "# 여기에 코드를 작성해보세요!\n",
    "message = \"HELLO\"\n",
    "shift = 3\n",
    "encrypted = \"\"\n",
    "\n",
    "print(\"원본 메시지:\", message)\n",
    "print(\"암호화 중...\")\n",
    "\n",
    "for char in message:\n",
    "    if char.isalpha():  # 알파벳인 경우에만\n",
    "        # A=65, B=66, C=67... (ASCII 코드)\n",
    "        ascii_val = ord(char)  # 문자를 ASCII 숫자로\n",
    "        shifted = ascii_val + shift\n",
    "        \n",
    "        # Z를 넘어가면 A로 돌아가기\n",
    "        if shifted > ord('Z'):\n",
    "            shifted = shifted - 26\n",
    "            \n",
    "        encrypted_char = chr(shifted)  # 숫자를 다시 문자로\n",
    "        encrypted += encrypted_char\n",
    "        print(char, \"→\", encrypted_char)\n",
    "    else:\n",
    "        encrypted += char\n",
    "\n",
    "print(\"\\n암호화된 메시지:\", encrypted)"
   ]
  },
  {
   "cell_type": "markdown",
   "metadata": {},
   "source": [
    "## 정리\n",
    "\n",
    "### 오늘 배운 내용\n",
    "1. **문자열의 개념** - 글자들의 모음, 따옴표로 생성\n",
    "2. **문자열 인덱싱** - 특정 위치의 글자 접근\n",
    "3. **문자열 슬라이싱** - 문자열의 일부분 추출\n",
    "4. **문자열 연산** - +로 연결, *로 반복\n",
    "5. **문자열 메서드** - upper(), lower(), strip(), replace() 등\n",
    "6. **실용적 활용** - 정보 분석, 텍스트 처리\n",
    "\n",
    "### 핵심 포인트\n",
    "- 문자열 인덱스는 0부터 시작합니다\n",
    "- 문자열은 불변이므로 메서드로 변경된 새 문자열이 반환됩니다\n",
    "- 슬라이싱 [시작:끝]에서 끝 인덱스는 포함되지 않습니다\n",
    "- 문자열 메서드를 조합하면 강력한 텍스트 처리가 가능합니다\n",
    "\n",
    "### 다음 시간 예고\n",
    "다음 시간에는 **불린형 자료형**에 대해 배워보겠습니다!\n",
    "- True와 False 값\n",
    "- 논리 연산자\n",
    "- 조건 판별하기\n",
    "\n",
    "### 학습 팁\n",
    "**\"문자열은 데이터의 보고!\"** - 실제 데이터 처리에서 문자열 조작은 매우 중요한 기술입니다!"
   ]
  }
 ],
 "metadata": {
  "kernelspec": {
   "display_name": "pystudy_env",
   "language": "python",
   "name": "python3"
  },
  "language_info": {
   "codemirror_mode": {
    "name": "ipython",
    "version": 3
   },
   "file_extension": ".py",
   "mimetype": "text/x-python",
   "name": "python",
   "nbconvert_exporter": "python",
   "pygments_lexer": "ipython3",
   "version": "3.12.7"
  }
 },
 "nbformat": 4,
 "nbformat_minor": 4
}
