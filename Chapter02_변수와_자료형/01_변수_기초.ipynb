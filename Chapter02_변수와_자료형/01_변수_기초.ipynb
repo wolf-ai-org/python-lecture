{
 "cells": [
  {
   "cell_type": "markdown",
   "metadata": {},
   "source": [
    "# 01. 변수 기초\n",
    "\n",
    "## 학습 목표\n",
    "이번 섹션에서는 프로그래밍의 가장 기본이 되는 **변수**에 대해 배워보겠습니다.\n",
    "\n",
    "**이번 시간에 배울 내용**\n",
    "- 변수가 무엇인지 이해하기\n",
    "- 변수를 만들고 사용하는 방법 배우기\n",
    "- 변수 이름을 짓는 규칙 알아보기\n",
    "- 변수의 값을 변경하고 확인하기\n",
    "- 실생활 예제로 변수 활용해보기\n",
    "\n",
    "**학습 시간:** 약 30-40분\n",
    "\n",
    "---"
   ]
  },
  {
   "cell_type": "markdown",
   "metadata": {},
   "source": [
    "## 변수가 무엇인가요?\n",
    "\n",
    "**변수(Variable)**는 **데이터를 저장하는 상자**라고 생각하면 됩니다.\n",
    "\n",
    "### 실생활 비유로 이해하기\n",
    "\n",
    "우리 집에 있는 **서랍장**을 생각해보세요:\n",
    "- **양말 서랍**: 양말들을 넣어둡니다\n",
    "- **속옷 서랍**: 속옷들을 넣어둡니다  \n",
    "- **티셔츠 서랍**: 티셔츠들을 넣어둡니다\n",
    "\n",
    "변수도 마찬가지입니다:\n",
    "- **name 변수**: \"김철수\"라는 이름을 넣어둡니다\n",
    "- **age 변수**: 25라는 나이를 넣어둡니다\n",
    "- **height 변수**: 175.5라는 키를 넣어둡니다\n",
    "\n",
    "**핵심**: 변수는 **이름표가 붙은 데이터 저장소**입니다!\n",
    "\n",
    "### 왜 변수가 필요할까요?\n",
    "\n",
    "1. **재사용**: 같은 값을 여러 번 사용할 때 편리합니다\n",
    "2. **수정 용이**: 나중에 값을 바꾸고 싶을 때 한 곳만 수정하면 됩니다\n",
    "3. **가독성**: 코드를 읽기 쉽게 만들어줍니다\n",
    "4. **의미 전달**: 숫자나 문자열이 무엇을 의미하는지 명확하게 해줍니다\n",
    "\n",
    "예를 들어:\n",
    "```python\n",
    "# 변수 없이 사용한 경우 - 무엇을 의미하는지 알기 어려움\n",
    "print(175.5 * 175.5 * 22.5)\n",
    "\n",
    "# 변수를 사용한 경우 - 의미가 명확함\n",
    "height = 175.5\n",
    "bmi_coefficient = 22.5\n",
    "result = height * height * bmi_coefficient\n",
    "print(result)\n",
    "```"
   ]
  },
  {
   "cell_type": "markdown",
   "metadata": {},
   "source": [
    "## 변수 만들고 사용하기\n",
    "\n",
    "Python에서 변수를 만드는 것은 정말 간단합니다!\n",
    "\n",
    "### 기본 문법\n",
    "```python\n",
    "변수명 = 값\n",
    "```\n",
    "\n",
    "여기서 `=`는 **할당 연산자**라고 부르며, \"오른쪽 값을 왼쪽 변수에 저장한다\"는 의미입니다."
   ]
  },
  {
   "cell_type": "code",
   "execution_count": 1,
   "metadata": {},
   "outputs": [
    {
     "name": "stdout",
     "output_type": "stream",
     "text": [
      "김철수\n"
     ]
    }
   ],
   "source": [
    "# 첫 번째 변수 만들기\n",
    "name = \"김철수\"\n",
    "print(name)\n",
    "\n",
    "# 설명: \n",
    "# 1. \"김철수\"라는 문자열을 name이라는 변수에 저장합니다\n",
    "# 2. print() 함수로 name 변수의 값을 화면에 출력합니다"
   ]
  },
  {
   "cell_type": "code",
   "execution_count": 2,
   "metadata": {},
   "outputs": [
    {
     "name": "stdout",
     "output_type": "stream",
     "text": [
      "나이: 25\n",
      "키: 175.5\n",
      "몸무게: 70.2\n"
     ]
    }
   ],
   "source": [
    "# 숫자도 저장할 수 있습니다\n",
    "age = 25          # 정수(integer)\n",
    "height = 175.5    # 실수(float)\n",
    "weight = 70.2     # 실수(float)\n",
    "\n",
    "print(\"나이:\", age)\n",
    "print(\"키:\", height)\n",
    "print(\"몸무게:\", weight)\n",
    "\n",
    "# 설명:\n",
    "# - 숫자는 따옴표 없이 그대로 씁니다\n",
    "# - 소수점이 있는 숫자는 실수라고 부릅니다\n",
    "# - 소수점이 없는 숫자는 정수라고 부릅니다"
   ]
  },
  {
   "cell_type": "code",
   "execution_count": 4,
   "metadata": {},
   "outputs": [
    {
     "name": "stdout",
     "output_type": "stream",
     "text": [
      "==============================\n",
      "      학생 정보 관리 시스템      \n",
      "==============================\n",
      "이름: 이영희\n",
      "학년: 2 학년\n",
      "반: 3 반\n",
      "번호: 15 번\n",
      "==============================\n"
     ]
    }
   ],
   "source": [
    "# 실용적인 예제: 학생 정보 관리\n",
    "student_name = \"이영희\"\n",
    "student_grade = 2\n",
    "student_class = 3\n",
    "student_number = 15\n",
    "\n",
    "print(\"=\" * 30)\n",
    "print(\"      학생 정보 관리 시스템      \")\n",
    "print(\"=\" * 30)\n",
    "print(\"이름:\", student_name)\n",
    "print(\"학년:\", student_grade, \"학년\")\n",
    "print(\"반:\", student_class, \"반\")\n",
    "print(\"번호:\", student_number, \"번\")\n",
    "print(\"=\" * 30)\n",
    "\n",
    "# 설명:\n",
    "# - print() 함수에 여러 값을 넣으면 공백으로 구분되어 출력됩니다\n",
    "# - \"=\" * 30은 등호를 30개 반복해서 선을 그어줍니다"
   ]
  },
  {
   "cell_type": "markdown",
   "metadata": {},
   "source": [
    "## 변수 값 변경하기\n",
    "\n",
    "변수의 가장 큰 특징은 **값을 바꿀 수 있다**는 것입니다!\n",
    "\n",
    "마치 서랍에서 옷을 빼고 새로운 옷을 넣는 것처럼, 변수에서도 기존 값을 빼고 새로운 값을 넣을 수 있습니다.\n",
    "\n",
    "### 변수 값이 변경되는 과정\n",
    "1. 기존 값을 메모리에서 제거\n",
    "2. 새로운 값을 메모리에 저장\n",
    "3. 변수가 새로운 값을 가리키도록 변경"
   ]
  },
  {
   "cell_type": "code",
   "execution_count": 5,
   "metadata": {},
   "outputs": [
    {
     "name": "stdout",
     "output_type": "stream",
     "text": [
      "처음 점수: 100\n",
      "바뀐 점수: 85\n",
      "10점 추가 후 점수: 95\n"
     ]
    }
   ],
   "source": [
    "# 변수 값 변경해보기\n",
    "score = 100\n",
    "print(\"처음 점수:\", score)\n",
    "\n",
    "score = 85  # 값을 바꿨습니다!\n",
    "print(\"바뀐 점수:\", score)\n",
    "\n",
    "score = score + 10  # 기존 값에 10을 더했습니다!\n",
    "print(\"10점 추가 후 점수:\", score)\n",
    "\n",
    "# 설명:\n",
    "# score = score + 10의 실행 순서:\n",
    "# 1. 오른쪽부터 계산: score + 10 → 85 + 10 → 95\n",
    "# 2. 계산 결과를 score 변수에 저장: score = 95"
   ]
  },
  {
   "cell_type": "code",
   "execution_count": 6,
   "metadata": {},
   "outputs": [
    {
     "name": "stdout",
     "output_type": "stream",
     "text": [
      "현재 나이: 20 살\n",
      "생일 후 나이: 21 살\n",
      "또 한 살 더: 22 살\n"
     ]
    }
   ],
   "source": [
    "# 생일이 지나면 나이가 늘어나는 상황\n",
    "my_age = 20\n",
    "print(\"현재 나이:\", my_age, \"살\")\n",
    "\n",
    "# 생일이 지났습니다!\n",
    "my_age = my_age + 1\n",
    "print(\"생일 후 나이:\", my_age, \"살\")\n",
    "\n",
    "# 더 간단하게 쓸 수 있습니다!\n",
    "my_age += 1  # my_age = my_age + 1과 같은 의미\n",
    "print(\"또 한 살 더:\", my_age, \"살\")\n",
    "\n",
    "# 설명:\n",
    "# += 연산자는 기존 값에 더하는 축약형입니다\n",
    "# 비슷하게 -=, *=, /= 등도 있습니다"
   ]
  },
  {
   "cell_type": "markdown",
   "metadata": {},
   "source": [
    "## 변수 이름 짓기 규칙\n",
    "\n",
    "변수 이름을 지을 때는 반드시 지켜야 할 **규칙**과 **권장사항**이 있습니다.\n",
    "\n",
    "### 필수 규칙 (지키지 않으면 오류 발생)\n",
    "\n",
    "1. **영문자, 숫자, 밑줄(_)만 사용** 가능\n",
    "2. **숫자로 시작할 수 없음**\n",
    "3. **공백 사용 불가**\n",
    "4. **Python 예약어 사용 불가** (if, for, while 등)\n",
    "5. **대소문자 구분** (name과 Name은 다른 변수)\n",
    "\n",
    "### 권장사항 (더 좋은 코드를 위해)\n",
    "\n",
    "1. **의미 있는 이름** 사용하기\n",
    "2. **소문자와 밑줄** 사용하기 (Python 스타일)\n",
    "3. **너무 길거나 짧지 않게**\n",
    "4. **한글은 가능하지만 권장하지 않음**"
   ]
  },
  {
   "cell_type": "code",
   "execution_count": 7,
   "metadata": {},
   "outputs": [
    {
     "name": "stdout",
     "output_type": "stream",
     "text": [
      "학생 이름: 홍길동\n",
      "나이: 25\n",
      "총점: 95\n",
      "숫자 1: 10\n",
      "사용자 입력: 안녕하세요\n"
     ]
    }
   ],
   "source": [
    "# 올바른 변수 이름 예시\n",
    "student_name = \"홍길동\"        # 좋음: 의미가 명확함\n",
    "age = 25                      # 좋음: 간단하고 명확함\n",
    "total_score = 95              # 좋음: 밑줄로 단어 구분\n",
    "number_1 = 10                 # 가능: 숫자가 뒤에 있음\n",
    "user_input = \"안녕하세요\"      # 좋음: 의미가 명확함\n",
    "\n",
    "print(\"학생 이름:\", student_name)\n",
    "print(\"나이:\", age)\n",
    "print(\"총점:\", total_score)\n",
    "print(\"숫자 1:\", number_1)\n",
    "print(\"사용자 입력:\", user_input)"
   ]
  },
  {
   "cell_type": "code",
   "execution_count": 8,
   "metadata": {},
   "outputs": [
    {
     "name": "stdout",
     "output_type": "stream",
     "text": [
      "a: 김철수\n",
      "x: 25\n",
      "data123: 95\n",
      "긴 이름: 정보\n"
     ]
    }
   ],
   "source": [
    "# 좋지 않은 변수 이름 예시 (하지만 작동은 함)\n",
    "a = \"김철수\"                   # 나쁨: 의미를 알 수 없음\n",
    "x = 25                        # 나쁨: 무엇을 나타내는지 모름\n",
    "data123 = 95                  # 나쁨: 의미 없는 숫자\n",
    "student_name_and_age_info = \"정보\"  # 나쁨: 너무 김\n",
    "\n",
    "print(\"a:\", a)\n",
    "print(\"x:\", x)\n",
    "print(\"data123:\", data123)\n",
    "print(\"긴 이름:\", student_name_and_age_info)\n",
    "\n",
    "# 위 코드는 작동하지만, 나중에 코드를 읽을 때 무엇을 의미하는지 알기 어렵습니다!"
   ]
  },
  {
   "cell_type": "markdown",
   "metadata": {},
   "source": [
    "## 실습: 개인정보 관리 프로그램\n",
    "\n",
    "지금까지 배운 변수를 활용해서 개인정보 관리 프로그램을 만들어보겠습니다!"
   ]
  },
  {
   "cell_type": "code",
   "execution_count": 12,
   "metadata": {},
   "outputs": [
    {
     "name": "stdout",
     "output_type": "stream",
     "text": [
      "========================================\n",
      "         개인정보 관리 프로그램\n",
      "========================================\n",
      "이름: 김파이썬\n",
      "나이: 25 세\n",
      "키: 175.5 cm\n",
      "몸무게: 70.0 kg\n",
      "직업: 개발자\n",
      "취미: 코딩\n",
      "========================================\n",
      "정보 업데이트 중...\n",
      "========================================\n",
      "[업데이트된 정보]\n",
      "이름: 김파이썬\n",
      "나이: 26 세\n",
      "키: 175.5 cm\n",
      "몸무게: 68.5 kg\n",
      "직업: 개발자\n",
      "취미: 독서\n",
      "========================================\n",
      "업데이트 완료!\n",
      "========================================\n"
     ]
    }
   ],
   "source": [
    "# 개인정보 관리 프로그램\n",
    "print(\"=\" * 40)\n",
    "print(\"         개인정보 관리 프로그램\")\n",
    "print(\"=\" * 40)\n",
    "\n",
    "# 개인정보 변수 설정\n",
    "name = \"김파이썬\"\n",
    "age = 25\n",
    "height = 175.5\n",
    "weight = 70.0\n",
    "job = \"개발자\"\n",
    "hobby = \"코딩\"\n",
    "\n",
    "# 정보 출력\n",
    "print(\"이름:\", name)\n",
    "print(\"나이:\", age, \"세\")\n",
    "print(\"키:\", height, \"cm\")\n",
    "print(\"몸무게:\", weight, \"kg\")\n",
    "print(\"직업:\", job)\n",
    "print(\"취미:\", hobby)\n",
    "\n",
    "print(\"=\" * 40)\n",
    "print(\"정보 업데이트 중...\")\n",
    "print(\"=\" * 40)\n",
    "\n",
    "# 정보 업데이트 (나이가 1살 늘고, 몸무게가 변했다고 가정)\n",
    "age = age + 1\n",
    "weight = 68.5\n",
    "hobby = \"독서\"  # 취미도 바뀜\n",
    "\n",
    "print(\"[업데이트된 정보]\")\n",
    "print(\"이름:\", name)\n",
    "print(\"나이:\", age, \"세\")  # 26세로 변경됨\n",
    "print(\"키:\", height, \"cm\")\n",
    "print(\"몸무게:\", weight, \"kg\")  # 68.5kg으로 변경됨\n",
    "print(\"직업:\", job)\n",
    "print(\"취미:\", hobby)  # 독서로 변경됨\n",
    "\n",
    "print(\"=\" * 40)\n",
    "print(\"업데이트 완료!\")\n",
    "print(\"=\" * 40)"
   ]
  },
  {
   "cell_type": "markdown",
   "metadata": {},
   "source": [
    "## 도전 과제\n",
    "\n",
    "다음 문제들을 해결해보세요!"
   ]
  },
  {
   "cell_type": "code",
   "execution_count": 13,
   "metadata": {},
   "outputs": [
    {
     "name": "stdout",
     "output_type": "stream",
     "text": [
      "국어: 85 점\n",
      "영어: 90 점\n",
      "수학: 88 점\n",
      "총점: 263 점\n"
     ]
    }
   ],
   "source": [
    "# 도전 과제 1: 점수 관리\n",
    "# 국어, 영어, 수학 점수를 변수로 만들고 총점을 계산해보세요\n",
    "\n",
    "# 여기에 코드를 작성해보세요!\n",
    "korean = 85\n",
    "english = 90\n",
    "math = 88\n",
    "\n",
    "# 총점 계산\n",
    "total = korean + english + math\n",
    "\n",
    "print(\"국어:\", korean, \"점\")\n",
    "print(\"영어:\", english, \"점\")\n",
    "print(\"수학:\", math, \"점\")\n",
    "print(\"총점:\", total, \"점\")"
   ]
  },
  {
   "cell_type": "code",
   "execution_count": 14,
   "metadata": {},
   "outputs": [
    {
     "name": "stdout",
     "output_type": "stream",
     "text": [
      "섭씨 25 도는\n",
      "화씨 77.0 도입니다\n"
     ]
    }
   ],
   "source": [
    "# 도전 과제 2: 온도 변환\n",
    "# 섭씨 온도를 화씨로 변환하는 프로그램을 만들어보세요\n",
    "# 공식: 화씨 = 섭씨 * 9/5 + 32\n",
    "\n",
    "# 여기에 코드를 작성해보세요!\n",
    "celsius = 25  # 섭씨 25도\n",
    "\n",
    "# 화씨로 변환\n",
    "fahrenheit = celsius * 9 / 5 + 32\n",
    "\n",
    "print(\"섭씨\", celsius, \"도는\")\n",
    "print(\"화씨\", fahrenheit, \"도입니다\")"
   ]
  },
  {
   "cell_type": "code",
   "execution_count": 15,
   "metadata": {},
   "outputs": [
    {
     "name": "stdout",
     "output_type": "stream",
     "text": [
      "=== 장바구니 목록 ===\n",
      "1. 노트북 : 1200000 원\n",
      "2. 마우스 : 50000 원\n",
      "3. 키보드 : 80000 원\n",
      "===================\n",
      "총 금액: 1330000 원\n"
     ]
    }
   ],
   "source": [
    "# 도전 과제 3: 쇼핑몰 장바구니\n",
    "# 상품 3개의 이름과 가격을 변수로 만들고, 총 금액을 계산해보세요\n",
    "\n",
    "# 여기에 코드를 작성해보세요!\n",
    "item1_name = \"노트북\"\n",
    "item1_price = 1200000\n",
    "\n",
    "item2_name = \"마우스\"\n",
    "item2_price = 50000\n",
    "\n",
    "item3_name = \"키보드\"\n",
    "item3_price = 80000\n",
    "\n",
    "# 총 금액 계산\n",
    "total_price = item1_price + item2_price + item3_price\n",
    "\n",
    "print(\"=== 장바구니 목록 ===\")\n",
    "print(\"1.\", item1_name, \":\", item1_price, \"원\")\n",
    "print(\"2.\", item2_name, \":\", item2_price, \"원\")\n",
    "print(\"3.\", item3_name, \":\", item3_price, \"원\")\n",
    "print(\"===================\")\n",
    "print(\"총 금액:\", total_price, \"원\")"
   ]
  },
  {
   "cell_type": "markdown",
   "metadata": {},
   "source": [
    "## 정리\n",
    "\n",
    "### 오늘 배운 내용\n",
    "1. **변수의 개념** - 데이터를 저장하는 상자\n",
    "2. **변수 만들기** - `변수명 = 값` 형식\n",
    "3. **변수 값 변경** - 새로운 값을 할당하여 변경 가능\n",
    "4. **변수 이름 규칙** - 영문자, 숫자, 밑줄 사용, 숫자로 시작 불가\n",
    "5. **실용적 활용** - 개인정보 관리, 점수 계산 등\n",
    "\n",
    "### 핵심 포인트\n",
    "- 변수는 데이터를 저장하고 재사용할 수 있게 해줍니다\n",
    "- `=`는 할당 연산자로 오른쪽 값을 왼쪽 변수에 저장합니다\n",
    "- 변수 이름은 의미 있게 지어야 코드를 이해하기 쉽습니다\n",
    "- 변수의 값은 언제든지 변경할 수 있습니다\n",
    "\n",
    "### 다음 시간 예고\n",
    "다음 시간에는 **숫자형 자료형**에 대해 자세히 배워보겠습니다!\n",
    "- 정수(int)와 실수(float)의 차이점\n",
    "- 다양한 수학 연산자들\n",
    "- 자료형 변환 방법\n",
    "\n",
    "### 학습 팁\n",
    "**\"의미 있는 변수명을 사용하자!\"** - 코드는 컴퓨터가 읽는 것이 아니라 사람이 읽는 것입니다!"
   ]
  }
 ],
 "metadata": {
  "kernelspec": {
   "display_name": "pystudy_env",
   "language": "python",
   "name": "python3"
  },
  "language_info": {
   "codemirror_mode": {
    "name": "ipython",
    "version": 3
   },
   "file_extension": ".py",
   "mimetype": "text/x-python",
   "name": "python",
   "nbconvert_exporter": "python",
   "pygments_lexer": "ipython3",
   "version": "3.12.7"
  }
 },
 "nbformat": 4,
 "nbformat_minor": 4
}
