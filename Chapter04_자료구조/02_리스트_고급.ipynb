{
 "cells": [
  {
   "cell_type": "markdown",
   "metadata": {},
   "source": [
    "# 리스트 고급\n",
    "\n",
    "## 학습 목표\n",
    "- 리스트의 고급 메서드들을 활용한다\n",
    "- 리스트 컴프리헨션을 이해하고 활용한다\n",
    "- 중첩 리스트의 개념과 활용법을 익힌다\n",
    "\n",
    "## 1. 리스트 메서드\n",
    "\n",
    "리스트에는 다양한 메서드가 있어 데이터를 효율적으로 조작할 수 있습니다."
   ]
  },
  {
   "cell_type": "code",
   "execution_count": 2,
   "metadata": {},
   "outputs": [
    {
     "name": "stdout",
     "output_type": "stream",
     "text": [
      "초기 리스트: ['사과', '바나나', '오렌지']\n",
      "append() 후: ['사과', '바나나', '오렌지', '포도']\n",
      "insert(숫자) 후: ['사과', '딸기', '바나나', '오렌지', '포도']\n",
      "extend(배열) 후: ['사과', '딸기', '바나나', '오렌지', '포도', '키위', '망고']\n"
     ]
    }
   ],
   "source": [
    "# 기본 리스트 준비\n",
    "fruits = ['사과', '바나나', '오렌지']\n",
    "print(\"초기 리스트:\", fruits)\n",
    "\n",
    "# append(): 끝에 요소 추가\n",
    "fruits.append('포도')\n",
    "print(\"append() 후:\", fruits)\n",
    "\n",
    "# insert(): 특정 위치에 요소 삽입\n",
    "fruits.insert(1, '딸기')\n",
    "print(\"insert(숫자) 후:\", fruits)\n",
    "\n",
    "# extend(): 다른 리스트의 모든 요소 추가\n",
    "fruits.extend(['키위', '망고'])\n",
    "print(\"extend(배열) 후:\", fruits)"
   ]
  },
  {
   "cell_type": "code",
   "execution_count": 3,
   "metadata": {},
   "outputs": [
    {
     "name": "stdout",
     "output_type": "stream",
     "text": [
      "원본 리스트: [1, 2, 3, 4, 5, 3, 6, 3]\n",
      "remove(3) 후: [1, 2, 4, 5, 3, 6, 3]\n",
      "pop() 후: [1, 2, 4, 5, 3, 6], 제거된 값: 3\n",
      "pop(1) 후: [1, 4, 5, 3, 6], 제거된 값: 2\n",
      "clear() 후: []\n"
     ]
    }
   ],
   "source": [
    "# 요소 제거 메서드들\n",
    "numbers = [1, 2, 3, 4, 5, 3, 6, 3]\n",
    "print(\"원본 리스트:\", numbers)\n",
    "\n",
    "# remove(값): 첫 번째로 나타나는 값 제거\n",
    "numbers.remove(3)\n",
    "print(\"remove(3) 후:\", numbers)\n",
    "\n",
    "# pop(): 마지막 요소 제거하고 반환\n",
    "last_item = numbers.pop()\n",
    "print(f\"pop() 후: {numbers}, 제거된 값: {last_item}\")\n",
    "\n",
    "# pop(index): 특정 인덱스 요소 제거하고 반환\n",
    "removed_item = numbers.pop(1)\n",
    "print(f\"pop(1) 후: {numbers}, 제거된 값: {removed_item}\")\n",
    "\n",
    "# clear(): 모든 요소 제거\n",
    "copy_numbers = numbers.copy()\n",
    "copy_numbers.clear()\n",
    "print(\"clear() 후:\", copy_numbers)"
   ]
  },
  {
   "cell_type": "code",
   "execution_count": 4,
   "metadata": {},
   "outputs": [
    {
     "name": "stdout",
     "output_type": "stream",
     "text": [
      "동물 리스트: ['고양이', '강아지', '토끼', '강아지', '햄스터']\n",
      "'강아지'의 인덱스: 1\n",
      "'강아지'의 개수: 2\n",
      "sort() 후: ['강아지', '강아지', '고양이', '토끼', '햄스터']\n",
      "reverse() 후: ['햄스터', '토끼', '고양이', '강아지', '강아지']\n"
     ]
    }
   ],
   "source": [
    "# 검색과 정렬 메서드들\n",
    "animals = ['고양이', '강아지', '토끼', '강아지', '햄스터']\n",
    "print(\"동물 리스트:\", animals)\n",
    "\n",
    "# index(): 값의 인덱스 찾기\n",
    "dog_index = animals.index('강아지')\n",
    "print(f\"'강아지'의 인덱스: {dog_index}\")\n",
    "\n",
    "# count(): 값의 개수 세기\n",
    "dog_count = animals.count('강아지')\n",
    "print(f\"'강아지'의 개수: {dog_count}\")\n",
    "\n",
    "# sort(): 정렬 (원본 변경)\n",
    "animals.sort()\n",
    "print(\"sort() 후:\", animals)\n",
    "\n",
    "# reverse(): 뒤집기\n",
    "animals.reverse()\n",
    "print(\"reverse() 후:\", animals)"
   ]
  },
  {
   "cell_type": "markdown",
   "metadata": {},
   "source": [
    "## 2. 리스트 연산자\n",
    "\n",
    "리스트는 + 와 * 연산자를 사용할 수 있습니다."
   ]
  },
  {
   "cell_type": "code",
   "execution_count": 5,
   "metadata": {},
   "outputs": [
    {
     "name": "stdout",
     "output_type": "stream",
     "text": [
      "리스트 연결: [1, 2, 3, 4, 5, 6]\n",
      "반복 생성: [0, 0, 0, 0, 0]\n",
      "패턴 반복: ['A', 'B', 'A', 'B', 'A', 'B']\n",
      "+= 연산자: [1, 2, 3, 4, 5]\n"
     ]
    }
   ],
   "source": [
    "# 리스트 연결 (+)\n",
    "list1 = [1, 2, 3]\n",
    "list2 = [4, 5, 6]\n",
    "combined = list1 + list2\n",
    "print(\"리스트 연결:\", combined)\n",
    "\n",
    "# 리스트 반복 (*)\n",
    "repeated = [0] * 5\n",
    "print(\"반복 생성:\", repeated)\n",
    "\n",
    "pattern = ['A', 'B'] * 3\n",
    "print(\"패턴 반복:\", pattern)\n",
    "\n",
    "# += 연산자 (extend와 같은 효과)\n",
    "numbers = [1, 2, 3]\n",
    "numbers += [4, 5]\n",
    "print(\"+= 연산자:\", numbers)"
   ]
  },
  {
   "cell_type": "markdown",
   "metadata": {},
   "source": [
    "## 3. 리스트 컴프리헨션\n",
    "\n",
    "리스트 컴프리헨션은 간결하고 효율적으로 새로운 리스트를 생성하는 방법입니다.\n",
    "리스트 컴프리헨션의 기본 구조와 읽는 방법\n",
    "\n",
    "### 1. 기본 형태\n",
    "[표현식 for 항목 in 반복가능객체]\n",
    "예: [x**2 for x in range(1, 11)]\n",
    "읽는 방법: \"x의 제곱을 만들되, x는 1부터 10까지의 숫자 중에서\"\n",
    "\n",
    "## 2. 조건문이 있는 형태\n",
    "[표현식 for 항목 in 반복가능객체 if 조건]\n",
    "예: [x for x in numbers if x % 2 == 0]\n",
    "읽는 방법: \"x를 선택하되, x는 numbers에서 짝수인 것만\"\n",
    "\n",
    "### 조건문이 있는 형태의 추가 설명\n",
    "1. if-else가 앞에: 조건부 표현식 (모든 요소를 조건에 따라 다르게 변환)\n",
    "2. if-else가 앞에 올 때는 else가 필수 (표현식 부분이 변형된 삼항 연산자이므로)\n",
    "3. if가 뒤에: 필터링 (조건을 만족하는 요소만 선택)\n",
    "4. if가 뒤에 올 때는 else 없이 단독으로 사용 가능\n",
    "\n",
    "## 3. 중첩 형태\n",
    "[표현식 for 항목1 in 반복가능객체1 for 항목2 in 반복가능객체2]\n",
    "예: [[i * j for j in range(1, 10)] for i in range(1, 10)]\n",
    "읽는 방법: \"i*j를 만들되, j는 1부터 9까지, i도 1부터 9까지\"\n",
    "\n",
    "실제 사용 예시는 다음 셀에서 확인할 수 있습니다."
   ]
  },
  {
   "cell_type": "code",
   "execution_count": 1,
   "metadata": {},
   "outputs": [
    {
     "name": "stdout",
     "output_type": "stream",
     "text": [
      "제곱 리스트: [1, 4, 9, 16, 25, 36, 49, 64, 81, 100]\n",
      "단어 길이: [3, 5, 4]\n",
      "대문자 변환: ['APPLE', 'BANANA', 'CHERRY']\n"
     ]
    }
   ],
   "source": [
    "# 기본 형태: [expression for item in iterable]\n",
    "\n",
    "# 1부터 10까지의 제곱 리스트\n",
    "squares = [x**2 for x in range(1, 11)]\n",
    "print(\"제곱 리스트:\", squares)\n",
    "\n",
    "# 문자열 리스트의 길이\n",
    "words = ['파이썬', '프로그래밍', '재미있다']\n",
    "word_lengths = [len(word) for word in words]\n",
    "print(\"단어 길이:\", word_lengths)\n",
    "\n",
    "# 대문자 변환\n",
    "fruits = ['apple', 'banana', 'cherry']\n",
    "upper_fruits = [fruit.upper() for fruit in fruits]\n",
    "print(\"대문자 변환:\", upper_fruits)"
   ]
  },
  {
   "cell_type": "code",
   "execution_count": 7,
   "metadata": {},
   "outputs": [
    {
     "name": "stdout",
     "output_type": "stream",
     "text": [
      "짝수만: [2, 4, 6, 8, 10, 12, 14, 16, 18, 20]\n",
      "양수의 제곱: [1, 4, 25]\n",
      "3글자 이상 동물: ['고양이', '코끼리']\n"
     ]
    }
   ],
   "source": [
    "# 조건문과 함께 사용: [expression for item in iterable if condition]\n",
    "\n",
    "# 짝수만 필터링\n",
    "numbers = range(1, 21)\n",
    "even_numbers = [x for x in numbers if x % 2 == 0]\n",
    "print(\"짝수만:\", even_numbers)\n",
    "\n",
    "# 양수만 필터링하고 제곱\n",
    "mixed_numbers = [-3, -1, 0, 1, 2, 5, -2]\n",
    "positive_squares = [x**2 for x in mixed_numbers if x > 0]\n",
    "print(\"양수의 제곱:\", positive_squares)\n",
    "\n",
    "# 특정 길이 이상의 단어만\n",
    "animals = ['고양이', '개', '코끼리', '쥐', '기린']\n",
    "long_animals = [animal for animal in animals if len(animal) >= 3]\n",
    "print(\"3글자 이상 동물:\", long_animals)"
   ]
  },
  {
   "cell_type": "code",
   "execution_count": 9,
   "metadata": {},
   "outputs": [
    {
     "name": "stdout",
     "output_type": "stream",
     "text": [
      "구구단 2단: [2, 4, 6, 8, 10, 12, 14, 16, 18]\n",
      "좌표 리스트: [(0, 0), (0, 1), (0, 2), (0, 3), (0, 4), (1, 0), (1, 1), (1, 2), (1, 3), (1, 4), (2, 0), (2, 1), (2, 2), (2, 3), (2, 4)]\n",
      "홀짝 구분: ['홀수', '짝수', '홀수', '짝수', '홀수', '짝수', '홀수', '짝수', '홀수', '짝수']\n"
     ]
    }
   ],
   "source": [
    "# 중첩 리스트 컴프리헨션\n",
    "\n",
    "# 구구단 표\n",
    "multiplication_table = [[i * j for j in range(1, 10)] for i in range(2, 10)]\n",
    "print(\"구구단 2단:\", multiplication_table[0])  # 2단 출력\n",
    "\n",
    "# 2차원 좌표 생성(튜플 활용)\n",
    "coordinates = [(x, y) for x in range(3) for y in range(5)]\n",
    "print(\"좌표 리스트:\", coordinates)\n",
    "\n",
    "# 조건부 표현식 사용\n",
    "numbers = range(1, 11)\n",
    "odd_even = ['홀수' if x % 2 == 1 else '짝수' for x in numbers]\n",
    "print(\"홀짝 구분:\", odd_even)"
   ]
  },
  {
   "cell_type": "markdown",
   "metadata": {},
   "source": [
    "## 4. 중첩 리스트 (2차원 리스트)\n",
    "\n",
    "리스트 안에 리스트를 포함하는 구조입니다."
   ]
  },
  {
   "cell_type": "code",
   "execution_count": 9,
   "metadata": {},
   "outputs": [
    {
     "name": "stdout",
     "output_type": "stream",
     "text": [
      "3x3 행렬:\n",
      "[1, 2, 3]\n",
      "[4, 5, 6]\n",
      "[7, 8, 9]\n",
      "\n",
      "행렬[1][2] = 6\n",
      "행렬[0][0] = 1\n",
      "첫 번째 행: [1, 2, 3]\n",
      "두 번째 열: [2, 5, 8]\n"
     ]
    }
   ],
   "source": [
    "# 중첩 리스트 생성\n",
    "matrix = [\n",
    "    [1, 2, 3],\n",
    "    [4, 5, 6],\n",
    "    [7, 8, 9]\n",
    "]\n",
    "print(\"3x3 행렬:\")\n",
    "for row in matrix:\n",
    "    print(row)\n",
    "\n",
    "# 특정 요소 접근\n",
    "print(f\"\\n행렬[1][2] = {matrix[1][2]}\")  # 2행 3열 (0부터 시작)\n",
    "print(f\"행렬[0][0] = {matrix[0][0]}\")    # 1행 1열\n",
    "\n",
    "# 행과 열 접근\n",
    "print(f\"첫 번째 행: {matrix[0]}\")\n",
    "print(f\"두 번째 열: {[row[1] for row in matrix]}\")"
   ]
  },
  {
   "cell_type": "code",
   "execution_count": 10,
   "metadata": {},
   "outputs": [
    {
     "name": "stdout",
     "output_type": "stream",
     "text": [
      "학생 성적표:\n",
      "이름\t국어\t영어\t수학\t평균\n",
      "-----------------------------------\n",
      "김철수\t85\t90\t78\t84.3\n",
      "이영희\t92\t88\t95\t91.7\n",
      "박민수\t78\t85\t80\t81.0\n",
      "\n",
      "국어 평균: 85.0\n"
     ]
    }
   ],
   "source": [
    "# 학생 성적 관리 예제\n",
    "students_grades = [\n",
    "    ['김철수', 85, 90, 78],\n",
    "    ['이영희', 92, 88, 95],\n",
    "    ['박민수', 78, 85, 80]\n",
    "]\n",
    "\n",
    "print(\"학생 성적표:\")\n",
    "print(\"이름\\t국어\\t영어\\t수학\\t평균\")\n",
    "print(\"-\" * 35)\n",
    "\n",
    "for student in students_grades:\n",
    "    name = student[0]\n",
    "    korean = student[1]\n",
    "    english = student[2]\n",
    "    math = student[3]\n",
    "    average = (korean + english + math) / 3\n",
    "    \n",
    "    print(f\"{name}\\t{korean}\\t{english}\\t{math}\\t{average:.1f}\")\n",
    "\n",
    "# 특정 과목 평균 계산\n",
    "korean_avg = sum([student[1] for student in students_grades]) / len(students_grades)\n",
    "print(f\"\\n국어 평균: {korean_avg:.1f}\")"
   ]
  },
  {
   "cell_type": "markdown",
   "metadata": {},
   "source": [
    "## 5. 리스트 복사\n",
    "\n",
    "리스트를 복사하는 여러 가지 방법이 있습니다."
   ]
  },
  {
   "cell_type": "code",
   "execution_count": 11,
   "metadata": {},
   "outputs": [
    {
     "name": "stdout",
     "output_type": "stream",
     "text": [
      "원본: [1, 2, 3, 4, 5]\n",
      "복사본1: [1, 2, 3, 4, 5]\n",
      "복사본2: [1, 2, 3, 4, 5]\n",
      "복사본3: [1, 2, 10, 4, 5]\n",
      "\n",
      "copy1[0] = 100 후:\n",
      "원본: [1, 2, 3, 4, 5]\n",
      "복사본1: [100, 2, 3, 4, 5]\n",
      "\n",
      "참조 복사 후:\n",
      "원본: [1, 200, 3, 4, 5]\n",
      "잘못된 복사: [1, 200, 3, 4, 5]\n"
     ]
    }
   ],
   "source": [
    "original = [1, 2, 3, 4, 5]\n",
    "\n",
    "# 깊은 복사 (deep copy)\n",
    "copy1 = original.copy()\n",
    "copy2 = original[:]\n",
    "copy3 = list(original)\n",
    "\n",
    "print(\"원본:\", original)\n",
    "print(\"복사본1:\", copy1)\n",
    "print(\"복사본2:\", copy2)\n",
    "print(\"복사본3:\", copy3)\n",
    "\n",
    "# 복사본 변경해보기\n",
    "copy1[0] = 100\n",
    "print(\"\\ncopy1[0] = 100 후:\")\n",
    "print(\"원본:\", original)\n",
    "print(\"복사본1:\", copy1)\n",
    "\n",
    "# 잘못된 복사 (얕은 복사, 참조 복사, shallow copy)\n",
    "wrong_copy = original\n",
    "wrong_copy[1] = 200\n",
    "print(\"\\n참조 복사 후:\")\n",
    "print(\"원본:\", original)\n",
    "print(\"잘못된 복사:\", wrong_copy)"
   ]
  },
  {
   "cell_type": "markdown",
   "metadata": {},
   "source": [
    "## 6. 실습 문제\n",
    "\n",
    "다음 문제들을 풀어보세요."
   ]
  },
  {
   "cell_type": "code",
   "execution_count": 13,
   "metadata": {},
   "outputs": [
    {
     "name": "stdout",
     "output_type": "stream",
     "text": [
      "3의 배수: [3, 6, 9, 12, 15, 18]\n"
     ]
    }
   ],
   "source": [
    "# 문제 1: 1부터 20까지의 숫자 중 3의 배수만 포함하는 리스트를 \n",
    "# 리스트 컴프리헨션으로 만드세요\n",
    "multiples_of_3 = [x for x in range(1, 21) if x % 3 == 0]\n",
    "print(\"3의 배수:\", multiples_of_3)"
   ]
  },
  {
   "cell_type": "code",
   "execution_count": 14,
   "metadata": {},
   "outputs": [
    {
     "name": "stdout",
     "output_type": "stream",
     "text": [
      "모든 요소의 합: 45\n"
     ]
    }
   ],
   "source": [
    "# 문제 3: 2차원 리스트에서 모든 요소의 합을 구하세요\n",
    "matrix = [\n",
    "    [1, 2, 3],\n",
    "    [4, 5, 6],\n",
    "    [7, 8, 9]\n",
    "]\n",
    "# 여기에 코드를 작성하세요\n",
    "total_sum = sum([sum(row) for row in matrix])\n",
    "print(\"모든 요소의 합:\", total_sum)"
   ]
  },
  {
   "cell_type": "code",
   "execution_count": 15,
   "metadata": {},
   "outputs": [
    {
     "name": "stdout",
     "output_type": "stream",
     "text": [
      "5글자 이상 단어(대문자): ['PYTHON', 'JAVASCRIPT', 'TYPESCRIPT']\n"
     ]
    }
   ],
   "source": [
    "# 문제 4: 문자열 리스트에서 길이가 5 이상인 단어들을 \n",
    "# 대문자로 변환하여 새 리스트 만들기\n",
    "words = ['python', 'java', 'javascript', 'go', 'typescript']\n",
    "# 여기에 코드를 작성하세요\n",
    "long_words_upper = [word.upper() for word in words if len(word) >= 5]\n",
    "print(\"5글자 이상 단어(대문자):\", long_words_upper)"
   ]
  },
  {
   "cell_type": "markdown",
   "metadata": {},
   "source": [
    "## 정리\n",
    "\n",
    "이번 장에서 배운 내용:\n",
    "1. **리스트 메서드**: append, insert, remove, pop, sort 등\n",
    "2. **리스트 연산자**: +, *, +=로 리스트 조작\n",
    "3. **리스트 컴프리헨션**: 간결한 리스트 생성 문법\n",
    "4. **중첩 리스트**: 2차원 데이터 구조 활용\n",
    "5. **리스트 복사**: 얕은 복사와 참조 복사의 차이\n",
    "\n",
    "다음 장에서는 튜플에 대해 알아보겠습니다!"
   ]
  }
 ],
 "metadata": {
  "kernelspec": {
   "display_name": "pystudy_env",
   "language": "python",
   "name": "python3"
  },
  "language_info": {
   "codemirror_mode": {
    "name": "ipython",
    "version": 3
   },
   "file_extension": ".py",
   "mimetype": "text/x-python",
   "name": "python",
   "nbconvert_exporter": "python",
   "pygments_lexer": "ipython3",
   "version": "3.12.7"
  }
 },
 "nbformat": 4,
 "nbformat_minor": 4
}
