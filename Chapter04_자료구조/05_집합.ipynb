{
 "cells": [
  {
   "cell_type": "markdown",
   "metadata": {},
   "source": [
    "# 집합 (Set)\n",
    "\n",
    "## 학습 목표\n",
    "- 집합의 개념과 특징을 이해한다\n",
    "- 집합 연산을 활용한다\n",
    "- 집합을 이용한 실용적인 문제 해결을 한다\n",
    "\n",
    "## 1. 집합이란?\n",
    "\n",
    "집합은 중복되지 않는 요소들의 모음입니다.\n",
    "- 중괄호 { }를 사용하여 표현 (빈 집합은 set())\n",
    "- **중복 불허**: 같은 값은 하나만 저장\n",
    "- **순서 없음**: 인덱스로 접근 불가\n",
    "- 변경 가능한(mutable) 자료형"
   ]
  },
  {
   "cell_type": "code",
   "execution_count": null,
   "metadata": {},
   "outputs": [],
   "source": [
    "# 집합 생성 방법들\n",
    "\n",
    "# 빈 집합\n",
    "empty_set = set()\n",
    "print(\"빈 집합:\", empty_set)\n",
    "print(\"타입:\", type(empty_set))\n",
    "\n",
    "# 직접 생성\n",
    "fruits = {'사과', '바나나', '오렌지'}\n",
    "print(\"과일 집합:\", fruits)\n",
    "\n",
    "# 리스트에서 집합 생성 (중복 자동 제거)\n",
    "numbers_list = [1, 2, 3, 2, 4, 3, 5, 1]\n",
    "numbers_set = set(numbers_list)\n",
    "print(\"원본 리스트:\", numbers_list)\n",
    "print(\"집합으로 변환:\", numbers_set)\n",
    "\n",
    "# 문자열에서 집합 생성\n",
    "char_set = set(\"hello\")\n",
    "print(\"문자 집합:\", char_set)"
   ]
  },
  {
   "cell_type": "markdown",
   "metadata": {},
   "source": [
    "## 2. 집합의 기본 연산\n",
    "\n",
    "집합에 요소를 추가하거나 제거할 수 있습니다."
   ]
  },
  {
   "cell_type": "code",
   "execution_count": null,
   "metadata": {},
   "outputs": [],
   "source": [
    "animals = {'고양이', '강아지', '토끼'}\n",
    "print(\"초기 집합:\", animals)\n",
    "\n",
    "# 요소 추가\n",
    "animals.add('햄스터')\n",
    "print(\"add() 후:\", animals)\n",
    "\n",
    "# 이미 있는 요소 추가 (변화 없음)\n",
    "animals.add('고양이')\n",
    "print(\"중복 add() 후:\", animals)\n",
    "\n",
    "# 여러 요소 추가\n",
    "animals.update(['거북이', '금붕어'])\n",
    "print(\"update() 후:\", animals)\n",
    "\n",
    "# 문자열로 update (각 문자가 요소가 됨)\n",
    "letters = set()\n",
    "letters.update('hello')\n",
    "print(\"문자열 update:\", letters)"
   ]
  },
  {
   "cell_type": "code",
   "execution_count": null,
   "metadata": {},
   "outputs": [],
   "source": [
    "# 요소 제거\n",
    "colors = {'빨강', '파랑', '노랑', '초록', '보라'}\n",
    "print(\"초기 집합:\", colors)\n",
    "\n",
    "# remove(): 요소 제거 (없으면 에러)\n",
    "colors.remove('보라')\n",
    "print(\"remove() 후:\", colors)\n",
    "\n",
    "# discard(): 요소 제거 (없어도 에러 없음)\n",
    "colors.discard('검정')  # 없는 요소여도 에러 없음\n",
    "colors.discard('파랑')\n",
    "print(\"discard() 후:\", colors)\n",
    "\n",
    "# pop(): 임의의 요소 제거하고 반환\n",
    "removed_color = colors.pop()\n",
    "print(f\"pop() 후: {colors}, 제거된 색: {removed_color}\")\n",
    "\n",
    "# clear(): 모든 요소 제거\n",
    "colors.clear()\n",
    "print(\"clear() 후:\", colors)"
   ]
  },
  {
   "cell_type": "markdown",
   "metadata": {},
   "source": [
    "## 3. 집합 연산\n",
    "\n",
    "수학의 집합 연산을 파이썬에서도 사용할 수 있습니다."
   ]
  },
  {
   "cell_type": "code",
   "execution_count": null,
   "metadata": {},
   "outputs": [],
   "source": [
    "# 두 집합 준비\n",
    "A = {1, 2, 3, 4, 5}\n",
    "B = {4, 5, 6, 7, 8}\n",
    "print(\"집합 A:\", A)\n",
    "print(\"집합 B:\", B)\n",
    "\n",
    "# 합집합 (union): A ∪ B\n",
    "union1 = A | B\n",
    "union2 = A.union(B)\n",
    "print(\"합집합 A | B:\", union1)\n",
    "print(\"합집합 A.union(B):\", union2)\n",
    "\n",
    "# 교집합 (intersection): A ∩ B\n",
    "intersection1 = A & B\n",
    "intersection2 = A.intersection(B)\n",
    "print(\"교집합 A & B:\", intersection1)\n",
    "print(\"교집합 A.intersection(B):\", intersection2)\n",
    "\n",
    "# 차집합 (difference): A - B\n",
    "difference1 = A - B\n",
    "difference2 = A.difference(B)\n",
    "print(\"차집합 A - B:\", difference1)\n",
    "print(\"차집합 B - A:\", B - A)\n",
    "\n",
    "# 대칭차집합 (symmetric difference): A △ B\n",
    "sym_diff1 = A ^ B\n",
    "sym_diff2 = A.symmetric_difference(B)\n",
    "print(\"대칭차집합 A ^ B:\", sym_diff1)\n",
    "print(\"대칭차집합 A.symmetric_difference(B):\", sym_diff2)"
   ]
  },
  {
   "cell_type": "markdown",
   "metadata": {},
   "source": [
    "## 4. 집합의 관계 연산\n",
    "\n",
    "집합 간의 포함 관계를 확인할 수 있습니다."
   ]
  },
  {
   "cell_type": "code",
   "execution_count": null,
   "metadata": {},
   "outputs": [],
   "source": [
    "# 집합들 준비\n",
    "numbers = {1, 2, 3, 4, 5, 6, 7, 8, 9, 10}\n",
    "even_numbers = {2, 4, 6, 8, 10}\n",
    "small_numbers = {1, 2, 3}\n",
    "other_numbers = {11, 12, 13}\n",
    "\n",
    "print(\"전체 숫자:\", numbers)\n",
    "print(\"짝수:\", even_numbers)\n",
    "print(\"작은 숫자:\", small_numbers)\n",
    "print(\"다른 숫자:\", other_numbers)\n",
    "\n",
    "# 부분집합 확인 (subset)\n",
    "print(\"\\n=== 부분집합 확인 ===\")\n",
    "print(\"짝수 ⊆ 전체?\", even_numbers <= numbers)\n",
    "print(\"짝수 ⊆ 전체?\", even_numbers.issubset(numbers))\n",
    "print(\"작은 숫자 ⊆ 전체?\", small_numbers <= numbers)\n",
    "print(\"다른 숫자 ⊆ 전체?\", other_numbers <= numbers)\n",
    "\n",
    "# 진부분집합 확인 (proper subset)\n",
    "print(\"\\n=== 진부분집합 확인 ===\")\n",
    "print(\"짝수 ⊂ 전체?\", even_numbers < numbers)\n",
    "print(\"전체 ⊂ 전체?\", numbers < numbers)\n",
    "\n",
    "# 상위집합 확인 (superset)\n",
    "print(\"\\n=== 상위집합 확인 ===\")\n",
    "print(\"전체 ⊇ 짝수?\", numbers >= even_numbers)\n",
    "print(\"전체 ⊇ 짝수?\", numbers.issuperset(even_numbers))\n",
    "\n",
    "# 서로소 확인 (disjoint)\n",
    "print(\"\\n=== 서로소 확인 ===\")\n",
    "print(\"짝수와 다른 숫자가 서로소?\", even_numbers.isdisjoint(other_numbers))\n",
    "print(\"짝수와 작은 숫자가 서로소?\", even_numbers.isdisjoint(small_numbers))"
   ]
  },
  {
   "cell_type": "markdown",
   "metadata": {},
   "source": [
    "## 5. 집합 컴프리헨션\n",
    "\n",
    "리스트, 딕셔너리처럼 집합도 컴프리헨션을 사용할 수 있습니다."
   ]
  },
  {
   "cell_type": "code",
   "execution_count": null,
   "metadata": {},
   "outputs": [],
   "source": [
    "# 기본 집합 컴프리헨션\n",
    "squares = {x**2 for x in range(1, 11)}\n",
    "print(\"1-10의 제곱 집합:\", squares)\n",
    "\n",
    "# 조건부 집합 컴프리헨션\n",
    "even_squares = {x**2 for x in range(1, 11) if x % 2 == 0}\n",
    "print(\"짝수의 제곱 집합:\", even_squares)\n",
    "\n",
    "# 문자열에서 모음 추출\n",
    "text = \"Hello World Python Programming\"\n",
    "vowels = {char.lower() for char in text if char.lower() in 'aeiou'}\n",
    "print(\"텍스트의 모음들:\", vowels)\n",
    "\n",
    "# 리스트에서 고유한 길이들\n",
    "words = ['python', 'java', 'c', 'javascript', 'go', 'rust']\n",
    "word_lengths = {len(word) for word in words}\n",
    "print(\"단어 길이들:\", word_lengths)"
   ]
  },
  {
   "cell_type": "markdown",
   "metadata": {},
   "source": [
    "## 6. 실용적인 집합 활용\n",
    "\n",
    "### 6.1 중복 제거"
   ]
  },
  {
   "cell_type": "code",
   "execution_count": null,
   "metadata": {},
   "outputs": [],
   "source": [
    "def remove_duplicates(items):\n",
    "    \"\"\"리스트에서 중복을 제거하되 순서는 유지\"\"\"\n",
    "    seen = set()\n",
    "    result = []\n",
    "    for item in items:\n",
    "        if item not in seen:\n",
    "            seen.add(item)\n",
    "            result.append(item)\n",
    "    return result\n",
    "\n",
    "# 테스트\n",
    "numbers = [1, 2, 3, 2, 4, 1, 5, 3, 6]\n",
    "print(\"원본:\", numbers)\n",
    "print(\"중복 제거 (순서 유지):\", remove_duplicates(numbers))\n",
    "print(\"중복 제거 (순서 무관):\", list(set(numbers)))\n",
    "\n",
    "# 문자열에서 고유 문자들\n",
    "text = \"programming\"\n",
    "unique_chars = ''.join(remove_duplicates(list(text)))\n",
    "print(f\"'{text}'의 고유 문자들: '{unique_chars}'\")"
   ]
  },
  {
   "cell_type": "markdown",
   "metadata": {},
   "source": [
    "### 6.2 공통 관심사 찾기"
   ]
  },
  {
   "cell_type": "code",
   "execution_count": null,
   "metadata": {},
   "outputs": [],
   "source": [
    "# 친구들의 관심사\n",
    "friends_interests = {\n",
    "    \"철수\": {\"영화\", \"음악\", \"독서\", \"게임\"},\n",
    "    \"영희\": {\"음악\", \"요리\", \"독서\", \"여행\"},\n",
    "    \"민수\": {\"게임\", \"독서\", \"운동\", \"영화\"},\n",
    "    \"지연\": {\"요리\", \"독서\", \"여행\", \"음악\"}\n",
    "}\n",
    "\n",
    "# 모든 사람의 공통 관심사\n",
    "all_interests = list(friends_interests.values())\n",
    "common_interests = all_interests[0]\n",
    "for interests in all_interests[1:]:\n",
    "    common_interests = common_interests & interests\n",
    "\n",
    "print(\"모든 친구의 공통 관심사:\", common_interests)\n",
    "\n",
    "# 각 관심사별 관심 있는 사람 수\n",
    "all_unique_interests = set()\n",
    "for interests in friends_interests.values():\n",
    "    all_unique_interests = all_unique_interests | interests\n",
    "\n",
    "print(\"\\n관심사별 인원수:\")\n",
    "for interest in sorted(all_unique_interests):\n",
    "    count = sum(1 for interests in friends_interests.values() if interest in interests)\n",
    "    people = [name for name, interests in friends_interests.items() if interest in interests]\n",
    "    print(f\"{interest}: {count}명 ({', '.join(people)})\")\n",
    "\n",
    "# 철수와 영희의 공통 관심사\n",
    "common_cs_yh = friends_interests[\"철수\"] & friends_interests[\"영희\"]\n",
    "print(f\"\\n철수와 영희의 공통 관심사: {common_cs_yh}\")"
   ]
  },
  {
   "cell_type": "markdown",
   "metadata": {},
   "source": [
    "### 6.3 집합을 이용한 필터링"
   ]
  },
  {
   "cell_type": "code",
   "execution_count": null,
   "metadata": {},
   "outputs": [],
   "source": [
    "# 금지된 단어 필터링\n",
    "banned_words = {'바보', '멍청이', '짜증', '화남'}\n",
    "allowed_words = {'좋아', '예쁘다', '멋지다', '훌륭하다'}\n",
    "\n",
    "def filter_text(text, banned_set):\n",
    "    \"\"\"텍스트에서 금지된 단어들을 *** 로 대체\"\"\"\n",
    "    words = text.split()\n",
    "    filtered_words = []\n",
    "    \n",
    "    for word in words:\n",
    "        if word in banned_set:\n",
    "            filtered_words.append('***')\n",
    "        else:\n",
    "            filtered_words.append(word)\n",
    "    \n",
    "    return ' '.join(filtered_words)\n",
    "\n",
    "# 테스트\n",
    "comment = \"정말 바보 같은 멍청이 영화였어 짜증나\"\n",
    "filtered_comment = filter_text(comment, banned_words)\n",
    "print(\"원본 댓글:\", comment)\n",
    "print(\"필터링 후:\", filtered_comment)\n",
    "\n",
    "# 허용된 단어만 포함하는지 확인\n",
    "positive_comment = \"정말 좋아 예쁘다 멋지다\"\n",
    "comment_words = set(positive_comment.split())\n",
    "print(f\"\\n긍정 댓글: {positive_comment}\")\n",
    "print(f\"허용된 단어만 사용? {comment_words <= allowed_words}\")"
   ]
  },
  {
   "cell_type": "markdown",
   "metadata": {},
   "source": [
    "## 7. 실습 문제"
   ]
  },
  {
   "cell_type": "code",
   "execution_count": null,
   "metadata": {},
   "outputs": [],
   "source": [
    "# 문제 1: 두 리스트에서 공통 요소를 찾으세요\n",
    "list1 = [1, 2, 3, 4, 5, 6]\n",
    "list2 = [4, 5, 6, 7, 8, 9]\n",
    "# 여기에 코드를 작성하세요\n",
    "common_elements = list(set(list1) & set(list2))\n",
    "print(\"공통 요소:\", common_elements)"
   ]
  },
  {
   "cell_type": "code",
   "execution_count": null,
   "metadata": {},
   "outputs": [],
   "source": [
    "# 문제 2: 문자열에서 각 단어가 몇 개의 고유한 문자를 가지는지 계산하세요\n",
    "words = [\"python\", \"programming\", \"language\", \"computer\"]\n",
    "# 여기에 코드를 작성하세요\n",
    "for word in words:\n",
    "    unique_chars = len(set(word))\n",
    "    print(f\"{word}: {unique_chars}개의 고유 문자\")"
   ]
  },
  {
   "cell_type": "code",
   "execution_count": null,
   "metadata": {},
   "outputs": [],
   "source": [
    "# 문제 3: 학생들이 수강하는 과목에서 모든 학생이 공통으로 듣는 과목을 찾으세요\n",
    "student_subjects = {\n",
    "    \"김철수\": {\"수학\", \"영어\", \"물리\", \"화학\"},\n",
    "    \"이영희\": {\"수학\", \"영어\", \"생물\", \"화학\"},\n",
    "    \"박민수\": {\"수학\", \"국어\", \"화학\", \"지리\"},\n",
    "    \"최지연\": {\"수학\", \"영어\", \"화학\", \"역사\"}\n",
    "}\n",
    "\n",
    "# 여기에 코드를 작성하세요\n",
    "all_subjects = list(student_subjects.values())\n",
    "common_subjects = all_subjects[0]\n",
    "for subjects in all_subjects[1:]:\n",
    "    common_subjects = common_subjects & subjects\n",
    "\n",
    "print(\"모든 학생이 공통으로 듣는 과목:\", common_subjects)\n",
    "\n",
    "# 각 과목을 듣는 학생 수도 계산해보세요\n",
    "all_unique_subjects = set()\n",
    "for subjects in student_subjects.values():\n",
    "    all_unique_subjects |= subjects\n",
    "\n",
    "print(\"\\n과목별 수강 학생 수:\")\n",
    "for subject in sorted(all_unique_subjects):\n",
    "    count = sum(1 for subjects in student_subjects.values() if subject in subjects)\n",
    "    students = [name for name, subjects in student_subjects.items() if subject in subjects]\n",
    "    print(f\"{subject}: {count}명 ({', '.join(students)})\")"
   ]
  },
  {
   "cell_type": "markdown",
   "metadata": {},
   "source": [
    "## 정리\n",
    "\n",
    "이번 장에서 배운 내용:\n",
    "1. **집합의 특징**: 중복 불허, 순서 없음, 변경 가능\n",
    "2. **집합 생성**: { }, set(), 다른 자료형에서 변환\n",
    "3. **기본 연산**: add, remove, discard, pop, clear\n",
    "4. **집합 연산**: 합집합(|), 교집합(&), 차집합(-), 대칭차집합(^)\n",
    "5. **관계 연산**: 부분집합(<=), 상위집합(>=), 서로소(isdisjoint)\n",
    "6. **집합 컴프리헨션**: 간결한 집합 생성\n",
    "7. **실용적 활용**: 중복 제거, 공통 요소 찾기, 필터링\n",
    "\n",
    "**집합 활용 분야:**\n",
    "- 중복 데이터 제거\n",
    "- 공통 요소나 차이점 분석\n",
    "- 멤버십 테스트 (빠른 검색)\n",
    "- 수학적 집합 연산\n",
    "- 데이터 필터링\n",
    "\n",
    "다음은 미니프로젝트로 학생 성적 관리 시스템을 만들어보겠습니다!"
   ]
  }
 ],
 "metadata": {
  "kernelspec": {
   "display_name": "Python 3",
   "language": "python",
   "name": "python3"
  },
  "language_info": {
   "codemirror_mode": {
    "name": "ipython",
    "version": 3
   },
   "file_extension": ".py",
   "mimetype": "text/x-python",
   "name": "python",
   "nbconvert_exporter": "python",
   "pygments_lexer": "ipython3",
   "version": "3.8.5"
  }
 },
 "nbformat": 4,
 "nbformat_minor": 4
}