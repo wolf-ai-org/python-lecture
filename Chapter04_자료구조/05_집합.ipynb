{
 "cells": [
  {
   "cell_type": "markdown",
   "metadata": {},
   "source": [
    "# 집합 (Set)\n",
    "\n",
    "## 학습 목표\n",
    "- 집합의 개념과 특징을 이해한다\n",
    "- 집합 연산을 활용한다\n",
    "- 집합을 이용한 실용적인 문제 해결을 한다\n",
    "\n",
    "## 1. 집합이란?\n",
    "\n",
    "집합은 중복되지 않는 요소들의 모음입니다.\n",
    "- 중괄호 { }를 사용하여 표현 (빈 집합은 set())\n",
    "- **중복 불허**: 같은 값은 하나만 저장\n",
    "- **순서 없음**: 인덱스로 접근 불가\n",
    "- 변경 가능한(mutable) 자료형"
   ]
  },
  {
   "cell_type": "code",
   "execution_count": 4,
   "metadata": {},
   "outputs": [
    {
     "name": "stdout",
     "output_type": "stream",
     "text": [
      "빈 집합: set()\n",
      "타입: <class 'set'>\n",
      "과일 집합: {'오렌지', '바나나', '사과'}\n",
      "원본 리스트: [1, 2, 3, 2, 4, 3, 5, 1]\n",
      "집합으로 변환: {1, 2, 3, 4, 5}\n",
      "문자 집합: {'h', 'l', 'o', 'e'}\n"
     ]
    }
   ],
   "source": [
    "# 집합 생성 방법들\n",
    "\n",
    "# 빈 집합\n",
    "empty_set = set()\n",
    "print(\"빈 집합:\", empty_set)\n",
    "print(\"타입:\", type(empty_set))\n",
    "\n",
    "# 직접 생성\n",
    "fruits = {'사과', '바나나', '오렌지'}\n",
    "print(\"과일 집합:\", fruits)\n",
    "\n",
    "# 리스트에서 집합 생성 (중복 자동 제거)\n",
    "numbers_list = [1, 2, 3, 2, 4, 3, 5, 1]\n",
    "numbers_set = set(numbers_list)\n",
    "print(\"원본 리스트:\", numbers_list)\n",
    "print(\"집합으로 변환:\", numbers_set)\n",
    "\n",
    "# 문자열에서 집합 생성\n",
    "char_set = set(\"hello\")\n",
    "print(\"문자 집합:\", char_set)"
   ]
  },
  {
   "cell_type": "markdown",
   "metadata": {},
   "source": [
    "## 2. 집합의 기본 연산\n",
    "\n",
    "집합에 요소를 추가하거나 제거할 수 있습니다."
   ]
  },
  {
   "cell_type": "code",
   "execution_count": 7,
   "metadata": {},
   "outputs": [
    {
     "name": "stdout",
     "output_type": "stream",
     "text": [
      "초기 집합: {'고양이', '강아지', '토끼'}\n",
      "add() 후: {'고양이', '강아지', '햄스터', '토끼'}\n",
      "중복 add() 후: {'고양이', '강아지', '햄스터', '토끼'}\n",
      "update() 후: {'금붕어', '강아지', '햄스터', '토끼', '거북이', '고양이'}\n",
      "문자열 update: {'h', 'l', 'o', 'e'}\n"
     ]
    }
   ],
   "source": [
    "animals = {'고양이', '강아지', '토끼'}\n",
    "print(\"초기 집합:\", animals)\n",
    "\n",
    "# 요소 추가\n",
    "animals.add('햄스터')\n",
    "print(\"add() 후:\", animals)\n",
    "\n",
    "# 이미 있는 요소 추가 (변화 없음)\n",
    "animals.add('고양이')\n",
    "print(\"중복 add() 후:\", animals)\n",
    "\n",
    "# 여러 요소 추가\n",
    "animals.update(['거북이', '금붕어'])\n",
    "print(\"update() 후:\", animals)\n",
    "\n",
    "# 문자열로 update (문자열의 각 문자가 요소가 됨)\n",
    "letters = set()\n",
    "letters.update('hello')\n",
    "print(\"문자열 update:\", letters)"
   ]
  },
  {
   "cell_type": "code",
   "execution_count": 8,
   "metadata": {},
   "outputs": [
    {
     "name": "stdout",
     "output_type": "stream",
     "text": [
      "초기 집합: {'보라', '노랑', '파랑', '초록', '빨강'}\n",
      "remove() 후: {'노랑', '파랑', '초록', '빨강'}\n",
      "discard() 후: {'노랑', '초록', '빨강'}\n",
      "pop() 후: {'초록', '빨강'}, 제거된 색: 노랑\n",
      "clear() 후: set()\n"
     ]
    }
   ],
   "source": [
    "# 요소 제거\n",
    "colors = {'빨강', '파랑', '노랑', '초록', '보라'}\n",
    "print(\"초기 집합:\", colors)\n",
    "\n",
    "# remove(): 요소 제거 (없으면 에러)\n",
    "colors.remove('보라')\n",
    "print(\"remove() 후:\", colors)\n",
    "\n",
    "# discard(): 요소 제거 (없어도 에러 없음)\n",
    "colors.discard('검정')  # 없는 요소여도 에러 없음\n",
    "colors.discard('파랑')\n",
    "print(\"discard() 후:\", colors)\n",
    "\n",
    "# pop(): 임의의 요소 제거하고 반환\n",
    "removed_color = colors.pop()\n",
    "print(f\"pop() 후: {colors}, 제거된 색: {removed_color}\")\n",
    "\n",
    "# clear(): 모든 요소 제거\n",
    "colors.clear()\n",
    "print(\"clear() 후:\", colors)"
   ]
  },
  {
   "cell_type": "markdown",
   "metadata": {},
   "source": [
    "## 3. 집합 연산\n",
    "\n",
    "수학의 집합 연산을 파이썬에서도 사용할 수 있습니다."
   ]
  },
  {
   "cell_type": "code",
   "execution_count": 10,
   "metadata": {},
   "outputs": [
    {
     "name": "stdout",
     "output_type": "stream",
     "text": [
      "집합 A: {1, 2, 3, 4, 5}\n",
      "집합 B: {4, 5, 6, 7, 8}\n",
      "합집합 A | B: {1, 2, 3, 4, 5, 6, 7, 8}\n",
      "합집합 A.union(B): {1, 2, 3, 4, 5, 6, 7, 8}\n",
      "교집합 A & B: {4, 5}\n",
      "교집합 A.intersection(B): {4, 5}\n",
      "차집합 A - B: {1, 2, 3}\n",
      "차집합 A.difference(B): {1, 2, 3}\n",
      "차집합 B - A: {8, 6, 7}\n",
      "대칭차집합 A ^ B: {1, 2, 3, 6, 7, 8}\n",
      "대칭차집합 A.symmetric_difference(B): {1, 2, 3, 6, 7, 8}\n"
     ]
    }
   ],
   "source": [
    "# 두 집합 준비\n",
    "A = {1, 2, 3, 4, 5}\n",
    "B = {4, 5, 6, 7, 8}\n",
    "print(\"집합 A:\", A)\n",
    "print(\"집합 B:\", B)\n",
    "\n",
    "# 합집합 (union): A ∪ B\n",
    "union1 = A | B\n",
    "union2 = A.union(B)\n",
    "print(\"합집합 A | B:\", union1)\n",
    "print(\"합집합 A.union(B):\", union2)\n",
    "\n",
    "# 교집합 (intersection): A ∩ B\n",
    "intersection1 = A & B\n",
    "intersection2 = A.intersection(B)\n",
    "print(\"교집합 A & B:\", intersection1)\n",
    "print(\"교집합 A.intersection(B):\", intersection2)\n",
    "\n",
    "# 차집합 (difference): A - B\n",
    "difference1 = A - B\n",
    "difference2 = A.difference(B)\n",
    "print(\"차집합 A - B:\", difference1)\n",
    "print(\"차집합 A.difference(B):\", difference2)\n",
    "print(\"차집합 B - A:\", B - A)\n",
    "\n",
    "# 대칭차집합 (symmetric difference): A △ B\n",
    "sym_diff1 = A ^ B\n",
    "sym_diff2 = A.symmetric_difference(B)\n",
    "print(\"대칭차집합 A ^ B:\", sym_diff1)\n",
    "print(\"대칭차집합 A.symmetric_difference(B):\", sym_diff2)"
   ]
  },
  {
   "cell_type": "markdown",
   "metadata": {},
   "source": [
    "## 4. 집합의 관계 연산\n",
    "\n",
    "집합 간의 포함 관계를 확인할 수 있습니다."
   ]
  },
  {
   "cell_type": "code",
   "execution_count": null,
   "metadata": {},
   "outputs": [],
   "source": [
    "# 집합들 준비\n",
    "numbers = {1, 2, 3, 4, 5, 6, 7, 8, 9, 10}\n",
    "even_numbers = {2, 4, 6, 8, 10}\n",
    "small_numbers = {1, 2, 3}\n",
    "other_numbers = {11, 12, 13}\n",
    "\n",
    "print(\"전체 숫자:\", numbers)  # 전체 숫자: {1, 2, 3, 4, 5, 6, 7, 8, 9, 10}\n",
    "print(\"짝수:\", even_numbers)  # 짝수: {2, 4, 6, 8, 10}\n",
    "print(\"작은 숫자:\", small_numbers)  # 작은 숫자: {1, 2, 3}\n",
    "print(\"다른 숫자:\", other_numbers)  # 다른 숫자: {11, 12, 13}\n",
    "\n",
    "# 부분집합 확인 (subset)\n",
    "print(\"\\n=== 부분집합 확인 ===\")\n",
    "print(\"짝수 ⊆ 전체?\", even_numbers <= numbers)  # 짝수 ⊆ 전체? True\n",
    "print(\"짝수 ⊆ 전체?\", even_numbers.issubset(numbers))  # 짝수 ⊆ 전체? True\n",
    "print(\"작은 숫자 ⊆ 전체?\", small_numbers <= numbers)  # 작은 숫자 ⊆ 전체? True\n",
    "print(\"다른 숫자 ⊆ 전체?\", other_numbers <= numbers)  # 다른 숫자 ⊆ 전체? False\n",
    "\n",
    "# 진부분집합 확인 (proper subset)\n",
    "print(\"\\n=== 진부분집합 확인 ===\")\n",
    "print(\"짝수 ⊂ 전체?\", even_numbers < numbers)  # 짝수 ⊂ 전체? True\n",
    "print(\"전체 ⊂ 전체?\", numbers < numbers)  # 전체 ⊂ 전체? False\n",
    "\n",
    "# 상위집합 확인 (superset)\n",
    "print(\"\\n=== 상위집합 확인 ===\")\n",
    "print(\"전체 ⊇ 짝수?\", numbers >= even_numbers)  # 전체 ⊇ 짝수? True\n",
    "print(\"전체 ⊇ 짝수?\", numbers.issuperset(even_numbers))  # 전체 ⊇ 짝수? True\n",
    "\n",
    "# 서로소(disjoint) 확인: 두 집합이 공통된 원소를 하나도 가지고 있지 않은 경우\n",
    "print(\"\\n=== 서로소 확인 ===\")\n",
    "print(\"짝수와 다른 숫자가 서로소?\", even_numbers.isdisjoint(other_numbers))  # 짝수와 다른 숫자가 서로소? True\n",
    "print(\"짝수와 작은 숫자가 서로소?\", even_numbers.isdisjoint(small_numbers))  # 짝수와 작은 숫자가 서로소? False"
   ]
  },
  {
   "cell_type": "markdown",
   "metadata": {},
   "source": [
    "## 5. 집합 컴프리헨션\n",
    "\n",
    "리스트, 딕셔너리처럼 집합도 컴프리헨션을 사용할 수 있습니다."
   ]
  },
  {
   "cell_type": "code",
   "execution_count": 11,
   "metadata": {},
   "outputs": [
    {
     "name": "stdout",
     "output_type": "stream",
     "text": [
      "1-10의 제곱 집합: {64, 1, 4, 36, 100, 9, 16, 49, 81, 25}\n",
      "짝수의 제곱 집합: {64, 100, 4, 36, 16}\n",
      "텍스트의 모음들: {'a', 'i', 'o', 'e'}\n",
      "단어 길이들: {1, 2, 4, 6, 10}\n"
     ]
    }
   ],
   "source": [
    "# 기본 집합 컴프리헨션\n",
    "squares = {x**2 for x in range(1, 11)}\n",
    "print(\"1-10의 제곱 집합:\", squares)\n",
    "\n",
    "# 조건부 집합 컴프리헨션\n",
    "even_squares = {x**2 for x in range(1, 11) if x % 2 == 0}\n",
    "print(\"짝수의 제곱 집합:\", even_squares)\n",
    "\n",
    "# 리스트에서 고유한 길이들\n",
    "words = ['python', 'java', 'c', 'javascript', 'go', 'rust']\n",
    "word_lengths = {len(word) for word in words}\n",
    "print(\"단어 길이들:\", word_lengths)"
   ]
  },
  {
   "cell_type": "markdown",
   "metadata": {},
   "source": [
    "## 6. 실용적인 집합 활용\n",
    "\n",
    "### 6.1 중복 제거"
   ]
  },
  {
   "cell_type": "code",
   "execution_count": 12,
   "metadata": {},
   "outputs": [
    {
     "name": "stdout",
     "output_type": "stream",
     "text": [
      "원본: [1, 2, 3, 2, 4, 1, 5, 3, 6]\n",
      "중복 제거 (순서 유지): [1, 2, 3, 4, 5, 6]\n",
      "중복 제거 (순서 무관): [1, 2, 3, 4, 5, 6]\n",
      "'programming'의 고유 문자들: 'progamin'\n"
     ]
    }
   ],
   "source": [
    "def remove_duplicates(items):\n",
    "    \"\"\"리스트에서 중복을 제거하되 순서는 유지\"\"\"\n",
    "    seen = set()\n",
    "    result = []\n",
    "    for item in items:\n",
    "        if item not in seen:\n",
    "            seen.add(item)\n",
    "            result.append(item)\n",
    "    return result\n",
    "\n",
    "# 테스트\n",
    "numbers = [1, 2, 3, 2, 4, 1, 5, 3, 6]\n",
    "print(\"원본:\", numbers)\n",
    "print(\"중복 제거 (순서 유지):\", remove_duplicates(numbers))\n",
    "print(\"중복 제거 (순서 무관):\", list(set(numbers)))\n",
    "\n",
    "# 문자열에서 고유 문자들\n",
    "text = \"programming\"\n",
    "unique_chars = ''.join(remove_duplicates(list(text)))\n",
    "print(f\"'{text}'의 고유 문자들: '{unique_chars}'\")"
   ]
  },
  {
   "cell_type": "markdown",
   "metadata": {},
   "source": [
    "### 6.2 공통 관심사 찾기"
   ]
  },
  {
   "cell_type": "code",
   "execution_count": 22,
   "metadata": {},
   "outputs": [
    {
     "name": "stdout",
     "output_type": "stream",
     "text": [
      "모든 친구의 공통 관심사: {'독서'}\n",
      "\n",
      "관심사별 인원수:\n",
      "게임: 2명 (철수, 민수)\n",
      "독서: 4명 (철수, 영희, 민수, 지연)\n",
      "여행: 2명 (영희, 지연)\n",
      "영화: 2명 (철수, 민수)\n",
      "요리: 2명 (영희, 지연)\n",
      "운동: 1명 (민수)\n",
      "음악: 3명 (철수, 영희, 지연)\n",
      "\n",
      "철수와 영희의 공통 관심사: {'음악', '독서'}\n"
     ]
    }
   ],
   "source": [
    "# 친구들의 관심사\n",
    "friends_interests = {\n",
    "    \"철수\": {\"영화\", \"음악\", \"독서\", \"게임\"},\n",
    "    \"영희\": {\"음악\", \"요리\", \"독서\", \"여행\"},\n",
    "    \"민수\": {\"게임\", \"독서\", \"운동\", \"영화\"},\n",
    "    \"지연\": {\"요리\", \"독서\", \"여행\", \"음악\"}\n",
    "}\n",
    "\n",
    "# 모든 사람의 공통 관심사\n",
    "all_interests = list(friends_interests.values())\n",
    "# 첫 번째 사람의 관심사로 시작\n",
    "common_interests = all_interests[0]\n",
    "# 나머지 사람들의 관심사와 하나씩 교집합 연산\n",
    "for interests in all_interests[1:]:\n",
    "    common_interests = common_interests & interests\n",
    "\n",
    "print(\"모든 친구의 공통 관심사:\", common_interests)\n",
    "\n",
    "# 각 관심사별 관심 있는 사람 수\n",
    "all_unique_interests = set()\n",
    "for interests in friends_interests.values():\n",
    "    # 합집합도, update도 가능\n",
    "    # all_unique_interests = all_unique_interests | interests\n",
    "    all_unique_interests.update(interests)\n",
    "\n",
    "print(\"\\n관심사별 인원수:\")\n",
    "for interest in sorted(all_unique_interests):\n",
    "\n",
    "    # 제너레이터 표현식은 메모리를 효율적으로 사용하는 반복자로 리스트나 튜플처럼 모든 값을 한 번에 메모리에 저장하지 않고, \n",
    "    # 필요할 때마다 값을 하나씩 생성\n",
    "    count = sum(1 for interests in friends_interests.values() if interest in interests)  \n",
    "    people = [name for name, interests in friends_interests.items() if interest in interests]\n",
    "    print(f\"{interest}: {count}명 ({', '.join(people)})\")\n",
    "\n",
    "# 철수와 영희의 공통 관심사\n",
    "common_cs_yh = friends_interests[\"철수\"] & friends_interests[\"영희\"]\n",
    "print(f\"\\n철수와 영희의 공통 관심사: {common_cs_yh}\")"
   ]
  },
  {
   "cell_type": "markdown",
   "metadata": {},
   "source": [
    "### 6.3 집합을 이용한 필터링"
   ]
  },
  {
   "cell_type": "code",
   "execution_count": 14,
   "metadata": {},
   "outputs": [
    {
     "name": "stdout",
     "output_type": "stream",
     "text": [
      "원본 댓글: 정말 바보 같은 멍청이 영화였어 짜증나\n",
      "필터링 후: 정말 *** 같은 *** 영화였어 짜증나\n",
      "\n",
      "긍정 댓글: 정말 좋아 예쁘다 멋지다\n",
      "허용된 단어만 사용? False\n"
     ]
    }
   ],
   "source": [
    "# 금지된 단어 필터링\n",
    "banned_words = {'바보', '멍청이', '짜증', '화남'}\n",
    "allowed_words = {'좋아', '예쁘다', '멋지다', '훌륭하다'}\n",
    "\n",
    "def filter_text(text, banned_set):\n",
    "    \"\"\"텍스트에서 금지된 단어들을 *** 로 대체\"\"\"\n",
    "    words = text.split()\n",
    "    filtered_words = []\n",
    "    \n",
    "    for word in words:\n",
    "        if word in banned_set:\n",
    "            filtered_words.append('***')\n",
    "        else:\n",
    "            filtered_words.append(word)\n",
    "    \n",
    "    return ' '.join(filtered_words)\n",
    "\n",
    "# 테스트\n",
    "comment = \"정말 바보 같은 멍청이 영화였어 짜증나\"\n",
    "filtered_comment = filter_text(comment, banned_words)\n",
    "print(\"원본 댓글:\", comment)\n",
    "print(\"필터링 후:\", filtered_comment)\n",
    "\n",
    "# 허용된 단어만 포함하는지 확인\n",
    "positive_comment = \"정말 좋아 예쁘다 멋지다\"\n",
    "comment_words = set(positive_comment.split())\n",
    "print(f\"\\n긍정 댓글: {positive_comment}\")\n",
    "print(f\"허용된 단어만 사용? {comment_words <= allowed_words}\")"
   ]
  },
  {
   "cell_type": "markdown",
   "metadata": {},
   "source": [
    "## 7. 실습 문제"
   ]
  },
  {
   "cell_type": "code",
   "execution_count": 15,
   "metadata": {},
   "outputs": [
    {
     "name": "stdout",
     "output_type": "stream",
     "text": [
      "공통 요소: [4, 5, 6]\n"
     ]
    }
   ],
   "source": [
    "# 문제 1: 두 리스트에서 공통 요소를 찾으세요\n",
    "list1 = [1, 2, 3, 4, 5, 6]\n",
    "list2 = [4, 5, 6, 7, 8, 9]\n",
    "# 여기에 코드를 작성하세요\n",
    "common_elements = list(set(list1) & set(list2))\n",
    "print(\"공통 요소:\", common_elements)"
   ]
  },
  {
   "cell_type": "code",
   "execution_count": 16,
   "metadata": {},
   "outputs": [
    {
     "name": "stdout",
     "output_type": "stream",
     "text": [
      "python: 6개의 고유 문자\n",
      "programming: 8개의 고유 문자\n",
      "language: 6개의 고유 문자\n",
      "computer: 8개의 고유 문자\n"
     ]
    }
   ],
   "source": [
    "# 문제 2: 문자열에서 각 단어가 몇 개의 고유한 문자를 가지는지 계산하세요\n",
    "words = [\"python\", \"programming\", \"language\", \"computer\"]\n",
    "# 여기에 코드를 작성하세요\n",
    "for word in words:\n",
    "    unique_chars = len(set(word))\n",
    "    print(f\"{word}: {unique_chars}개의 고유 문자\")"
   ]
  },
  {
   "cell_type": "code",
   "execution_count": 17,
   "metadata": {},
   "outputs": [
    {
     "name": "stdout",
     "output_type": "stream",
     "text": [
      "모든 학생이 공통으로 듣는 과목: {'수학', '화학'}\n",
      "\n",
      "과목별 수강 학생 수:\n",
      "국어: 1명 (박민수)\n",
      "물리: 1명 (김철수)\n",
      "생물: 1명 (이영희)\n",
      "수학: 4명 (김철수, 이영희, 박민수, 최지연)\n",
      "역사: 1명 (최지연)\n",
      "영어: 3명 (김철수, 이영희, 최지연)\n",
      "지리: 1명 (박민수)\n",
      "화학: 4명 (김철수, 이영희, 박민수, 최지연)\n"
     ]
    }
   ],
   "source": [
    "# 문제 3: 학생들이 수강하는 과목에서 모든 학생이 공통으로 듣는 과목을 찾으세요\n",
    "student_subjects = {\n",
    "    \"김철수\": {\"수학\", \"영어\", \"물리\", \"화학\"},\n",
    "    \"이영희\": {\"수학\", \"영어\", \"생물\", \"화학\"},\n",
    "    \"박민수\": {\"수학\", \"국어\", \"화학\", \"지리\"},\n",
    "    \"최지연\": {\"수학\", \"영어\", \"화학\", \"역사\"}\n",
    "}\n",
    "\n",
    "# 여기에 코드를 작성하세요\n",
    "all_subjects = list(student_subjects.values())\n",
    "common_subjects = all_subjects[0]\n",
    "for subjects in all_subjects[1:]:\n",
    "    common_subjects = common_subjects & subjects\n",
    "\n",
    "print(\"모든 학생이 공통으로 듣는 과목:\", common_subjects)\n",
    "\n",
    "# 각 과목을 듣는 학생 수도 계산해보세요\n",
    "all_unique_subjects = set()\n",
    "for subjects in student_subjects.values():\n",
    "    all_unique_subjects |= subjects\n",
    "\n",
    "print(\"\\n과목별 수강 학생 수:\")\n",
    "for subject in sorted(all_unique_subjects):\n",
    "    count = sum(1 for subjects in student_subjects.values() if subject in subjects)\n",
    "    students = [name for name, subjects in student_subjects.items() if subject in subjects]\n",
    "    print(f\"{subject}: {count}명 ({', '.join(students)})\")"
   ]
  },
  {
    "cell_type": "markdown",
    "metadata": {},
    "source": [
     "## 정리\n",
     "\n",
     "이번 장에서 배운 내용:\n",
     "1. **집합의 특징**: 중복 불허, 순서 없음, 변경 가능\n",
     "2. **집합 생성**: { }, set(), 다른 자료형에서 변환\n",
     "3. **기본 연산**: add, remove, discard, pop, clear\n",
     "4. **집합 연산**: 합집합(|), 교집합(&), 차집합(-), 대칭차집합(^)\n",
     "5. **관계 연산**: 부분집합(<=), 상위집합(>=), 서로소(isdisjoint)\n",
     "6. **집합 컴프리헨션**: 간결한 집합 생성\n",
     "7. **실용적 활용**: 중복 제거, 공통 요소 찾기, 필터링\n",
     "\n",
     "**집합 활용 분야:**\n",
     "- 중복 데이터 제거\n",
     "- 공통 요소나 차이점 분석\n",
     "- 멤버십 테스트 (빠른 검색)\n",
     "- 수학적 집합 연산\n",
     "- 데이터 필터링\n",
     "\n",
     "다음은 미니프로젝트로 학생 성적 관리 시스템을 만들어보겠습니다!"
    ]
  },
  {
    "cell_type": "markdown",
    "metadata": {},
    "source": [
     "---\n",
     "## 리스트, 튜플, 딕셔너리, 집합 비교 정리\n",
     "\n",
     "| 자료형      | 기호/생성법         | 순서 | 중복 | 변경 가능 | 인덱싱/슬라이싱 | 키-값 구조 | 주요 메서드/연산 |\n",
     "|-------------|---------------------|------|------|----------|-----------------|------------|------------------|\n",
     "| 리스트      | [ ] 또는 list()      | O    | O    | O        | O               | X          | append, pop, sort, +, * 등 |\n",
     "| 튜플        | ( ) 또는 tuple()     | O    | O    | X        | O               | X          | count, index     |\n",
     "| 딕셔너리    | { } 또는 dict()      | X    | 키: X, 값: O | O    | X               | O          | keys, values, items, get, pop 등 |\n",
     "| 집합        | { } 또는 set()       | X    | X    | O        | X               | X          | add, update, union, intersection 등 |\n",
     "\n",
     "---\n",
     "\n",
     "### 공통점\n",
     "- 모두 여러 개의 값을 저장할 수 있는 자료구조입니다.\n",
     "- 모두 for문 등 반복문으로 순회(iteration)할 수 있습니다.\n",
     "- 모두 내장 함수(len, in 등) 사용 가능\n",
     "\n",
     "---\n",
     "\n",
     "### 차이점\n",
     "1. **순서(Ordered)**\n",
     "   - 리스트, 튜플: 순서가 있음(인덱스 사용 가능)\n",
     "   - 딕셔너리, 집합: 순서 없음(파이썬 3.7+에서는 딕셔너리 입력 순서 유지, 하지만 인덱싱 불가)\n",
     "\n",
     "2. **중복 허용**\n",
     "   - 리스트, 튜플: 중복된 값 저장 가능\n",
     "   - 집합: 중복 불가(자동으로 중복 제거)\n",
     "   - 딕셔너리: 키는 중복 불가, 값은 중복 가능\n",
     "\n",
     "3. **변경 가능성(Mutability)**\n",
     "   - 리스트, 딕셔너리, 집합: 변경 가능(mutable)\n",
     "   - 튜플: 변경 불가(immutable)\n",
     "\n",
     "4. **인덱싱/슬라이싱**\n",
     "   - 리스트, 튜플: 인덱싱/슬라이싱 가능\n",
     "   - 딕셔너리, 집합: 불가(딕셔너리는 키로 접근)\n",
     "\n",
     "5. **키-값 구조**\n",
     "   - 딕셔너리만 키-값 쌍으로 데이터 저장\n",
     "\n",
     "6. **주요 사용 목적**\n",
     "   - 리스트: 순서 있는 데이터, 변경/추가/삭제가 잦은 경우\n",
     "   - 튜플: 순서 있지만 변경하지 않을 데이터(예: 좌표, 고정된 정보)\n",
     "   - 딕셔너리: 키로 값을 빠르게 찾고 싶을 때(예: 전화번호부)\n",
     "   - 집합: 중복 없는 데이터, 집합 연산(합집합, 교집합 등) 필요할 때\n",
     "\n",
     "---\n",
     "\n",
     "### 예시 코드\n",
     "\n",
     "```python\n",
     "# 리스트\n",
     "a = [1, 2, 3, 2]\n",
     "# 튜플\n",
     "b = (1, 2, 3, 2)\n",
     "# 딕셔너리\n",
     "c = {'이름': '철수', '나이': 20}\n",
     "# 집합\n",
     "d = {1, 2, 3, 2}\n",
     "```\n",
     "\n",
     "---\n",
     "\n",
     "### 한눈에 보는 요약\n",
     "\n",
     "- **리스트**: 순서 O, 중복 O, 변경 O, 인덱싱 O\n",
     "- **튜플**: 순서 O, 중복 O, 변경 X, 인덱싱 O\n",
     "- **딕셔너리**: 순서 X, 중복(키 X, 값 O), 변경 O, 키-값 구조\n",
     "- **집합**: 순서 X, 중복 X, 변경 O, 집합 연산\n"
    ]
  }
 ],
 "metadata": {
  "kernelspec": {
   "display_name": "pystudy_env",
   "language": "python",
   "name": "python3"
  },
  "language_info": {
   "codemirror_mode": {
    "name": "ipython",
    "version": 3
   },
   "file_extension": ".py",
   "mimetype": "text/x-python",
   "name": "python",
   "nbconvert_exporter": "python",
   "pygments_lexer": "ipython3",
   "version": "3.12.7"
  }
 },
 "nbformat": 4,
 "nbformat_minor": 4
}
