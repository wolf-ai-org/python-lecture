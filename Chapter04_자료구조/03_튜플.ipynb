{
 "cells": [
  {
   "cell_type": "markdown",
   "metadata": {},
   "source": [
    "# 튜플 (Tuple)\n",
    "\n",
    "## 학습 목표\n",
    "- 튜플의 개념과 특징을 이해한다\n",
    "- 튜플과 리스트의 차이점을 파악한다\n",
    "- 튜플의 활용 방법을 익힌다\n",
    "\n",
    "## 1. 튜플이란?\n",
    "\n",
    "튜플은 여러 개의 값을 순서대로 저장하는 자료형입니다.\n",
    "- 소괄호 ( )를 사용하여 표현\n",
    "- 순서가 있는 데이터 집합\n",
    "- **변경 불가능한(immutable)** 자료형\n",
    "- 다양한 자료형을 혼합하여 저장 가능"
   ]
  },
  {
   "cell_type": "code",
   "execution_count": null,
   "metadata": {},
   "outputs": [],
   "source": [
    "# 튜플 생성 방법들\n",
    "empty_tuple = ()\n",
    "print(\"빈 튜플:\", empty_tuple)\n",
    "\n",
    "# 숫자 튜플\n",
    "numbers = (1, 2, 3, 4, 5)\n",
    "print(\"숫자 튜플:\", numbers)\n",
    "\n",
    "# 문자열 튜플\n",
    "colors = ('빨강', '파랑', '노랑')\n",
    "print(\"색깔 튜플:\", colors)\n",
    "\n",
    "# 혼합 자료형 튜플\n",
    "mixed = (1, '안녕', 3.14, True)\n",
    "print(\"혼합 튜플:\", mixed)\n",
    "\n",
    "# 괄호 없이도 생성 가능\n",
    "coordinates = 10, 20\n",
    "print(\"좌표 튜플:\", coordinates)\n",
    "print(\"타입:\", type(coordinates))"
   ]
  },
  {
   "cell_type": "code",
   "execution_count": null,
   "metadata": {},
   "outputs": [],
   "source": [
    "# 특별한 경우: 요소가 하나인 튜플\n",
    "# 콤마(,)가 있어야 튜플로 인식됨\n",
    "single_tuple = (42,)\n",
    "print(\"단일 요소 튜플:\", single_tuple)\n",
    "print(\"타입:\", type(single_tuple))\n",
    "\n",
    "# 콤마가 없으면 그냥 숫자\n",
    "not_tuple = (42)\n",
    "print(\"숫자:\", not_tuple)\n",
    "print(\"타입:\", type(not_tuple))"
   ]
  },
  {
   "cell_type": "markdown",
   "metadata": {},
   "source": [
    "## 2. 튜플 인덱싱과 슬라이싱\n",
    "\n",
    "튜플도 리스트처럼 인덱싱과 슬라이싱이 가능합니다."
   ]
  },
  {
   "cell_type": "code",
   "execution_count": null,
   "metadata": {},
   "outputs": [],
   "source": [
    "fruits = ('사과', '바나나', '오렌지', '포도', '키위')\n",
    "\n",
    "# 인덱싱\n",
    "print(\"첫 번째 과일:\", fruits[0])\n",
    "print(\"마지막 과일:\", fruits[-1])\n",
    "\n",
    "# 슬라이싱\n",
    "print(\"처음 3개:\", fruits[:3])\n",
    "print(\"마지막 2개:\", fruits[-2:])\n",
    "print(\"역순:\", fruits[::-1])\n",
    "\n",
    "# 길이와 in 연산자\n",
    "print(\"튜플 길이:\", len(fruits))\n",
    "print(\"'사과'가 있나요?\", '사과' in fruits)"
   ]
  },
  {
   "cell_type": "markdown",
   "metadata": {},
   "source": [
    "## 3. 튜플과 리스트의 차이점\n",
    "\n",
    "가장 중요한 차이점은 **변경 가능성**입니다."
   ]
  },
  {
   "cell_type": "code",
   "execution_count": null,
   "metadata": {},
   "outputs": [],
   "source": [
    "# 리스트는 변경 가능\n",
    "my_list = [1, 2, 3]\n",
    "print(\"원래 리스트:\", my_list)\n",
    "my_list[0] = 100\n",
    "print(\"변경된 리스트:\", my_list)\n",
    "\n",
    "# 튜플은 변경 불가능\n",
    "my_tuple = (1, 2, 3)\n",
    "print(\"원래 튜플:\", my_tuple)\n",
    "# my_tuple[0] = 100  # 오류 발생!\n",
    "print(\"튜플은 변경할 수 없습니다!\")"
   ]
  },
  {
   "cell_type": "code",
   "execution_count": null,
   "metadata": {},
   "outputs": [],
   "source": [
    "# 튜플에서 사용 가능한 메서드는 제한적\n",
    "numbers = (1, 2, 3, 2, 4, 2, 5)\n",
    "\n",
    "# count(): 특정 값의 개수\n",
    "print(\"숫자 2의 개수:\", numbers.count(2))\n",
    "\n",
    "# index(): 특정 값의 첫 번째 인덱스\n",
    "print(\"숫자 3의 인덱스:\", numbers.index(3))\n",
    "\n",
    "# 리스트에 있는 append, remove 등은 사용 불가"
   ]
  },
  {
   "cell_type": "markdown",
   "metadata": {},
   "source": [
    "## 4. 튜플의 활용\n",
    "\n",
    "### 4.1 좌표와 위치 정보"
   ]
  },
  {
   "cell_type": "code",
   "execution_count": null,
   "metadata": {},
   "outputs": [],
   "source": [
    "# 2D 좌표\n",
    "point_2d = (10, 20)\n",
    "x, y = point_2d\n",
    "print(f\"X좌표: {x}, Y좌표: {y}\")\n",
    "\n",
    "# 3D 좌표\n",
    "point_3d = (10, 20, 30)\n",
    "x, y, z = point_3d\n",
    "print(f\"X: {x}, Y: {y}, Z: {z}\")\n",
    "\n",
    "# RGB 색상값\n",
    "red = (255, 0, 0)\n",
    "green = (0, 255, 0)\n",
    "blue = (0, 0, 255)\n",
    "print(f\"빨강: {red}, 초록: {green}, 파랑: {blue}\")"
   ]
  },
  {
   "cell_type": "markdown",
   "metadata": {},
   "source": [
    "### 4.2 함수에서 여러 값 반환"
   ]
  },
  {
   "cell_type": "code",
   "execution_count": null,
   "metadata": {},
   "outputs": [],
   "source": [
    "def get_name_age():\n",
    "    name = \"김철수\"\n",
    "    age = 25\n",
    "    return name, age  # 튜플로 반환\n",
    "\n",
    "# 튜플 언패킹으로 받기\n",
    "student_name, student_age = get_name_age()\n",
    "print(f\"이름: {student_name}, 나이: {student_age}\")\n",
    "\n",
    "# 튜플 그대로 받기\n",
    "student_info = get_name_age()\n",
    "print(f\"학생 정보: {student_info}\")\n",
    "print(f\"타입: {type(student_info)}\")"
   ]
  },
  {
   "cell_type": "markdown",
   "metadata": {},
   "source": [
    "### 4.3 딕셔너리의 키로 사용"
   ]
  },
  {
   "cell_type": "code",
   "execution_count": null,
   "metadata": {},
   "outputs": [],
   "source": [
    "# 튜플은 불변이므로 딕셔너리의 키로 사용 가능\n",
    "locations = {\n",
    "    (0, 0): \"원점\",\n",
    "    (1, 0): \"동쪽\",\n",
    "    (0, 1): \"북쪽\",\n",
    "    (-1, 0): \"서쪽\",\n",
    "    (0, -1): \"남쪽\"\n",
    "}\n",
    "\n",
    "print(\"좌표별 위치:\")\n",
    "for coord, direction in locations.items():\n",
    "    print(f\"{coord}: {direction}\")\n",
    "\n",
    "# 특정 좌표 검색\n",
    "target = (1, 0)\n",
    "print(f\"\\n좌표 {target}의 방향: {locations[target]}\")"
   ]
  },
  {
   "cell_type": "markdown",
   "metadata": {},
   "source": [
    "## 5. 튜플 언패킹\n",
    "\n",
    "튜플의 요소들을 개별 변수에 할당하는 기능입니다."
   ]
  },
  {
   "cell_type": "code",
   "execution_count": null,
   "metadata": {},
   "outputs": [],
   "source": [
    "# 기본 언패킹\n",
    "person = (\"이영희\", 30, \"서울\")\n",
    "name, age, city = person\n",
    "print(f\"이름: {name}, 나이: {age}, 도시: {city}\")\n",
    "\n",
    "# 변수 교환에 활용\n",
    "a = 10\n",
    "b = 20\n",
    "print(f\"교환 전: a={a}, b={b}\")\n",
    "\n",
    "a, b = b, a  # 튜플 언패킹으로 간단히 교환\n",
    "print(f\"교환 후: a={a}, b={b}\")\n",
    "\n",
    "# 일부 값 무시하기 (_사용)\n",
    "data = (\"파이썬\", 2024, \"프로그래밍\", \"재미있다\")\n",
    "language, year, _, feeling = data\n",
    "print(f\"언어: {language}, 년도: {year}, 느낌: {feeling}\")"
   ]
  },
  {
   "cell_type": "code",
   "execution_count": null,
   "metadata": {},
   "outputs": [],
   "source": [
    "# 확장 언패킹 (Python 3+)\n",
    "numbers = (1, 2, 3, 4, 5, 6, 7, 8, 9, 10)\n",
    "\n",
    "# 첫 번째, 마지막, 나머지\n",
    "first, *middle, last = numbers\n",
    "print(f\"첫 번째: {first}\")\n",
    "print(f\"마지막: {last}\")\n",
    "print(f\"중간들: {middle}\")\n",
    "\n",
    "# 처음 두 개, 나머지\n",
    "first, second, *rest = numbers\n",
    "print(f\"\\n처음 두 개: {first}, {second}\")\n",
    "print(f\"나머지: {rest}\")"
   ]
  },
  {
   "cell_type": "markdown",
   "metadata": {},
   "source": [
    "## 6. 튜플과 반복문"
   ]
  },
  {
   "cell_type": "code",
   "execution_count": null,
   "metadata": {},
   "outputs": [],
   "source": [
    "# 학생 정보 튜플들의 리스트\n",
    "students = [\n",
    "    (\"김철수\", 85, \"서울\"),\n",
    "    (\"이영희\", 92, \"부산\"),\n",
    "    (\"박민수\", 78, \"대구\"),\n",
    "    (\"최지연\", 88, \"광주\")\n",
    "]\n",
    "\n",
    "print(\"학생 명단:\")\n",
    "print(\"-\" * 30)\n",
    "for name, score, city in students:\n",
    "    print(f\"{name:6} | {score:3}점 | {city}\")\n",
    "\n",
    "# 평균 점수 계산\n",
    "total_score = sum(score for name, score, city in students)\n",
    "average = total_score / len(students)\n",
    "print(f\"\\n평균 점수: {average:.1f}점\")\n",
    "\n",
    "# 90점 이상 학생 찾기\n",
    "high_scorers = [name for name, score, city in students if score >= 90]\n",
    "print(f\"90점 이상 학생: {', '.join(high_scorers)}\")"
   ]
  },
  {
   "cell_type": "markdown",
   "metadata": {},
   "source": [
    "## 7. 실습 문제"
   ]
  },
  {
   "cell_type": "code",
   "execution_count": null,
   "metadata": {},
   "outputs": [],
   "source": [
    "# 문제 1: 다음 튜플에서 최댓값과 최솟값을 찾아 출력하세요\n",
    "numbers = (45, 23, 67, 12, 89, 34, 56)\n",
    "# 여기에 코드를 작성하세요\n",
    "max_val = max(numbers)\n",
    "min_val = min(numbers)\n",
    "print(f\"최댓값: {max_val}, 최솟값: {min_val}\")"
   ]
  },
  {
   "cell_type": "code",
   "execution_count": null,
   "metadata": {},
   "outputs": [],
   "source": [
    "# 문제 2: 두 점 사이의 거리를 계산하는 함수를 만드세요\n",
    "import math\n",
    "\n",
    "def calculate_distance(point1, point2):\n",
    "    x1, y1 = point1\n",
    "    x2, y2 = point2\n",
    "    distance = math.sqrt((x2-x1)**2 + (y2-y1)**2)\n",
    "    return distance\n",
    "\n",
    "# 테스트\n",
    "p1 = (0, 0)\n",
    "p2 = (3, 4)\n",
    "dist = calculate_distance(p1, p2)\n",
    "print(f\"점 {p1}과 {p2} 사이의 거리: {dist:.2f}\")"
   ]
  },
  {
   "cell_type": "code",
   "execution_count": null,
   "metadata": {},
   "outputs": [],
   "source": [
    "# 문제 3: 다음 상품 정보에서 가장 비싼 상품과 가장 싼 상품을 찾으세요\n",
    "products = [\n",
    "    (\"노트북\", 1200000),\n",
    "    (\"마우스\", 25000),\n",
    "    (\"키보드\", 80000),\n",
    "    (\"모니터\", 350000),\n",
    "    (\"스피커\", 150000)\n",
    "]\n",
    "\n",
    "# 여기에 코드를 작성하세요\n",
    "most_expensive = max(products, key=lambda x: x[1])\n",
    "cheapest = min(products, key=lambda x: x[1])\n",
    "\n",
    "print(f\"가장 비싼 상품: {most_expensive[0]} ({most_expensive[1]:,}원)\")\n",
    "print(f\"가장 싼 상품: {cheapest[0]} ({cheapest[1]:,}원)\")"
   ]
  },
  {
   "cell_type": "markdown",
   "metadata": {},
   "source": [
    "## 정리\n",
    "\n",
    "이번 장에서 배운 내용:\n",
    "1. **튜플의 특징**: 순서가 있고 변경 불가능한 자료형\n",
    "2. **튜플 생성**: 소괄호 () 사용, 단일 요소는 콤마 필수\n",
    "3. **인덱싱/슬라이싱**: 리스트와 동일한 방식\n",
    "4. **튜플 활용**: 좌표, 함수 반환값, 딕셔너리 키\n",
    "5. **언패킹**: 튜플 요소를 개별 변수에 할당\n",
    "6. **리스트와의 차이**: 변경 불가능, 제한된 메서드\n",
    "\n",
    "**언제 튜플을 사용할까?**\n",
    "- 데이터가 변경되지 않아야 할 때\n",
    "- 좌표, 색상값 등 관련된 값들을 묶을 때\n",
    "- 함수에서 여러 값을 반환할 때\n",
    "- 딕셔너리의 키로 사용할 때\n",
    "\n",
    "다음 장에서는 딕셔너리에 대해 알아보겠습니다!"
   ]
  }
 ],
 "metadata": {
  "kernelspec": {
   "display_name": "Python 3",
   "language": "python",
   "name": "python3"
  },
  "language_info": {
   "codemirror_mode": {
    "name": "ipython",
    "version": 3
   },
   "file_extension": ".py",
   "mimetype": "text/x-python",
   "name": "python",
   "nbconvert_exporter": "python",
   "pygments_lexer": "ipython3",
   "version": "3.8.5"
  }
 },
 "nbformat": 4,
 "nbformat_minor": 4
}