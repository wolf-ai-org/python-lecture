{
 "cells": [
  {
   "cell_type": "markdown",
   "metadata": {},
   "source": [
    "# 리스트 기초\n",
    "\n",
    "## 학습 목표\n",
    "- 리스트의 개념과 특징을 이해한다\n",
    "- 리스트 생성과 기본 조작 방법을 익힌다\n",
    "- 리스트 인덱싱과 슬라이싱을 활용한다\n",
    "\n",
    "## 1. 리스트란?\n",
    "\n",
    "리스트는 여러 개의 값을 순서대로 저장할 수 있는 자료형입니다.\n",
    "- 대괄호 [ ]를 사용하여 표현\n",
    "- 순서가 있는 데이터 집합\n",
    "- 변경 가능한(mutable) 자료형\n",
    "- 다양한 자료형을 혼합하여 저장 가능"
   ]
  },
  {
   "cell_type": "code",
   "execution_count": 1,
   "metadata": {},
   "outputs": [
    {
     "name": "stdout",
     "output_type": "stream",
     "text": [
      "빈 리스트: []\n",
      "숫자 리스트: [1, 2, 3, 4, 5]\n",
      "과일 리스트: ['사과', '바나나', '오렌지']\n",
      "혼합 리스트: [1, '안녕', 3.14, True]\n"
     ]
    }
   ],
   "source": [
    "# 빈 리스트 생성\n",
    "empty_list = []\n",
    "print(\"빈 리스트:\", empty_list)\n",
    "\n",
    "# 숫자 리스트\n",
    "numbers = [1, 2, 3, 4, 5]\n",
    "print(\"숫자 리스트:\", numbers)\n",
    "\n",
    "# 문자열 리스트\n",
    "fruits = ['사과', '바나나', '오렌지']\n",
    "print(\"과일 리스트:\", fruits)\n",
    "\n",
    "# 혼합 자료형 리스트\n",
    "mixed = [1, '안녕', 3.14, True]\n",
    "print(\"혼합 리스트:\", mixed)"
   ]
  },
  {
   "cell_type": "markdown",
   "metadata": {},
   "source": [
    "## 2. 리스트 인덱싱\n",
    "\n",
    "리스트의 각 요소는 인덱스(index)로 접근할 수 있습니다.\n",
    "- 인덱스는 0부터 시작\n",
    "- 음수 인덱스는 뒤에서부터 계산"
   ]
  },
  {
   "cell_type": "code",
   "execution_count": 2,
   "metadata": {},
   "outputs": [
    {
     "name": "stdout",
     "output_type": "stream",
     "text": [
      "첫 번째 색깔: 빨강\n",
      "두 번째 색깔: 파랑\n",
      "세 번째 색깔: 노랑\n",
      "마지막 색깔: 보라\n",
      "뒤에서 두 번째: 초록\n",
      "뒤에서 세 번째: 노랑\n"
     ]
    }
   ],
   "source": [
    "colors = ['빨강', '파랑', '노랑', '초록', '보라']\n",
    "\n",
    "# 양수 인덱스\n",
    "print(\"첫 번째 색깔:\", colors[0])\n",
    "print(\"두 번째 색깔:\", colors[1])\n",
    "print(\"세 번째 색깔:\", colors[2])\n",
    "\n",
    "# 음수 인덱스\n",
    "print(\"마지막 색깔:\", colors[-1])\n",
    "print(\"뒤에서 두 번째:\", colors[-2])\n",
    "print(\"뒤에서 세 번째:\", colors[-3])"
   ]
  },
  {
   "cell_type": "markdown",
   "metadata": {},
   "source": [
    "## 3. 리스트 슬라이싱\n",
    "\n",
    "리스트의 일부분을 잘라서 새로운 리스트를 만들 수 있습니다.\n",
    "- 형식: list[시작:끝:간격]\n",
    "- 시작 인덱스는 포함, 끝 인덱스는 제외"
   ]
  },
  {
   "cell_type": "code",
   "execution_count": 3,
   "metadata": {},
   "outputs": [
    {
     "name": "stdout",
     "output_type": "stream",
     "text": [
      "numbers[2:5]: [2, 3, 4]\n",
      "numbers[:3]: [0, 1, 2]\n",
      "numbers[7:]: [7, 8, 9]\n",
      "numbers[:]: [0, 1, 2, 3, 4, 5, 6, 7, 8, 9]\n",
      "numbers[::2]: [0, 2, 4, 6, 8]\n",
      "numbers[1::2]: [1, 3, 5, 7, 9]\n",
      "numbers[::-1]: [9, 8, 7, 6, 5, 4, 3, 2, 1, 0]\n",
      "numbers[8:3:-1]: [8, 7, 6, 5, 4]\n"
     ]
    }
   ],
   "source": [
    "numbers = [0, 1, 2, 3, 4, 5, 6, 7, 8, 9]\n",
    "\n",
    "# 기본 슬라이싱\n",
    "print(\"numbers[2:5]:\", numbers[2:5])  # 인덱스 2부터 4(end - 1)까지\n",
    "print(\"numbers[:3]:\", numbers[:3])    # 처음부터 인덱스 2까지\n",
    "print(\"numbers[7:]:\", numbers[7:])    # 인덱스 7부터 끝까지\n",
    "print(\"numbers[:]:\", numbers[:])      # 전체 복사\n",
    "\n",
    "# 간격 지정\n",
    "print(\"numbers[::2]:\", numbers[::2])  # 2칸씩 건너뛰기\n",
    "print(\"numbers[1::2]:\", numbers[1::2]) # 1부터 2칸씩\n",
    "\n",
    "# 역순 슬라이싱\n",
    "print(\"numbers[::-1]:\", numbers[::-1]) # 역순으로 전체\n",
    "print(\"numbers[8:3:-1]:\", numbers[8:3:-1]) # 8부터 4(end + 1)까지 거꾸로"
   ]
  },
  {
   "cell_type": "markdown",
   "metadata": {},
   "source": [
    "## 4. 리스트 길이와 in 연산자\n",
    "\n",
    "- len() 함수로 리스트의 길이를 구할 수 있습니다\n",
    "- in 연산자로 특정 값이 리스트에 있는지 확인할 수 있습니다"
   ]
  },
  {
   "cell_type": "code",
   "execution_count": 2,
   "metadata": {},
   "outputs": [
    {
     "name": "stdout",
     "output_type": "stream",
     "text": [
      "동물 리스트의 길이: 4\n",
      "'고양이'가 리스트에 있나요? True\n",
      "'사자'가 리스트에 있나요? False\n",
      "'코끼리'가 리스트에 없나요? True\n"
     ]
    }
   ],
   "source": [
    "animals = ['고양이', '강아지', '토끼', '햄스터']\n",
    "\n",
    "# 리스트 길이\n",
    "print(\"동물 리스트의 길이:\", len(animals))\n",
    "\n",
    "# in 연산자\n",
    "print(\"'고양이'가 리스트에 있나요?\", '고양이' in animals)\n",
    "print(\"'사자'가 리스트에 있나요?\", '사자' in animals)\n",
    "\n",
    "# not in 연산자\n",
    "print(\"'코끼리'가 리스트에 없나요?\", '코끼리' not in animals)"
   ]
  },
  {
   "cell_type": "markdown",
   "metadata": {},
   "source": [
    "## 5. 리스트 반복\n",
    "\n",
    "for 반복문을 이용해 리스트의 모든 요소를 순회할 수 있습니다."
   ]
  },
  {
   "cell_type": "code",
   "execution_count": 5,
   "metadata": {},
   "outputs": [
    {
     "name": "stdout",
     "output_type": "stream",
     "text": [
      "=== 과목 목록 ===\n",
      "- 국어\n",
      "- 영어\n",
      "- 수학\n",
      "- 과학\n",
      "\n",
      "=== 번호와 함께 ====\n",
      "1. 국어\n",
      "2. 영어\n",
      "3. 수학\n",
      "4. 과학\n",
      "\n",
      "=== 인덱스 사용 ====\n",
      "subjects[0] = 국어\n",
      "subjects[1] = 영어\n",
      "subjects[2] = 수학\n",
      "subjects[3] = 과학\n"
     ]
    }
   ],
   "source": [
    "subjects = ['국어', '영어', '수학', '과학']\n",
    "\n",
    "# 요소 직접 접근\n",
    "print(\"=== 과목 목록 ===\")\n",
    "for subject in subjects:\n",
    "    print(f\"- {subject}\")\n",
    "    \n",
    "# 인덱스와 함께 접근\n",
    "print(\"\\n=== 번호와 함께 ====\")\n",
    "for i, subject in enumerate(subjects):\n",
    "    print(f\"{i+1}. {subject}\")\n",
    "    \n",
    "# 인덱스만 사용\n",
    "print(\"\\n=== 인덱스 사용 ====\")\n",
    "for i in range(len(subjects)):\n",
    "    print(f\"subjects[{i}] = {subjects[i]}\")"
   ]
  },
  {
   "cell_type": "markdown",
   "metadata": {},
   "source": [
    "## 6. 실습 문제\n",
    "\n",
    "다음 문제들을 풀어보세요."
   ]
  },
  {
   "cell_type": "code",
   "execution_count": 3,
   "metadata": {},
   "outputs": [
    {
     "name": "stdout",
     "output_type": "stream",
     "text": [
      "세 번째 좋아하는 음식: 햄버거\n"
     ]
    }
   ],
   "source": [
    "# 문제 1: 좋아하는 음식 리스트를 만들고, 세 번째 음식을 출력하세요\n",
    "favorite_foods = ['피자', '치킨', '햄버거', '파스타', '라면']\n",
    "# 여기에 코드를 작성하세요\n",
    "print(\"세 번째 좋아하는 음식:\", favorite_foods[2])"
   ]
  },
  {
   "cell_type": "code",
   "execution_count": 4,
   "metadata": {},
   "outputs": [
    {
     "name": "stdout",
     "output_type": "stream",
     "text": [
      "짝수만 추출: [2, 4, 6, 8, 10]\n"
     ]
    }
   ],
   "source": [
    "# 문제 2: 1부터 10까지의 숫자 리스트에서 짝수만 추출하세요\n",
    "numbers = [1, 2, 3, 4, 5, 6, 7, 8, 9, 10]\n",
    "# 여기에 코드를 작성하세요 (슬라이싱 사용)\n",
    "even_numbers = numbers[1::2]\n",
    "print(\"짝수만 추출:\", even_numbers)"
   ]
  },
  {
   "cell_type": "code",
   "execution_count": 5,
   "metadata": {},
   "outputs": [
    {
     "name": "stdout",
     "output_type": "stream",
     "text": [
      "파이썬이 리스트에 있습니다!\n"
     ]
    }
   ],
   "source": [
    "# 문제 3: 주어진 리스트에서 '파이썬'이 있는지 확인하세요\n",
    "programming_languages = ['자바', '파이썬', 'C++', '자바스크립트']\n",
    "# 여기에 코드를 작성하세요\n",
    "if '파이썬' in programming_languages:\n",
    "    print(\"파이썬이 리스트에 있습니다!\")\n",
    "else:\n",
    "    print(\"파이썬이 리스트에 없습니다.\")"
   ]
  },
  {
   "cell_type": "markdown",
   "metadata": {},
   "source": [
    "## 정리\n",
    "\n",
    "이번 장에서 배운 내용:\n",
    "1. **리스트 생성법**: 대괄호 [ ]를 사용하여 생성\n",
    "2. **인덱싱**: 0부터 시작하는 인덱스로 요소 접근\n",
    "3. **슬라이싱**: [시작:끝:간격] 형식으로 부분 추출\n",
    "4. **길이와 소속**: len() 함수와 in 연산자 활용\n",
    "5. **반복**: for 문을 이용한 리스트 순회\n",
    "\n",
    "다음 장에서는 리스트의 고급 기능들을 알아보겠습니다!"
   ]
  }
 ],
 "metadata": {
  "kernelspec": {
   "display_name": "pystudy_env",
   "language": "python",
   "name": "python3"
  },
  "language_info": {
   "codemirror_mode": {
    "name": "ipython",
    "version": 3
   },
   "file_extension": ".py",
   "mimetype": "text/x-python",
   "name": "python",
   "nbconvert_exporter": "python",
   "pygments_lexer": "ipython3",
   "version": "3.12.7"
  }
 },
 "nbformat": 4,
 "nbformat_minor": 4
}
