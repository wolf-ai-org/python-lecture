{
 "cells": [
  {
   "cell_type": "markdown",
   "metadata": {},
   "source": [
    "# 딕셔너리 (Dictionary)\n",
    "\n",
    "## 학습 목표\n",
    "- 딕셔너리의 개념과 특징을 이해한다\n",
    "- 딕셔너리의 생성과 조작 방법을 익힌다\n",
    "- 딕셔너리를 활용한 실용적인 프로그래밍을 한다\n",
    "\n",
    "## 1. 딕셔너리란?\n",
    "\n",
    "딕셔너리는 키(key)와 값(value)의 쌍을 콜론(:)으로 구분하여 데이터를 저장하는 자료형입니다.\n",
    "- 중괄호 { }를 사용하여 표현\n",
    "- 키-값 쌍으로 구성\n",
    "- 변경 가능한(mutable) 자료형\n",
    "- 순서가 유지됨 (Python 3.7+)"
   ]
  },
  {
   "cell_type": "code",
   "execution_count": 2,
   "metadata": {},
   "outputs": [
    {
     "name": "stdout",
     "output_type": "stream",
     "text": [
      "빈 딕셔너리: {}\n",
      "학생 정보: {'이름': '김철수', '나이': 20, '학과': '컴퓨터공학', '학년': 2}\n",
      "혼합 딕셔너리: {'문자열': '안녕하세요', '숫자': 42, '리스트': [1, 2, 3], '불린': True}\n"
     ]
    }
   ],
   "source": [
    "# 딕셔너리 생성 방법들\n",
    "\n",
    "# 1. 리터럴 방식으로 딕셔너리 생성\n",
    "# 빈 딕셔너리\n",
    "empty_dict = {}\n",
    "print(\"빈 딕셔너리:\", empty_dict)\n",
    "\n",
    "# 학생 정보 딕셔너리\n",
    "student = {\n",
    "    \"이름\": \"김철수\",\n",
    "    \"나이\": 20,\n",
    "    \"학과\": \"컴퓨터공학\",\n",
    "    \"학년\": 2\n",
    "}\n",
    "print(\"학생 정보:\", student)\n",
    "\n",
    "# 다양한 자료형의 값\n",
    "mixed_dict = {\n",
    "    \"문자열\": \"안녕하세요\",\n",
    "    \"숫자\": 42,\n",
    "    \"리스트\": [1, 2, 3],\n",
    "    \"불린\": True\n",
    "}\n",
    "print(\"혼합 딕셔너리:\", mixed_dict)"
   ]
  },
  {
   "cell_type": "code",
   "execution_count": 3,
   "metadata": {},
   "outputs": [
    {
     "name": "stdout",
     "output_type": "stream",
     "text": [
      "dict() 함수로 생성: {'name': '이영희', 'age': 25, 'city': '서울'}\n",
      "과일 가격: {'사과': 1000, '바나나': 1500, '오렌지': 2000}\n",
      "요일 딕셔너리: {'월': 'Monday', '화': 'Tuesday', '수': 'Wednesday', '목': 'Thursday', '금': 'Friday'}\n"
     ]
    }
   ],
   "source": [
    "# 2. dict() 함수를 활용한 방식들\n",
    "# dict() 함수에 키워드 인수로 3개의 아이템(키와 값의 쌍)들이 전달됨\n",
    "dict1 = dict(name=\"이영희\", age=25, city=\"서울\")\n",
    "print(\"dict() 함수로 생성:\", dict1)\n",
    "\n",
    "# 리스트의 튜플들로 dict() 함수를 조합하여 생성\n",
    "items = [(\"사과\", 1000), (\"바나나\", 1500), (\"오렌지\", 2000)]\n",
    "fruit_prices = dict(items)\n",
    "print(\"과일 가격:\", fruit_prices)\n",
    "\n",
    "# 리스트들과 zip()으로 dict() 함수를 조합하여 생성\n",
    "한글_요일 = [\"월\", \"화\", \"수\", \"목\", \"금\"]\n",
    "영어_요일 = [\"Monday\", \"Tuesday\", \"Wednesday\", \"Thursday\", \"Friday\"]\n",
    "요일_사전 = dict(zip(한글_요일, 영어_요일))\n",
    "print(\"요일 딕셔너리:\", 요일_사전)"
   ]
  },
  {
   "cell_type": "markdown",
   "metadata": {},
   "source": [
    "## 2. 딕셔너리 접근과 수정\n",
    "\n",
    "딕셔너리는 키를 사용하여 값에 접근합니다."
   ]
  },
  {
   "cell_type": "code",
   "execution_count": 5,
   "metadata": {},
   "outputs": [
    {
     "name": "stdout",
     "output_type": "stream",
     "text": [
      "이름: 박민수\n",
      "직업: 프로그래머\n",
      "{'이름': '박민수', '나이': 39, '직업': '프로그래머', '거주지': '부산', '키': 180.2}\n",
      "<class 'float'>\n"
     ]
    }
   ],
   "source": [
    "person = {\n",
    "    \"이름\": \"박민수\",\n",
    "    \"나이\": 38,\n",
    "    \"직업\": \"프로그래머\",\n",
    "    \"거주지\": \"부산\"\n",
    "}\n",
    "\n",
    "# 대괄호 안에 키 값을 활용 해 값에 접근\n",
    "print(\"이름:\", person[\"이름\"])\n",
    "\n",
    "# get() 메서드 사용\n",
    "print(\"직업:\", person.get(\"직업\"))\n",
    "\n",
    "# 값 수정\n",
    "person[\"나이\"] = 39\n",
    "\n",
    "# 새 엔트리 추가\n",
    "person[\"키\"] = 180.2\n",
    "\n",
    "print(person)\n",
    "print(type(person.get(\"키\")))"
   ]
  },
  {
   "cell_type": "code",
   "execution_count": 6,
   "metadata": {},
   "outputs": [
    {
     "name": "stdout",
     "output_type": "stream",
     "text": [
      "'이름' 키가 있나요? True\n",
      "'전화번호' 키가 있나요? False\n",
      "거주지 삭제 후: {'이름': '박민수', '나이': 39, '직업': '프로그래머', '키': 180.2}\n",
      "삭제된 직업: 프로그래머\n",
      "직업 삭제 후: {'이름': '박민수', '나이': 39, '키': 180.2}\n",
      "마지막 삭제된 항목: ('키', 180.2)\n",
      "popitem() 후: {'이름': '박민수', '나이': 39}\n"
     ]
    }
   ],
   "source": [
    "# 키 존재 확인\n",
    "print(\"'이름' 키가 있나요?\", \"이름\" in person)\n",
    "print(\"'전화번호' 키가 있나요?\", \"전화번호\" in person)\n",
    "\n",
    "# 키 삭제\n",
    "del person[\"거주지\"]\n",
    "print(\"거주지 삭제 후:\", person)\n",
    "\n",
    "# pop() 메서드로 삭제하며 값 반환\n",
    "job = person.pop(\"직업\")\n",
    "print(f\"삭제된 직업: {job}\")\n",
    "print(\"직업 삭제 후:\", person)\n",
    "\n",
    "# popitem(): 마지막 키-값 쌍 삭제하고 반환\n",
    "last_item = person.popitem()\n",
    "print(f\"마지막 삭제된 항목: {last_item}\")\n",
    "print(\"popitem() 후:\", person)"
   ]
  },
  {
   "cell_type": "markdown",
   "metadata": {},
   "source": [
    "## 3. 딕셔너리 메서드들\n",
    "\n",
    "딕셔너리에는 유용한 메서드들이 많이 있습니다."
   ]
  },
  {
   "cell_type": "code",
   "execution_count": 75,
   "metadata": {},
   "outputs": [
    {
     "name": "stdout",
     "output_type": "stream",
     "text": [
      "과목들: ['국어', '영어', '수학', '과학']\n",
      "국어\n",
      "영어\n",
      "수학\n",
      "과학\n",
      "점수들: [85, 92, 78, 88]\n",
      "키-값 쌍들: [('국어', 85), ('영어', 92), ('수학', 78), ('과학', 88)]\n",
      "평균 점수: 85.8\n"
     ]
    }
   ],
   "source": [
    "scores = {\n",
    "    \"국어\": 85,\n",
    "    \"영어\": 92,\n",
    "    \"수학\": 78,\n",
    "    \"과학\": 88\n",
    "}\n",
    "\n",
    "# keys(): 모든 키 반환\n",
    "# dict_keys 객체를 list로 변환하여 출력 - dict_keys는 반복 가능하지만 인덱싱이 불가능한 객체이므로\n",
    "# list로 변환하면 인덱싱과 슬라이싱이 가능한 리스트로 사용할 수 있음\n",
    "# for key in scores.keys():\n",
    "#     print(key)\n",
    "print(\"과목들:\", list(scores.keys()))\n",
    "\n",
    "# values(): 모든 값 반환\n",
    "# dict_values 객체를 list로 변환하여 출력 - dict_values도 마찬가지로 인덱싱이 불가능한 객체\n",
    "print(\"점수들:\", list(scores.values()))\n",
    "\n",
    "# items(): 모든 키-값 쌍 반환\n",
    "# dict_items 객체를 list로 변환하여 출력 - dict_items도 인덱싱이 불가능한 객체\n",
    "print(\"키-값 쌍들:\", list(scores.items()))\n",
    "\n",
    "# 평균 점수 계산\n",
    "average = sum(scores.values()) / len(scores)\n",
    "print(f\"평균 점수: {average:.1f}\")"
   ]
  },
  {
   "cell_type": "code",
   "execution_count": 71,
   "metadata": {},
   "outputs": [
    {
     "name": "stdout",
     "output_type": "stream",
     "text": [
      "병합 후: {'국어': 85, '영어': 92, '수학': 78, '과학': 20, '미술': 95, '음악': 87}\n",
      "수정 후: {'국어': 85, '영어': 92, '수학': 82, '과학': 90, '미술': 95, '음악': 87}\n",
      "setdefault 후: {'국어': 85, '영어': 92, '수학': 82, '과학': 90, '미술': 95, '음악': 87, '체육': 80}\n"
     ]
    }
   ],
   "source": [
    "# update(): 딕셔너리 병합(기존에 없으면 추가, 일치하는 키의 아이템은 값이 수정됨)\n",
    "additional_scores = {\"미술\": 95, \"음악\": 87, \"과학\": 20}\n",
    "scores.update(additional_scores)\n",
    "print(\"병합 후:\", scores)\n",
    "\n",
    "# 다른 딕셔너리로 업데이트\n",
    "corrections = {\"수학\": 82, \"과학\": 90}\n",
    "scores.update(corrections)\n",
    "print(\"수정 후:\", scores)\n",
    "\n",
    "# setdefault(): 키가 없으면 기본값 설정\n",
    "scores.setdefault(\"체육\", 80)  # \"체육\" 키가 없으므로 80으로 설정됨\n",
    "scores.setdefault(\"국어\", 90)  # \"국어\" 키가 이미 존재하므로 기존 값(85)이 유지됨\n",
    "print(\"setdefault 후:\", scores)\n",
    "\n",
    "# update()와 setdefault()의 차이점: \n",
    "# - 둘 다 새로운 키는 추가하지만, 기존 키가 있을 때는 다르게 동작\n",
    "# - update(): 기존 키의 값을 새로운 값으로 덮어씀\n",
    "# - setdefault(): 기존 키의 값을 유지하고 새로운 값은 무시"
   ]
  },
  {
   "cell_type": "markdown",
   "metadata": {},
   "source": [
    "## 4. 딕셔너리 반복문\n",
    "\n",
    "딕셔너리를 반복할 때는 키, 값, 또는 키-값 쌍을 순회할 수 있습니다."
   ]
  },
  {
   "cell_type": "code",
   "execution_count": 72,
   "metadata": {},
   "outputs": [
    {
     "name": "stdout",
     "output_type": "stream",
     "text": [
      "=== 과일 목록 ===\n",
      "- 사과\n",
      "- 바나나\n",
      "- 오렌지\n",
      "- 포도\n",
      "\n",
      "=== 재고 현황 ===\n",
      "사과: 150개\n",
      "바나나: 80개\n",
      "오렌지: 200개\n",
      "포도: 120개\n",
      "\n",
      "=== 재고 수량만 ===\n",
      "150개\n",
      "80개\n",
      "200개\n",
      "120개\n",
      "\n",
      "=== 전체 재고 ===\n",
      "사과: 150개\n",
      "바나나: 80개\n",
      "오렌지: 200개\n",
      "포도: 120개\n"
     ]
    }
   ],
   "source": [
    "inventory = {\n",
    "    \"사과\": 150,\n",
    "    \"바나나\": 80,\n",
    "    \"오렌지\": 200,\n",
    "    \"포도\": 120\n",
    "}\n",
    "\n",
    "# 키만 순회\n",
    "print(\"=== 과일 목록 ===\")\n",
    "for fruit in inventory:\n",
    "    print(f\"- {fruit}\")\n",
    "\n",
    "# 키를 명시적으로 순회\n",
    "print(\"\\n=== 재고 현황 ===\")\n",
    "for fruit in inventory.keys():\n",
    "    print(f\"{fruit}: {inventory[fruit]}개\")\n",
    "\n",
    "# 값만 순회\n",
    "print(\"\\n=== 재고 수량만 ===\")\n",
    "for quantity in inventory.values():\n",
    "    print(f\"{quantity}개\")\n",
    "\n",
    "# 키-값 쌍 순회\n",
    "print(\"\\n=== 전체 재고 ===\")\n",
    "for fruit, quantity in inventory.items():\n",
    "    print(f\"{fruit}: {quantity}개\")"
   ]
  },
  {
   "cell_type": "markdown",
   "metadata": {},
   "source": [
    "## 5. 딕셔너리 컴프리헨션\n",
    "\n",
    "리스트 컴프리헨션처럼 딕셔너리도 간결하게 생성할 수 있습니다."
   ]
  },
  {
   "cell_type": "code",
   "execution_count": 52,
   "metadata": {},
   "outputs": [
    {
     "name": "stdout",
     "output_type": "stream",
     "text": [
      "제곱 딕셔너리: {1: 1, 2: 4, 3: 9, 4: 16, 5: 25}\n",
      "단어 길이: {'파이썬': 3, '프로그래밍': 5, '재미있다': 4, '어렵다': 3}\n",
      "짝수의 제곱: {2: 4, 4: 16, 6: 36, 8: 64, 10: 100}\n",
      "화씨 온도: {'서울': 59.0, '부산': 64.4, '대구': 60.8, '광주': 62.6}\n"
     ]
    }
   ],
   "source": [
    "# 기본 딕셔너리 컴프리헨션 컴프리헨션\n",
    "squares = {x: x**2 for x in range(1, 6)}\n",
    "print(\"제곱 딕셔너리:\", squares)\n",
    "\n",
    "# 문자열 길이 딕셔너리 컴프리헨션\n",
    "words = ['파이썬', '프로그래밍', '재미있다', '어렵다']\n",
    "word_lengths = {word: len(word) for word in words}\n",
    "print(\"단어 길이 딕셔너리:\", word_lengths)\n",
    "\n",
    "# 조건부 딕셔너리 컴프리헨션\n",
    "numbers = range(1, 11)\n",
    "even_squares = {x: x**2 for x in numbers if x % 2 == 0}\n",
    "print(\"짝수의 제곱 딕셔너리:\", even_squares)\n",
    "\n",
    "# 기존 딕셔너리 변환\n",
    "celsius = {'서울': 15, '부산': 18, '대구': 16, '광주': 17}\n",
    "fahrenheit = {city: (temp * 9/5) + 32 for city, temp in celsius.items()}\n",
    "print(\"화씨 온도:\", fahrenheit)"
   ]
  },
  {
   "cell_type": "markdown",
   "metadata": {},
   "source": [
    "## 6. 중첩 딕셔너리\n",
    "\n",
    "딕셔너리 안에 딕셔너리를 포함할 수 있습니다."
   ]
  },
  {
   "cell_type": "code",
   "execution_count": 73,
   "metadata": {},
   "outputs": [
    {
     "name": "stdout",
     "output_type": "stream",
     "text": [
      "김철수의 성적:\n",
      "  국어: 85점\n",
      "  영어: 92점\n",
      "  수학: 78점\n",
      "\n",
      "학생별 평균:\n",
      "김철수: 85.0점\n",
      "이영희: 90.7점\n",
      "박민수: 91.0점\n",
      "\n",
      "과목별 평균:\n",
      "국어: 88.3점\n",
      "영어: 91.3점\n",
      "수학: 87.0점\n"
     ]
    }
   ],
   "source": [
    "# 학생들의 성적 정보\n",
    "students = {\n",
    "    \"김철수\": {\n",
    "        \"국어\": 85,\n",
    "        \"영어\": 92,\n",
    "        \"수학\": 78\n",
    "    },\n",
    "    \"이영희\": {\n",
    "        \"국어\": 88,\n",
    "        \"영어\": 95,\n",
    "        \"수학\": 89\n",
    "    },\n",
    "    \"박민수\": {\n",
    "        \"국어\": 92,\n",
    "        \"영어\": 87,\n",
    "        \"수학\": 94\n",
    "    }\n",
    "}\n",
    "\n",
    "# 특정 학생의 성적 출력\n",
    "print(\"김철수의 성적:\")\n",
    "for subject, score in students[\"김철수\"].items():\n",
    "    print(f\"  {subject}: {score}점\")\n",
    "\n",
    "# 모든 학생의 평균 계산\n",
    "print(\"\\n학생별 평균:\")\n",
    "for name, scores in students.items():\n",
    "    average = sum(scores.values()) / len(scores)\n",
    "    print(f\"{name}: {average:.1f}점\")\n",
    "\n",
    "# 과목별 평균 계산\n",
    "subjects = [\"국어\", \"영어\", \"수학\"]\n",
    "print(\"\\n과목별 평균:\")\n",
    "for subject in subjects:\n",
    "    total = sum(student[subject] for student in students.values())\n",
    "    average = total / len(students)\n",
    "    print(f\"{subject}: {average:.1f}점\")"
   ]
  },
  {
   "cell_type": "markdown",
   "metadata": {},
   "source": [
    "## 7. 딕셔너리 실용 예제\n",
    "\n",
    "### 7.1 단어 빈도 계산"
   ]
  },
  {
   "cell_type": "code",
   "execution_count": 54,
   "metadata": {},
   "outputs": [
    {
     "name": "stdout",
     "output_type": "stream",
     "text": [
      "단어 빈도:\n",
      "파이썬은: 1번\n",
      "재미있다: 2번\n",
      "파이썬으로: 1번\n",
      "프로그래밍하는: 1번\n",
      "것은: 1번\n",
      "정말: 1번\n"
     ]
    }
   ],
   "source": [
    "def count_words(text):\n",
    "    \"\"\"텍스트에서 단어 빈도를 계산하는 함수\"\"\"\n",
    "    words = text.lower().split()\n",
    "    word_count = {}\n",
    "    \n",
    "    for word in words:\n",
    "        # 구두점 제거\n",
    "        word = word.strip('.,!?\"')\n",
    "        if word:\n",
    "            word_count[word] = word_count.get(word, 0) + 1\n",
    "    \n",
    "    return word_count\n",
    "\n",
    "# 테스트\n",
    "text = \"파이썬은 재미있다. 파이썬으로 프로그래밍하는 것은 정말 재미있다.\"\n",
    "word_freq = count_words(text)\n",
    "\n",
    "print(\"단어 빈도:\")\n",
    "for word, count in word_freq.items():\n",
    "    print(f\"{word}: {count}번\")"
   ]
  },
  {
   "cell_type": "markdown",
   "metadata": {},
   "source": [
    "### 7.2 전화번호부"
   ]
  },
  {
   "cell_type": "code",
   "execution_count": 55,
   "metadata": {},
   "outputs": [
    {
     "name": "stdout",
     "output_type": "stream",
     "text": [
      "김철수 번호: 010-1234-5678\n",
      "홍길동 번호: 등록되지 않은 이름입니다.\n",
      "홍길동의 연락처가 추가되었습니다.\n",
      "홍길동 번호: 010-5678-9012\n",
      "\n",
      "전체 연락처:\n",
      "김철수: 010-1234-5678\n",
      "이영희: 010-2345-6789\n",
      "박민수: 010-3456-7890\n",
      "최지연: 010-4567-8901\n",
      "홍길동: 010-5678-9012\n"
     ]
    }
   ],
   "source": [
    "# 전화번호부 딕셔너리\n",
    "phonebook = {\n",
    "    \"김철수\": \"010-1234-5678\",\n",
    "    \"이영희\": \"010-2345-6789\",\n",
    "    \"박민수\": \"010-3456-7890\",\n",
    "    \"최지연\": \"010-4567-8901\"\n",
    "}\n",
    "\n",
    "def search_number(name):\n",
    "    \"\"\"이름으로 전화번호 검색\"\"\"\n",
    "    return phonebook.get(name, \"등록되지 않은 이름입니다.\")\n",
    "\n",
    "def add_contact(name, number):\n",
    "    \"\"\"새 연락처 추가\"\"\"\n",
    "    phonebook[name] = number\n",
    "    print(f\"{name}의 연락처가 추가되었습니다.\")\n",
    "\n",
    "def remove_contact(name):\n",
    "    \"\"\"연락처 삭제\"\"\"\n",
    "    if name in phonebook:\n",
    "        del phonebook[name]\n",
    "        print(f\"{name}의 연락처가 삭제되었습니다.\")\n",
    "    else:\n",
    "        print(f\"{name}은 등록되지 않은 이름입니다.\")\n",
    "\n",
    "# 테스트\n",
    "print(\"김철수 번호:\", search_number(\"김철수\"))\n",
    "print(\"홍길동 번호:\", search_number(\"홍길동\"))\n",
    "\n",
    "add_contact(\"홍길동\", \"010-5678-9012\")\n",
    "print(\"홍길동 번호:\", search_number(\"홍길동\"))\n",
    "\n",
    "print(\"\\n전체 연락처:\")\n",
    "for name, number in phonebook.items():\n",
    "    print(f\"{name}: {number}\")"
   ]
  },
  {
   "cell_type": "markdown",
   "metadata": {},
   "source": [
    "## 8. 실습 문제"
   ]
  },
  {
   "cell_type": "code",
   "execution_count": 56,
   "metadata": {},
   "outputs": [
    {
     "name": "stdout",
     "output_type": "stream",
     "text": [
      "과일 빈도수: {'사과': 3, '바나나': 2, '오렌지': 1, '포도': 1}\n"
     ]
    }
   ],
   "source": [
    "# 문제 1: 다음 리스트에서 각 요소의 빈도수를 딕셔너리로 만드세요\n",
    "fruits = ['사과', '바나나', '사과', '오렌지', '바나나', '사과', '포도']\n",
    "# 여기에 코드를 작성하세요\n",
    "fruit_count = {}\n",
    "for fruit in fruits:\n",
    "    fruit_count[fruit] = fruit_count.get(fruit, 0) + 1\n",
    "\n",
    "print(\"과일 빈도수:\", fruit_count)"
   ]
  },
  {
   "cell_type": "code",
   "execution_count": 57,
   "metadata": {},
   "outputs": [
    {
     "name": "stdout",
     "output_type": "stream",
     "text": [
      "합친 딕셔너리: {'a': 1, 'b': 2, 'c': 4, 'd': 5, 'e': 6}\n"
     ]
    }
   ],
   "source": [
    "# 문제 2: 두 딕셔너리를 합치는 함수를 만드세요\n",
    "def merge_dicts(dict1, dict2):\n",
    "    \"\"\"두 딕셔너리를 합치는 함수 (같은 키가 있으면 dict2의 값 우선)\"\"\"\n",
    "    result = dict1.copy()\n",
    "    result.update(dict2)\n",
    "    return result\n",
    "\n",
    "# 테스트\n",
    "dict1 = {'a': 1, 'b': 2, 'c': 3}\n",
    "dict2 = {'c': 4, 'd': 5, 'e': 6}\n",
    "merged = merge_dicts(dict1, dict2)\n",
    "print(\"합친 딕셔너리:\", merged)"
   ]
  },
  {
   "cell_type": "code",
   "execution_count": 58,
   "metadata": {},
   "outputs": [
    {
     "name": "stdout",
     "output_type": "stream",
     "text": [
      "학생별 최고/최저 점수:\n",
      "김철수: 최고 92점, 최저 78점\n",
      "이영희: 최고 95점, 최저 87점\n",
      "박민수: 최고 90점, 최저 78점\n"
     ]
    }
   ],
   "source": [
    "# 문제 3: 학생 성적에서 각 학생의 최고 점수와 최저 점수를 찾으세요\n",
    "student_scores = {\n",
    "    \"김철수\": [85, 92, 78, 88],\n",
    "    \"이영희\": [95, 87, 92, 89],\n",
    "    \"박민수\": [78, 85, 90, 82]\n",
    "}\n",
    "\n",
    "# 여기에 코드를 작성하세요\n",
    "print(\"학생별 최고/최저 점수:\")\n",
    "for name, scores in student_scores.items():\n",
    "    max_score = max(scores)\n",
    "    min_score = min(scores)\n",
    "    print(f\"{name}: 최고 {max_score}점, 최저 {min_score}점\")"
   ]
  },
  {
   "cell_type": "markdown",
   "metadata": {},
   "source": [
    "## 정리\n",
    "\n",
    "이번 장에서 배운 내용:\n",
    "1. **딕셔너리 기본**: 키-값 쌍으로 데이터 저장\n",
    "2. **생성 방법**: { }, dict(), zip() 등 다양한 방법\n",
    "3. **접근과 수정**: [ ], get(), 키 추가/삭제\n",
    "4. **주요 메서드**: keys(), values(), items(), update() 등\n",
    "5. **반복문**: 키, 값, 키-값 쌍 순회\n",
    "6. **컴프리헨션**: 간결한 딕셔너리 생성\n",
    "7. **중첩 딕셔너리**: 복잡한 데이터 구조 표현\n",
    "\n",
    "**딕셔너리 활용 분야:**\n",
    "- 데이터베이스 레코드 표현\n",
    "- 설정 파일 구조\n",
    "- 빈도수 계산\n",
    "- 매핑 테이블\n",
    "- JSON 데이터 처리\n",
    "\n",
    "다음 장에서는 집합(Set)에 대해 알아보겠습니다!"
   ]
  }
 ],
 "metadata": {
  "kernelspec": {
   "display_name": "pystudy_env",
   "language": "python",
   "name": "python3"
  },
  "language_info": {
   "codemirror_mode": {
    "name": "ipython",
    "version": 3
   },
   "file_extension": ".py",
   "mimetype": "text/x-python",
   "name": "python",
   "nbconvert_exporter": "python",
   "pygments_lexer": "ipython3",
   "version": "3.12.7"
  }
 },
 "nbformat": 4,
 "nbformat_minor": 4
}
